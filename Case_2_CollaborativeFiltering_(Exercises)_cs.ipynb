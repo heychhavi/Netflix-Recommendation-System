{
  "cells": [
    {
      "cell_type": "markdown",
      "source": [
        "# Case 2: Collaborative Filtering via Deep Learning\n",
        "-----\n",
        "\n",
        "In this case, there are two main tasks:\n",
        "\n",
        "- First, you need to build a deep learning model to predict the movie ratings.\n",
        "\n",
        "- Then you will analyze the predicted ratings and provide an estimate of the movie valuation."
      ],
      "metadata": {
        "id": "QIfCyzbWk2Ju"
      }
    },
    {
      "cell_type": "markdown",
      "source": [
        "## Instructions\n",
        "\n",
        "You need to fill in the missing code and submit the following files on Canvas\n",
        "site:\n",
        "\n",
        "1. A report in the pdf format containing the plots and the answers to the questions stated in the provided Jupyter notebook (Please read carefully the notebook and make sure answer every question);\n",
        "\n",
        "2. The complete Jupyter notebook containing all your PyTorch code with explanations, along with\n",
        "a Markdown text explaining different parts if needed."
      ],
      "metadata": {
        "id": "rITytN_mk5cW"
      }
    },
    {
      "cell_type": "markdown",
      "metadata": {
        "id": "tkEE3Ghd9azj"
      },
      "source": [
        "---\n",
        "## Introduction\n",
        "\n",
        "One very common problem to solve is when you have a number of users and a number of products, and you want to recommend which products are most likely to be useful for which users. There are many variations of this: for example, recommending movies (such as on Netflix), figuring out what to highlight for a user on a home page, deciding what stories to show in a social media feed, and so forth. There is a general solution to this problem, called *collaborative filtering*, which works like this: look at what products the current user has used or liked, find other users that have used or liked similar products, and then recommend other products that those users have used or liked.\n",
        "\n",
        "For example, on Netflix you may have watched lots of movies that are science fiction, full of action, and were made in the 1970s. Netflix may not know these particular properties of the films you have watched, but it will be able to see that other people that have watched the same movies that you watched also tended to watch other movies that are science fiction, full of action, and were made in the 1970s. In other words, to use this approach we don't necessarily need to know anything about the movies, except who like to watch them.\n",
        "\n",
        "There is actually a more general class of problems that this approach can solve, not necessarily involving users and products. Indeed, for collaborative filtering we more commonly refer to *items*, rather than *products*. Items could be links that people click on, diagnoses that are selected for patients, and so forth.\n",
        "\n",
        "The key foundational idea is that of *latent factors*. In the Netflix example, we started with the assumption that you like old, action-packed sci-fi movies. But you never actually told Netflix that you like these kinds of movies. And Netflix never actually needed to add columns to its movies table saying which movies are of these types. Still, there must be some underlying concept of sci-fi, action, and movie age, and these concepts must be relevant for at least some people's movie watching decisions.\n",
        "\n"
      ]
    },
    {
      "cell_type": "markdown",
      "source": [
        "---\n",
        "In this case, we'll build an explicit feedback recommender system: that is, a model that takes into account explicit feedback signals (like ratings) to recommend new content. We'll use an approach first made popular by the [Netflix prize](https://en.wikipedia.org/wiki/Netflix_Prize) contest: [matrix factorization](https://datajobs.com/data-science-repo/Recommender-Systems-[Netflix].pdf).\n",
        "\n",
        "The basic idea is very simple:\n",
        "\n",
        "1. Start with user-item-rating triplets, conveying the information that user _i_ gave some item _j_ rating _r_.\n",
        "2. Represent both users and items as high-dimensional vectors of numbers. For example, a user could be represented by `[0.3, -1.2, 0.5]` and an item by `[1.0, -0.3, -0.6]`.\n",
        "3. The representations should be chosen so that, when we multiplied together (via [dot products](https://en.wikipedia.org/wiki/Dot_product)), we can recover the original ratings.\n",
        "4. The utility of the model then is derived from the fact that if we multiply the user vector of a user with the item vector of some item they _have not_ rated, we hope to obtain a predicition for the rating they would have given to it had they seen it.\n",
        "\n",
        "<img src='https://storage.googleapis.com/gweb-cloudblog-publish/images/f1-collab_filtering.max-900x900.png?raw=true' width=50% />"
      ],
      "metadata": {
        "id": "Ov5kAMHECNyW"
      }
    },
    {
      "cell_type": "markdown",
      "metadata": {
        "id": "pK7DyF_ZUUDQ"
      },
      "source": [
        "We do not have access to Netflix's entire dataset of movie watching history, but there is a great dataset that we can use, called [MovieLens](https://grouplens.org/datasets/movielens/). This dataset contains tens of millions of movie rankings (a combination of a movie ID, a user ID, and a numeric rating).\n",
        "\n",
        "We start with importing the [Movielens 1M dataset](https://grouplens.org/datasets/movielens/1M/).  It contains 1,000,209 anonymous ratings of approximately 3,706 movies made by 6,040 MovieLens users who joined MovieLens in 2000."
      ]
    },
    {
      "cell_type": "markdown",
      "metadata": {
        "id": "OeHGO4qbUUC4"
      },
      "source": [
        "## Preparations"
      ]
    },
    {
      "cell_type": "markdown",
      "source": [
        "We first import the packages and download the data."
      ],
      "metadata": {
        "id": "lvWi4dUf1dQx"
      }
    },
    {
      "cell_type": "code",
      "execution_count": 1,
      "metadata": {
        "id": "frj5rX9wUUC_"
      },
      "outputs": [],
      "source": [
        "%matplotlib inline\n",
        "import matplotlib.pyplot as plt\n",
        "import numpy as np\n",
        "import os.path as op\n",
        "import imp\n",
        "import numpy as np\n",
        "\n",
        "from zipfile import ZipFile\n",
        "try:\n",
        "    from urllib.request import urlretrieve\n",
        "except ImportError:  # Python 2 compat\n",
        "    from urllib import urlretrieve\n",
        "\n",
        "# this line need to be changed if not on colab:\n",
        "data_folder = '/content/'\n",
        "\n",
        "\n",
        "ML_1M_URL = \"http://files.grouplens.org/datasets/movielens/ml-1m.zip\"\n",
        "ML_1M_FILENAME = op.join(data_folder,ML_1M_URL.rsplit('/', 1)[1])\n",
        "ML_1M_FOLDER = op.join(data_folder,'ml-1m')"
      ]
    },
    {
      "cell_type": "code",
      "execution_count": 2,
      "metadata": {
        "id": "utzHaMDsV1Bq"
      },
      "outputs": [],
      "source": [
        "if not op.exists(ML_1M_FILENAME):\n",
        "    print('Downloading %s to %s...' % (ML_1M_URL, ML_1M_FILENAME))\n",
        "    urlretrieve(ML_1M_URL, ML_1M_FILENAME)\n",
        "\n",
        "if not op.exists(ML_1M_FOLDER):\n",
        "    print('Extracting %s to %s...' % (ML_1M_FILENAME, ML_1M_FOLDER))\n",
        "    ZipFile(ML_1M_FILENAME).extractall(data_folder)"
      ]
    },
    {
      "cell_type": "markdown",
      "source": [
        "There are four different files:\n",
        "\n",
        "- README\n",
        "- movies.dat\n",
        "- ratings.dat\n",
        "- users.dat\n",
        "\n",
        "You may read README to get the description of each dat files."
      ],
      "metadata": {
        "id": "omZ80S7J1voX"
      }
    },
    {
      "cell_type": "markdown",
      "metadata": {
        "id": "hHgLg4jBUUDp"
      },
      "source": [
        "## Data analysis and formating"
      ]
    },
    {
      "cell_type": "markdown",
      "metadata": {
        "id": "ZlGyPSBpUUDt"
      },
      "source": [
        "We start by loading the data with [Python Data Analysis Library](http://pandas.pydata.org/)\n",
        "\n",
        "Note that the columns are separated by :: in the data."
      ]
    },
    {
      "cell_type": "code",
      "execution_count": 3,
      "metadata": {
        "id": "Qk6Vp83IV1Bv",
        "colab": {
          "base_uri": "https://localhost:8080/",
          "height": 206
        },
        "outputId": "a9356081-1a58-43d7-a793-6e705eb5b92f"
      },
      "outputs": [
        {
          "output_type": "execute_result",
          "data": {
            "text/plain": [
              "   user_id  item_id  ratings  timestamp\n",
              "0        1     1193        5  978300760\n",
              "1        1      661        3  978302109\n",
              "2        1      914        3  978301968\n",
              "3        1     3408        4  978300275\n",
              "4        1     2355        5  978824291"
            ],
            "text/html": [
              "\n",
              "  <div id=\"df-fb0b2944-9b59-49c0-9a55-988e532ce028\" class=\"colab-df-container\">\n",
              "    <div>\n",
              "<style scoped>\n",
              "    .dataframe tbody tr th:only-of-type {\n",
              "        vertical-align: middle;\n",
              "    }\n",
              "\n",
              "    .dataframe tbody tr th {\n",
              "        vertical-align: top;\n",
              "    }\n",
              "\n",
              "    .dataframe thead th {\n",
              "        text-align: right;\n",
              "    }\n",
              "</style>\n",
              "<table border=\"1\" class=\"dataframe\">\n",
              "  <thead>\n",
              "    <tr style=\"text-align: right;\">\n",
              "      <th></th>\n",
              "      <th>user_id</th>\n",
              "      <th>item_id</th>\n",
              "      <th>ratings</th>\n",
              "      <th>timestamp</th>\n",
              "    </tr>\n",
              "  </thead>\n",
              "  <tbody>\n",
              "    <tr>\n",
              "      <th>0</th>\n",
              "      <td>1</td>\n",
              "      <td>1193</td>\n",
              "      <td>5</td>\n",
              "      <td>978300760</td>\n",
              "    </tr>\n",
              "    <tr>\n",
              "      <th>1</th>\n",
              "      <td>1</td>\n",
              "      <td>661</td>\n",
              "      <td>3</td>\n",
              "      <td>978302109</td>\n",
              "    </tr>\n",
              "    <tr>\n",
              "      <th>2</th>\n",
              "      <td>1</td>\n",
              "      <td>914</td>\n",
              "      <td>3</td>\n",
              "      <td>978301968</td>\n",
              "    </tr>\n",
              "    <tr>\n",
              "      <th>3</th>\n",
              "      <td>1</td>\n",
              "      <td>3408</td>\n",
              "      <td>4</td>\n",
              "      <td>978300275</td>\n",
              "    </tr>\n",
              "    <tr>\n",
              "      <th>4</th>\n",
              "      <td>1</td>\n",
              "      <td>2355</td>\n",
              "      <td>5</td>\n",
              "      <td>978824291</td>\n",
              "    </tr>\n",
              "  </tbody>\n",
              "</table>\n",
              "</div>\n",
              "    <div class=\"colab-df-buttons\">\n",
              "\n",
              "  <div class=\"colab-df-container\">\n",
              "    <button class=\"colab-df-convert\" onclick=\"convertToInteractive('df-fb0b2944-9b59-49c0-9a55-988e532ce028')\"\n",
              "            title=\"Convert this dataframe to an interactive table.\"\n",
              "            style=\"display:none;\">\n",
              "\n",
              "  <svg xmlns=\"http://www.w3.org/2000/svg\" height=\"24px\" viewBox=\"0 -960 960 960\">\n",
              "    <path d=\"M120-120v-720h720v720H120Zm60-500h600v-160H180v160Zm220 220h160v-160H400v160Zm0 220h160v-160H400v160ZM180-400h160v-160H180v160Zm440 0h160v-160H620v160ZM180-180h160v-160H180v160Zm440 0h160v-160H620v160Z\"/>\n",
              "  </svg>\n",
              "    </button>\n",
              "\n",
              "  <style>\n",
              "    .colab-df-container {\n",
              "      display:flex;\n",
              "      gap: 12px;\n",
              "    }\n",
              "\n",
              "    .colab-df-convert {\n",
              "      background-color: #E8F0FE;\n",
              "      border: none;\n",
              "      border-radius: 50%;\n",
              "      cursor: pointer;\n",
              "      display: none;\n",
              "      fill: #1967D2;\n",
              "      height: 32px;\n",
              "      padding: 0 0 0 0;\n",
              "      width: 32px;\n",
              "    }\n",
              "\n",
              "    .colab-df-convert:hover {\n",
              "      background-color: #E2EBFA;\n",
              "      box-shadow: 0px 1px 2px rgba(60, 64, 67, 0.3), 0px 1px 3px 1px rgba(60, 64, 67, 0.15);\n",
              "      fill: #174EA6;\n",
              "    }\n",
              "\n",
              "    .colab-df-buttons div {\n",
              "      margin-bottom: 4px;\n",
              "    }\n",
              "\n",
              "    [theme=dark] .colab-df-convert {\n",
              "      background-color: #3B4455;\n",
              "      fill: #D2E3FC;\n",
              "    }\n",
              "\n",
              "    [theme=dark] .colab-df-convert:hover {\n",
              "      background-color: #434B5C;\n",
              "      box-shadow: 0px 1px 3px 1px rgba(0, 0, 0, 0.15);\n",
              "      filter: drop-shadow(0px 1px 2px rgba(0, 0, 0, 0.3));\n",
              "      fill: #FFFFFF;\n",
              "    }\n",
              "  </style>\n",
              "\n",
              "    <script>\n",
              "      const buttonEl =\n",
              "        document.querySelector('#df-fb0b2944-9b59-49c0-9a55-988e532ce028 button.colab-df-convert');\n",
              "      buttonEl.style.display =\n",
              "        google.colab.kernel.accessAllowed ? 'block' : 'none';\n",
              "\n",
              "      async function convertToInteractive(key) {\n",
              "        const element = document.querySelector('#df-fb0b2944-9b59-49c0-9a55-988e532ce028');\n",
              "        const dataTable =\n",
              "          await google.colab.kernel.invokeFunction('convertToInteractive',\n",
              "                                                    [key], {});\n",
              "        if (!dataTable) return;\n",
              "\n",
              "        const docLinkHtml = 'Like what you see? Visit the ' +\n",
              "          '<a target=\"_blank\" href=https://colab.research.google.com/notebooks/data_table.ipynb>data table notebook</a>'\n",
              "          + ' to learn more about interactive tables.';\n",
              "        element.innerHTML = '';\n",
              "        dataTable['output_type'] = 'display_data';\n",
              "        await google.colab.output.renderOutput(dataTable, element);\n",
              "        const docLink = document.createElement('div');\n",
              "        docLink.innerHTML = docLinkHtml;\n",
              "        element.appendChild(docLink);\n",
              "      }\n",
              "    </script>\n",
              "  </div>\n",
              "\n",
              "\n",
              "<div id=\"df-db1f7743-cad3-4dc0-9755-f991e7762b0c\">\n",
              "  <button class=\"colab-df-quickchart\" onclick=\"quickchart('df-db1f7743-cad3-4dc0-9755-f991e7762b0c')\"\n",
              "            title=\"Suggest charts\"\n",
              "            style=\"display:none;\">\n",
              "\n",
              "<svg xmlns=\"http://www.w3.org/2000/svg\" height=\"24px\"viewBox=\"0 0 24 24\"\n",
              "     width=\"24px\">\n",
              "    <g>\n",
              "        <path d=\"M19 3H5c-1.1 0-2 .9-2 2v14c0 1.1.9 2 2 2h14c1.1 0 2-.9 2-2V5c0-1.1-.9-2-2-2zM9 17H7v-7h2v7zm4 0h-2V7h2v10zm4 0h-2v-4h2v4z\"/>\n",
              "    </g>\n",
              "</svg>\n",
              "  </button>\n",
              "\n",
              "<style>\n",
              "  .colab-df-quickchart {\n",
              "      --bg-color: #E8F0FE;\n",
              "      --fill-color: #1967D2;\n",
              "      --hover-bg-color: #E2EBFA;\n",
              "      --hover-fill-color: #174EA6;\n",
              "      --disabled-fill-color: #AAA;\n",
              "      --disabled-bg-color: #DDD;\n",
              "  }\n",
              "\n",
              "  [theme=dark] .colab-df-quickchart {\n",
              "      --bg-color: #3B4455;\n",
              "      --fill-color: #D2E3FC;\n",
              "      --hover-bg-color: #434B5C;\n",
              "      --hover-fill-color: #FFFFFF;\n",
              "      --disabled-bg-color: #3B4455;\n",
              "      --disabled-fill-color: #666;\n",
              "  }\n",
              "\n",
              "  .colab-df-quickchart {\n",
              "    background-color: var(--bg-color);\n",
              "    border: none;\n",
              "    border-radius: 50%;\n",
              "    cursor: pointer;\n",
              "    display: none;\n",
              "    fill: var(--fill-color);\n",
              "    height: 32px;\n",
              "    padding: 0;\n",
              "    width: 32px;\n",
              "  }\n",
              "\n",
              "  .colab-df-quickchart:hover {\n",
              "    background-color: var(--hover-bg-color);\n",
              "    box-shadow: 0 1px 2px rgba(60, 64, 67, 0.3), 0 1px 3px 1px rgba(60, 64, 67, 0.15);\n",
              "    fill: var(--button-hover-fill-color);\n",
              "  }\n",
              "\n",
              "  .colab-df-quickchart-complete:disabled,\n",
              "  .colab-df-quickchart-complete:disabled:hover {\n",
              "    background-color: var(--disabled-bg-color);\n",
              "    fill: var(--disabled-fill-color);\n",
              "    box-shadow: none;\n",
              "  }\n",
              "\n",
              "  .colab-df-spinner {\n",
              "    border: 2px solid var(--fill-color);\n",
              "    border-color: transparent;\n",
              "    border-bottom-color: var(--fill-color);\n",
              "    animation:\n",
              "      spin 1s steps(1) infinite;\n",
              "  }\n",
              "\n",
              "  @keyframes spin {\n",
              "    0% {\n",
              "      border-color: transparent;\n",
              "      border-bottom-color: var(--fill-color);\n",
              "      border-left-color: var(--fill-color);\n",
              "    }\n",
              "    20% {\n",
              "      border-color: transparent;\n",
              "      border-left-color: var(--fill-color);\n",
              "      border-top-color: var(--fill-color);\n",
              "    }\n",
              "    30% {\n",
              "      border-color: transparent;\n",
              "      border-left-color: var(--fill-color);\n",
              "      border-top-color: var(--fill-color);\n",
              "      border-right-color: var(--fill-color);\n",
              "    }\n",
              "    40% {\n",
              "      border-color: transparent;\n",
              "      border-right-color: var(--fill-color);\n",
              "      border-top-color: var(--fill-color);\n",
              "    }\n",
              "    60% {\n",
              "      border-color: transparent;\n",
              "      border-right-color: var(--fill-color);\n",
              "    }\n",
              "    80% {\n",
              "      border-color: transparent;\n",
              "      border-right-color: var(--fill-color);\n",
              "      border-bottom-color: var(--fill-color);\n",
              "    }\n",
              "    90% {\n",
              "      border-color: transparent;\n",
              "      border-bottom-color: var(--fill-color);\n",
              "    }\n",
              "  }\n",
              "</style>\n",
              "\n",
              "  <script>\n",
              "    async function quickchart(key) {\n",
              "      const quickchartButtonEl =\n",
              "        document.querySelector('#' + key + ' button');\n",
              "      quickchartButtonEl.disabled = true;  // To prevent multiple clicks.\n",
              "      quickchartButtonEl.classList.add('colab-df-spinner');\n",
              "      try {\n",
              "        const charts = await google.colab.kernel.invokeFunction(\n",
              "            'suggestCharts', [key], {});\n",
              "      } catch (error) {\n",
              "        console.error('Error during call to suggestCharts:', error);\n",
              "      }\n",
              "      quickchartButtonEl.classList.remove('colab-df-spinner');\n",
              "      quickchartButtonEl.classList.add('colab-df-quickchart-complete');\n",
              "    }\n",
              "    (() => {\n",
              "      let quickchartButtonEl =\n",
              "        document.querySelector('#df-db1f7743-cad3-4dc0-9755-f991e7762b0c button');\n",
              "      quickchartButtonEl.style.display =\n",
              "        google.colab.kernel.accessAllowed ? 'block' : 'none';\n",
              "    })();\n",
              "  </script>\n",
              "</div>\n",
              "\n",
              "    </div>\n",
              "  </div>\n"
            ]
          },
          "metadata": {},
          "execution_count": 3
        }
      ],
      "source": [
        "import pandas as pd\n",
        "all_ratings = pd.read_csv(op.join(ML_1M_FOLDER, 'ratings.dat'), sep='::',\n",
        "                          names=[\"user_id\", \"item_id\", \"ratings\", \"timestamp\"],engine='python')\n",
        "all_ratings.head()"
      ]
    },
    {
      "cell_type": "markdown",
      "source": [
        "When showing the data, we would rather see movie titles than their IDs. The `movies.dat` contains the correspondence of IDs to movie titles."
      ],
      "metadata": {
        "id": "BiYoxkZqDbVo"
      }
    },
    {
      "cell_type": "code",
      "execution_count": 4,
      "metadata": {
        "id": "UDPeRguMV1Bz",
        "scrolled": true,
        "colab": {
          "base_uri": "https://localhost:8080/",
          "height": 206
        },
        "outputId": "0257ef09-a21d-4cde-deb0-82d32638ad15"
      },
      "outputs": [
        {
          "output_type": "execute_result",
          "data": {
            "text/plain": [
              "  item_id                           item_name\n",
              "0       1                    Toy Story (1995)\n",
              "1       2                      Jumanji (1995)\n",
              "2       3             Grumpier Old Men (1995)\n",
              "3       4            Waiting to Exhale (1995)\n",
              "4       5  Father of the Bride Part II (1995)"
            ],
            "text/html": [
              "\n",
              "  <div id=\"df-ff784672-cd63-4b8e-99d0-b19a3a110dc0\" class=\"colab-df-container\">\n",
              "    <div>\n",
              "<style scoped>\n",
              "    .dataframe tbody tr th:only-of-type {\n",
              "        vertical-align: middle;\n",
              "    }\n",
              "\n",
              "    .dataframe tbody tr th {\n",
              "        vertical-align: top;\n",
              "    }\n",
              "\n",
              "    .dataframe thead th {\n",
              "        text-align: right;\n",
              "    }\n",
              "</style>\n",
              "<table border=\"1\" class=\"dataframe\">\n",
              "  <thead>\n",
              "    <tr style=\"text-align: right;\">\n",
              "      <th></th>\n",
              "      <th>item_id</th>\n",
              "      <th>item_name</th>\n",
              "    </tr>\n",
              "  </thead>\n",
              "  <tbody>\n",
              "    <tr>\n",
              "      <th>0</th>\n",
              "      <td>1</td>\n",
              "      <td>Toy Story (1995)</td>\n",
              "    </tr>\n",
              "    <tr>\n",
              "      <th>1</th>\n",
              "      <td>2</td>\n",
              "      <td>Jumanji (1995)</td>\n",
              "    </tr>\n",
              "    <tr>\n",
              "      <th>2</th>\n",
              "      <td>3</td>\n",
              "      <td>Grumpier Old Men (1995)</td>\n",
              "    </tr>\n",
              "    <tr>\n",
              "      <th>3</th>\n",
              "      <td>4</td>\n",
              "      <td>Waiting to Exhale (1995)</td>\n",
              "    </tr>\n",
              "    <tr>\n",
              "      <th>4</th>\n",
              "      <td>5</td>\n",
              "      <td>Father of the Bride Part II (1995)</td>\n",
              "    </tr>\n",
              "  </tbody>\n",
              "</table>\n",
              "</div>\n",
              "    <div class=\"colab-df-buttons\">\n",
              "\n",
              "  <div class=\"colab-df-container\">\n",
              "    <button class=\"colab-df-convert\" onclick=\"convertToInteractive('df-ff784672-cd63-4b8e-99d0-b19a3a110dc0')\"\n",
              "            title=\"Convert this dataframe to an interactive table.\"\n",
              "            style=\"display:none;\">\n",
              "\n",
              "  <svg xmlns=\"http://www.w3.org/2000/svg\" height=\"24px\" viewBox=\"0 -960 960 960\">\n",
              "    <path d=\"M120-120v-720h720v720H120Zm60-500h600v-160H180v160Zm220 220h160v-160H400v160Zm0 220h160v-160H400v160ZM180-400h160v-160H180v160Zm440 0h160v-160H620v160ZM180-180h160v-160H180v160Zm440 0h160v-160H620v160Z\"/>\n",
              "  </svg>\n",
              "    </button>\n",
              "\n",
              "  <style>\n",
              "    .colab-df-container {\n",
              "      display:flex;\n",
              "      gap: 12px;\n",
              "    }\n",
              "\n",
              "    .colab-df-convert {\n",
              "      background-color: #E8F0FE;\n",
              "      border: none;\n",
              "      border-radius: 50%;\n",
              "      cursor: pointer;\n",
              "      display: none;\n",
              "      fill: #1967D2;\n",
              "      height: 32px;\n",
              "      padding: 0 0 0 0;\n",
              "      width: 32px;\n",
              "    }\n",
              "\n",
              "    .colab-df-convert:hover {\n",
              "      background-color: #E2EBFA;\n",
              "      box-shadow: 0px 1px 2px rgba(60, 64, 67, 0.3), 0px 1px 3px 1px rgba(60, 64, 67, 0.15);\n",
              "      fill: #174EA6;\n",
              "    }\n",
              "\n",
              "    .colab-df-buttons div {\n",
              "      margin-bottom: 4px;\n",
              "    }\n",
              "\n",
              "    [theme=dark] .colab-df-convert {\n",
              "      background-color: #3B4455;\n",
              "      fill: #D2E3FC;\n",
              "    }\n",
              "\n",
              "    [theme=dark] .colab-df-convert:hover {\n",
              "      background-color: #434B5C;\n",
              "      box-shadow: 0px 1px 3px 1px rgba(0, 0, 0, 0.15);\n",
              "      filter: drop-shadow(0px 1px 2px rgba(0, 0, 0, 0.3));\n",
              "      fill: #FFFFFF;\n",
              "    }\n",
              "  </style>\n",
              "\n",
              "    <script>\n",
              "      const buttonEl =\n",
              "        document.querySelector('#df-ff784672-cd63-4b8e-99d0-b19a3a110dc0 button.colab-df-convert');\n",
              "      buttonEl.style.display =\n",
              "        google.colab.kernel.accessAllowed ? 'block' : 'none';\n",
              "\n",
              "      async function convertToInteractive(key) {\n",
              "        const element = document.querySelector('#df-ff784672-cd63-4b8e-99d0-b19a3a110dc0');\n",
              "        const dataTable =\n",
              "          await google.colab.kernel.invokeFunction('convertToInteractive',\n",
              "                                                    [key], {});\n",
              "        if (!dataTable) return;\n",
              "\n",
              "        const docLinkHtml = 'Like what you see? Visit the ' +\n",
              "          '<a target=\"_blank\" href=https://colab.research.google.com/notebooks/data_table.ipynb>data table notebook</a>'\n",
              "          + ' to learn more about interactive tables.';\n",
              "        element.innerHTML = '';\n",
              "        dataTable['output_type'] = 'display_data';\n",
              "        await google.colab.output.renderOutput(dataTable, element);\n",
              "        const docLink = document.createElement('div');\n",
              "        docLink.innerHTML = docLinkHtml;\n",
              "        element.appendChild(docLink);\n",
              "      }\n",
              "    </script>\n",
              "  </div>\n",
              "\n",
              "\n",
              "<div id=\"df-fa570748-17c7-4017-9e8a-9db04d28e208\">\n",
              "  <button class=\"colab-df-quickchart\" onclick=\"quickchart('df-fa570748-17c7-4017-9e8a-9db04d28e208')\"\n",
              "            title=\"Suggest charts\"\n",
              "            style=\"display:none;\">\n",
              "\n",
              "<svg xmlns=\"http://www.w3.org/2000/svg\" height=\"24px\"viewBox=\"0 0 24 24\"\n",
              "     width=\"24px\">\n",
              "    <g>\n",
              "        <path d=\"M19 3H5c-1.1 0-2 .9-2 2v14c0 1.1.9 2 2 2h14c1.1 0 2-.9 2-2V5c0-1.1-.9-2-2-2zM9 17H7v-7h2v7zm4 0h-2V7h2v10zm4 0h-2v-4h2v4z\"/>\n",
              "    </g>\n",
              "</svg>\n",
              "  </button>\n",
              "\n",
              "<style>\n",
              "  .colab-df-quickchart {\n",
              "      --bg-color: #E8F0FE;\n",
              "      --fill-color: #1967D2;\n",
              "      --hover-bg-color: #E2EBFA;\n",
              "      --hover-fill-color: #174EA6;\n",
              "      --disabled-fill-color: #AAA;\n",
              "      --disabled-bg-color: #DDD;\n",
              "  }\n",
              "\n",
              "  [theme=dark] .colab-df-quickchart {\n",
              "      --bg-color: #3B4455;\n",
              "      --fill-color: #D2E3FC;\n",
              "      --hover-bg-color: #434B5C;\n",
              "      --hover-fill-color: #FFFFFF;\n",
              "      --disabled-bg-color: #3B4455;\n",
              "      --disabled-fill-color: #666;\n",
              "  }\n",
              "\n",
              "  .colab-df-quickchart {\n",
              "    background-color: var(--bg-color);\n",
              "    border: none;\n",
              "    border-radius: 50%;\n",
              "    cursor: pointer;\n",
              "    display: none;\n",
              "    fill: var(--fill-color);\n",
              "    height: 32px;\n",
              "    padding: 0;\n",
              "    width: 32px;\n",
              "  }\n",
              "\n",
              "  .colab-df-quickchart:hover {\n",
              "    background-color: var(--hover-bg-color);\n",
              "    box-shadow: 0 1px 2px rgba(60, 64, 67, 0.3), 0 1px 3px 1px rgba(60, 64, 67, 0.15);\n",
              "    fill: var(--button-hover-fill-color);\n",
              "  }\n",
              "\n",
              "  .colab-df-quickchart-complete:disabled,\n",
              "  .colab-df-quickchart-complete:disabled:hover {\n",
              "    background-color: var(--disabled-bg-color);\n",
              "    fill: var(--disabled-fill-color);\n",
              "    box-shadow: none;\n",
              "  }\n",
              "\n",
              "  .colab-df-spinner {\n",
              "    border: 2px solid var(--fill-color);\n",
              "    border-color: transparent;\n",
              "    border-bottom-color: var(--fill-color);\n",
              "    animation:\n",
              "      spin 1s steps(1) infinite;\n",
              "  }\n",
              "\n",
              "  @keyframes spin {\n",
              "    0% {\n",
              "      border-color: transparent;\n",
              "      border-bottom-color: var(--fill-color);\n",
              "      border-left-color: var(--fill-color);\n",
              "    }\n",
              "    20% {\n",
              "      border-color: transparent;\n",
              "      border-left-color: var(--fill-color);\n",
              "      border-top-color: var(--fill-color);\n",
              "    }\n",
              "    30% {\n",
              "      border-color: transparent;\n",
              "      border-left-color: var(--fill-color);\n",
              "      border-top-color: var(--fill-color);\n",
              "      border-right-color: var(--fill-color);\n",
              "    }\n",
              "    40% {\n",
              "      border-color: transparent;\n",
              "      border-right-color: var(--fill-color);\n",
              "      border-top-color: var(--fill-color);\n",
              "    }\n",
              "    60% {\n",
              "      border-color: transparent;\n",
              "      border-right-color: var(--fill-color);\n",
              "    }\n",
              "    80% {\n",
              "      border-color: transparent;\n",
              "      border-right-color: var(--fill-color);\n",
              "      border-bottom-color: var(--fill-color);\n",
              "    }\n",
              "    90% {\n",
              "      border-color: transparent;\n",
              "      border-bottom-color: var(--fill-color);\n",
              "    }\n",
              "  }\n",
              "</style>\n",
              "\n",
              "  <script>\n",
              "    async function quickchart(key) {\n",
              "      const quickchartButtonEl =\n",
              "        document.querySelector('#' + key + ' button');\n",
              "      quickchartButtonEl.disabled = true;  // To prevent multiple clicks.\n",
              "      quickchartButtonEl.classList.add('colab-df-spinner');\n",
              "      try {\n",
              "        const charts = await google.colab.kernel.invokeFunction(\n",
              "            'suggestCharts', [key], {});\n",
              "      } catch (error) {\n",
              "        console.error('Error during call to suggestCharts:', error);\n",
              "      }\n",
              "      quickchartButtonEl.classList.remove('colab-df-spinner');\n",
              "      quickchartButtonEl.classList.add('colab-df-quickchart-complete');\n",
              "    }\n",
              "    (() => {\n",
              "      let quickchartButtonEl =\n",
              "        document.querySelector('#df-fa570748-17c7-4017-9e8a-9db04d28e208 button');\n",
              "      quickchartButtonEl.style.display =\n",
              "        google.colab.kernel.accessAllowed ? 'block' : 'none';\n",
              "    })();\n",
              "  </script>\n",
              "</div>\n",
              "\n",
              "    </div>\n",
              "  </div>\n"
            ]
          },
          "metadata": {},
          "execution_count": 4
        }
      ],
      "source": [
        "list_movies_names = []\n",
        "list_item_ids = []\n",
        "with open(op.join(ML_1M_FOLDER, 'movies.dat'), encoding = \"ISO-8859-1\") as fp:\n",
        "    for line in fp:\n",
        "        list_item_ids.append(line.split('::')[0])\n",
        "        list_movies_names.append(line.split('::')[1])\n",
        "\n",
        "movies_names = pd.DataFrame(list(zip(list_item_ids, list_movies_names)),\n",
        "               columns =['item_id', 'item_name'])\n",
        "movies_names.head()"
      ]
    },
    {
      "cell_type": "markdown",
      "metadata": {
        "id": "6nVdjC0IV1B3"
      },
      "source": [
        "Here we add the title of the movies to the `all_ratings` data."
      ]
    },
    {
      "cell_type": "code",
      "execution_count": 5,
      "metadata": {
        "id": "21gIXEkXV1B4"
      },
      "outputs": [],
      "source": [
        "movies_names['item_id']=movies_names['item_id'].astype(int)\n",
        "all_ratings['item_id']=all_ratings['item_id'].astype(int)\n",
        "all_ratings = all_ratings.merge(movies_names,on='item_id')"
      ]
    },
    {
      "cell_type": "code",
      "execution_count": 6,
      "metadata": {
        "id": "_XJlXE1mV1B8",
        "colab": {
          "base_uri": "https://localhost:8080/",
          "height": 206
        },
        "outputId": "d216fda9-3e83-4fe2-b5d5-c0db59f08137"
      },
      "outputs": [
        {
          "output_type": "execute_result",
          "data": {
            "text/plain": [
              "   user_id  item_id  ratings  timestamp  \\\n",
              "0        1     1193        5  978300760   \n",
              "1        2     1193        5  978298413   \n",
              "2       12     1193        4  978220179   \n",
              "3       15     1193        4  978199279   \n",
              "4       17     1193        5  978158471   \n",
              "\n",
              "                                item_name  \n",
              "0  One Flew Over the Cuckoo's Nest (1975)  \n",
              "1  One Flew Over the Cuckoo's Nest (1975)  \n",
              "2  One Flew Over the Cuckoo's Nest (1975)  \n",
              "3  One Flew Over the Cuckoo's Nest (1975)  \n",
              "4  One Flew Over the Cuckoo's Nest (1975)  "
            ],
            "text/html": [
              "\n",
              "  <div id=\"df-90d84aa5-e0df-4393-a59b-127f39260719\" class=\"colab-df-container\">\n",
              "    <div>\n",
              "<style scoped>\n",
              "    .dataframe tbody tr th:only-of-type {\n",
              "        vertical-align: middle;\n",
              "    }\n",
              "\n",
              "    .dataframe tbody tr th {\n",
              "        vertical-align: top;\n",
              "    }\n",
              "\n",
              "    .dataframe thead th {\n",
              "        text-align: right;\n",
              "    }\n",
              "</style>\n",
              "<table border=\"1\" class=\"dataframe\">\n",
              "  <thead>\n",
              "    <tr style=\"text-align: right;\">\n",
              "      <th></th>\n",
              "      <th>user_id</th>\n",
              "      <th>item_id</th>\n",
              "      <th>ratings</th>\n",
              "      <th>timestamp</th>\n",
              "      <th>item_name</th>\n",
              "    </tr>\n",
              "  </thead>\n",
              "  <tbody>\n",
              "    <tr>\n",
              "      <th>0</th>\n",
              "      <td>1</td>\n",
              "      <td>1193</td>\n",
              "      <td>5</td>\n",
              "      <td>978300760</td>\n",
              "      <td>One Flew Over the Cuckoo's Nest (1975)</td>\n",
              "    </tr>\n",
              "    <tr>\n",
              "      <th>1</th>\n",
              "      <td>2</td>\n",
              "      <td>1193</td>\n",
              "      <td>5</td>\n",
              "      <td>978298413</td>\n",
              "      <td>One Flew Over the Cuckoo's Nest (1975)</td>\n",
              "    </tr>\n",
              "    <tr>\n",
              "      <th>2</th>\n",
              "      <td>12</td>\n",
              "      <td>1193</td>\n",
              "      <td>4</td>\n",
              "      <td>978220179</td>\n",
              "      <td>One Flew Over the Cuckoo's Nest (1975)</td>\n",
              "    </tr>\n",
              "    <tr>\n",
              "      <th>3</th>\n",
              "      <td>15</td>\n",
              "      <td>1193</td>\n",
              "      <td>4</td>\n",
              "      <td>978199279</td>\n",
              "      <td>One Flew Over the Cuckoo's Nest (1975)</td>\n",
              "    </tr>\n",
              "    <tr>\n",
              "      <th>4</th>\n",
              "      <td>17</td>\n",
              "      <td>1193</td>\n",
              "      <td>5</td>\n",
              "      <td>978158471</td>\n",
              "      <td>One Flew Over the Cuckoo's Nest (1975)</td>\n",
              "    </tr>\n",
              "  </tbody>\n",
              "</table>\n",
              "</div>\n",
              "    <div class=\"colab-df-buttons\">\n",
              "\n",
              "  <div class=\"colab-df-container\">\n",
              "    <button class=\"colab-df-convert\" onclick=\"convertToInteractive('df-90d84aa5-e0df-4393-a59b-127f39260719')\"\n",
              "            title=\"Convert this dataframe to an interactive table.\"\n",
              "            style=\"display:none;\">\n",
              "\n",
              "  <svg xmlns=\"http://www.w3.org/2000/svg\" height=\"24px\" viewBox=\"0 -960 960 960\">\n",
              "    <path d=\"M120-120v-720h720v720H120Zm60-500h600v-160H180v160Zm220 220h160v-160H400v160Zm0 220h160v-160H400v160ZM180-400h160v-160H180v160Zm440 0h160v-160H620v160ZM180-180h160v-160H180v160Zm440 0h160v-160H620v160Z\"/>\n",
              "  </svg>\n",
              "    </button>\n",
              "\n",
              "  <style>\n",
              "    .colab-df-container {\n",
              "      display:flex;\n",
              "      gap: 12px;\n",
              "    }\n",
              "\n",
              "    .colab-df-convert {\n",
              "      background-color: #E8F0FE;\n",
              "      border: none;\n",
              "      border-radius: 50%;\n",
              "      cursor: pointer;\n",
              "      display: none;\n",
              "      fill: #1967D2;\n",
              "      height: 32px;\n",
              "      padding: 0 0 0 0;\n",
              "      width: 32px;\n",
              "    }\n",
              "\n",
              "    .colab-df-convert:hover {\n",
              "      background-color: #E2EBFA;\n",
              "      box-shadow: 0px 1px 2px rgba(60, 64, 67, 0.3), 0px 1px 3px 1px rgba(60, 64, 67, 0.15);\n",
              "      fill: #174EA6;\n",
              "    }\n",
              "\n",
              "    .colab-df-buttons div {\n",
              "      margin-bottom: 4px;\n",
              "    }\n",
              "\n",
              "    [theme=dark] .colab-df-convert {\n",
              "      background-color: #3B4455;\n",
              "      fill: #D2E3FC;\n",
              "    }\n",
              "\n",
              "    [theme=dark] .colab-df-convert:hover {\n",
              "      background-color: #434B5C;\n",
              "      box-shadow: 0px 1px 3px 1px rgba(0, 0, 0, 0.15);\n",
              "      filter: drop-shadow(0px 1px 2px rgba(0, 0, 0, 0.3));\n",
              "      fill: #FFFFFF;\n",
              "    }\n",
              "  </style>\n",
              "\n",
              "    <script>\n",
              "      const buttonEl =\n",
              "        document.querySelector('#df-90d84aa5-e0df-4393-a59b-127f39260719 button.colab-df-convert');\n",
              "      buttonEl.style.display =\n",
              "        google.colab.kernel.accessAllowed ? 'block' : 'none';\n",
              "\n",
              "      async function convertToInteractive(key) {\n",
              "        const element = document.querySelector('#df-90d84aa5-e0df-4393-a59b-127f39260719');\n",
              "        const dataTable =\n",
              "          await google.colab.kernel.invokeFunction('convertToInteractive',\n",
              "                                                    [key], {});\n",
              "        if (!dataTable) return;\n",
              "\n",
              "        const docLinkHtml = 'Like what you see? Visit the ' +\n",
              "          '<a target=\"_blank\" href=https://colab.research.google.com/notebooks/data_table.ipynb>data table notebook</a>'\n",
              "          + ' to learn more about interactive tables.';\n",
              "        element.innerHTML = '';\n",
              "        dataTable['output_type'] = 'display_data';\n",
              "        await google.colab.output.renderOutput(dataTable, element);\n",
              "        const docLink = document.createElement('div');\n",
              "        docLink.innerHTML = docLinkHtml;\n",
              "        element.appendChild(docLink);\n",
              "      }\n",
              "    </script>\n",
              "  </div>\n",
              "\n",
              "\n",
              "<div id=\"df-66ad0401-886f-48c6-9336-5091178154b0\">\n",
              "  <button class=\"colab-df-quickchart\" onclick=\"quickchart('df-66ad0401-886f-48c6-9336-5091178154b0')\"\n",
              "            title=\"Suggest charts\"\n",
              "            style=\"display:none;\">\n",
              "\n",
              "<svg xmlns=\"http://www.w3.org/2000/svg\" height=\"24px\"viewBox=\"0 0 24 24\"\n",
              "     width=\"24px\">\n",
              "    <g>\n",
              "        <path d=\"M19 3H5c-1.1 0-2 .9-2 2v14c0 1.1.9 2 2 2h14c1.1 0 2-.9 2-2V5c0-1.1-.9-2-2-2zM9 17H7v-7h2v7zm4 0h-2V7h2v10zm4 0h-2v-4h2v4z\"/>\n",
              "    </g>\n",
              "</svg>\n",
              "  </button>\n",
              "\n",
              "<style>\n",
              "  .colab-df-quickchart {\n",
              "      --bg-color: #E8F0FE;\n",
              "      --fill-color: #1967D2;\n",
              "      --hover-bg-color: #E2EBFA;\n",
              "      --hover-fill-color: #174EA6;\n",
              "      --disabled-fill-color: #AAA;\n",
              "      --disabled-bg-color: #DDD;\n",
              "  }\n",
              "\n",
              "  [theme=dark] .colab-df-quickchart {\n",
              "      --bg-color: #3B4455;\n",
              "      --fill-color: #D2E3FC;\n",
              "      --hover-bg-color: #434B5C;\n",
              "      --hover-fill-color: #FFFFFF;\n",
              "      --disabled-bg-color: #3B4455;\n",
              "      --disabled-fill-color: #666;\n",
              "  }\n",
              "\n",
              "  .colab-df-quickchart {\n",
              "    background-color: var(--bg-color);\n",
              "    border: none;\n",
              "    border-radius: 50%;\n",
              "    cursor: pointer;\n",
              "    display: none;\n",
              "    fill: var(--fill-color);\n",
              "    height: 32px;\n",
              "    padding: 0;\n",
              "    width: 32px;\n",
              "  }\n",
              "\n",
              "  .colab-df-quickchart:hover {\n",
              "    background-color: var(--hover-bg-color);\n",
              "    box-shadow: 0 1px 2px rgba(60, 64, 67, 0.3), 0 1px 3px 1px rgba(60, 64, 67, 0.15);\n",
              "    fill: var(--button-hover-fill-color);\n",
              "  }\n",
              "\n",
              "  .colab-df-quickchart-complete:disabled,\n",
              "  .colab-df-quickchart-complete:disabled:hover {\n",
              "    background-color: var(--disabled-bg-color);\n",
              "    fill: var(--disabled-fill-color);\n",
              "    box-shadow: none;\n",
              "  }\n",
              "\n",
              "  .colab-df-spinner {\n",
              "    border: 2px solid var(--fill-color);\n",
              "    border-color: transparent;\n",
              "    border-bottom-color: var(--fill-color);\n",
              "    animation:\n",
              "      spin 1s steps(1) infinite;\n",
              "  }\n",
              "\n",
              "  @keyframes spin {\n",
              "    0% {\n",
              "      border-color: transparent;\n",
              "      border-bottom-color: var(--fill-color);\n",
              "      border-left-color: var(--fill-color);\n",
              "    }\n",
              "    20% {\n",
              "      border-color: transparent;\n",
              "      border-left-color: var(--fill-color);\n",
              "      border-top-color: var(--fill-color);\n",
              "    }\n",
              "    30% {\n",
              "      border-color: transparent;\n",
              "      border-left-color: var(--fill-color);\n",
              "      border-top-color: var(--fill-color);\n",
              "      border-right-color: var(--fill-color);\n",
              "    }\n",
              "    40% {\n",
              "      border-color: transparent;\n",
              "      border-right-color: var(--fill-color);\n",
              "      border-top-color: var(--fill-color);\n",
              "    }\n",
              "    60% {\n",
              "      border-color: transparent;\n",
              "      border-right-color: var(--fill-color);\n",
              "    }\n",
              "    80% {\n",
              "      border-color: transparent;\n",
              "      border-right-color: var(--fill-color);\n",
              "      border-bottom-color: var(--fill-color);\n",
              "    }\n",
              "    90% {\n",
              "      border-color: transparent;\n",
              "      border-bottom-color: var(--fill-color);\n",
              "    }\n",
              "  }\n",
              "</style>\n",
              "\n",
              "  <script>\n",
              "    async function quickchart(key) {\n",
              "      const quickchartButtonEl =\n",
              "        document.querySelector('#' + key + ' button');\n",
              "      quickchartButtonEl.disabled = true;  // To prevent multiple clicks.\n",
              "      quickchartButtonEl.classList.add('colab-df-spinner');\n",
              "      try {\n",
              "        const charts = await google.colab.kernel.invokeFunction(\n",
              "            'suggestCharts', [key], {});\n",
              "      } catch (error) {\n",
              "        console.error('Error during call to suggestCharts:', error);\n",
              "      }\n",
              "      quickchartButtonEl.classList.remove('colab-df-spinner');\n",
              "      quickchartButtonEl.classList.add('colab-df-quickchart-complete');\n",
              "    }\n",
              "    (() => {\n",
              "      let quickchartButtonEl =\n",
              "        document.querySelector('#df-66ad0401-886f-48c6-9336-5091178154b0 button');\n",
              "      quickchartButtonEl.style.display =\n",
              "        google.colab.kernel.accessAllowed ? 'block' : 'none';\n",
              "    })();\n",
              "  </script>\n",
              "</div>\n",
              "\n",
              "    </div>\n",
              "  </div>\n"
            ]
          },
          "metadata": {},
          "execution_count": 6
        }
      ],
      "source": [
        "all_ratings.head()"
      ]
    },
    {
      "cell_type": "markdown",
      "metadata": {
        "id": "enyJuYhUUUEL"
      },
      "source": [
        "The dataframe `all_ratings` contains all the raw data for our problem."
      ]
    },
    {
      "cell_type": "code",
      "execution_count": 7,
      "metadata": {
        "id": "3M7-jinQUUEO",
        "colab": {
          "base_uri": "https://localhost:8080/"
        },
        "outputId": "92894b5c-eff7-43f6-b21f-6e932658d946"
      },
      "outputs": [
        {
          "output_type": "execute_result",
          "data": {
            "text/plain": [
              "1000209"
            ]
          },
          "metadata": {},
          "execution_count": 7
        }
      ],
      "source": [
        "#number of entries\n",
        "len(all_ratings)"
      ]
    },
    {
      "cell_type": "code",
      "execution_count": 8,
      "metadata": {
        "id": "ofVcE781UUEa",
        "colab": {
          "base_uri": "https://localhost:8080/"
        },
        "outputId": "79022fa7-08bb-4b3e-b106-db49a3e34082"
      },
      "outputs": [
        {
          "output_type": "execute_result",
          "data": {
            "text/plain": [
              "count    1.000209e+06\n",
              "mean     3.581564e+00\n",
              "std      1.117102e+00\n",
              "min      1.000000e+00\n",
              "25%      3.000000e+00\n",
              "50%      4.000000e+00\n",
              "75%      4.000000e+00\n",
              "max      5.000000e+00\n",
              "Name: ratings, dtype: float64"
            ]
          },
          "metadata": {},
          "execution_count": 8
        }
      ],
      "source": [
        "# statistics of ratings\n",
        "all_ratings['ratings'].describe()"
      ]
    },
    {
      "cell_type": "code",
      "execution_count": 9,
      "metadata": {
        "id": "tCdV2qzMUUEk",
        "colab": {
          "base_uri": "https://localhost:8080/"
        },
        "outputId": "c1dadb42-9503-44be-ee38-433959489fd4"
      },
      "outputs": [
        {
          "output_type": "execute_result",
          "data": {
            "text/plain": [
              "array([5, 4, 3, 2, 1])"
            ]
          },
          "metadata": {},
          "execution_count": 9
        }
      ],
      "source": [
        "# The ratings are 1, 2, 3, 4, 5\n",
        "all_ratings['ratings'].unique()"
      ]
    },
    {
      "cell_type": "markdown",
      "source": [
        "We now check the user IDs."
      ],
      "metadata": {
        "id": "Q5qXp4HX3P_D"
      }
    },
    {
      "cell_type": "code",
      "source": [
        "all_ratings['user_id'].describe()"
      ],
      "metadata": {
        "id": "c1c1lNFG3LM0",
        "colab": {
          "base_uri": "https://localhost:8080/"
        },
        "outputId": "8e34312b-916a-40ce-dba4-3cffab299043"
      },
      "execution_count": 10,
      "outputs": [
        {
          "output_type": "execute_result",
          "data": {
            "text/plain": [
              "count    1.000209e+06\n",
              "mean     3.024512e+03\n",
              "std      1.728413e+03\n",
              "min      1.000000e+00\n",
              "25%      1.506000e+03\n",
              "50%      3.070000e+03\n",
              "75%      4.476000e+03\n",
              "max      6.040000e+03\n",
              "Name: user_id, dtype: float64"
            ]
          },
          "metadata": {},
          "execution_count": 10
        }
      ]
    },
    {
      "cell_type": "code",
      "execution_count": 11,
      "metadata": {
        "id": "P1QoS71CUUE7",
        "colab": {
          "base_uri": "https://localhost:8080/"
        },
        "outputId": "a6c67d72-d931-42c4-8eab-de7aa1a076b6"
      },
      "outputs": [
        {
          "output_type": "stream",
          "name": "stdout",
          "text": [
            "6040\n"
          ]
        }
      ],
      "source": [
        "# number of unique users\n",
        "total_user_id = len(all_ratings['user_id'].unique())\n",
        "print(total_user_id)"
      ]
    },
    {
      "cell_type": "markdown",
      "metadata": {
        "id": "-Az4KDFgV1CQ"
      },
      "source": [
        "We see that  the users seem to be indexed from 1 to 6040. Let's check that below using the following code."
      ]
    },
    {
      "cell_type": "code",
      "execution_count": 12,
      "metadata": {
        "id": "Pj8ZAzmIV1CQ"
      },
      "outputs": [],
      "source": [
        "list_user_id = list(all_ratings['user_id'].unique())\n",
        "list_user_id.sort()"
      ]
    },
    {
      "cell_type": "code",
      "execution_count": 13,
      "metadata": {
        "id": "l9omI-cwV1CT"
      },
      "outputs": [],
      "source": [
        "for i,j in enumerate(list_user_id):\n",
        "    if j != i+1:\n",
        "        print(i,j)"
      ]
    },
    {
      "cell_type": "markdown",
      "source": [
        "We can see that `list_user_id` contains contiguous indices from 1 to 6040."
      ],
      "metadata": {
        "id": "7wElJE5T2zKx"
      }
    },
    {
      "cell_type": "markdown",
      "metadata": {
        "id": "h-LytszyV1CV"
      },
      "source": [
        "We create a new column `user_num` to get an index from 0 to 6039 for users:"
      ]
    },
    {
      "cell_type": "code",
      "execution_count": 14,
      "metadata": {
        "id": "jE6WVgT-V1CV"
      },
      "outputs": [],
      "source": [
        "all_ratings['user_num'] = all_ratings['user_id'].apply(lambda x :x-1)"
      ]
    },
    {
      "cell_type": "code",
      "execution_count": 15,
      "metadata": {
        "id": "6HldBddZV1CY",
        "colab": {
          "base_uri": "https://localhost:8080/",
          "height": 206
        },
        "outputId": "7d6b918b-a444-4856-dee5-673e45afa829"
      },
      "outputs": [
        {
          "output_type": "execute_result",
          "data": {
            "text/plain": [
              "   user_id  item_id  ratings  timestamp  \\\n",
              "0        1     1193        5  978300760   \n",
              "1        2     1193        5  978298413   \n",
              "2       12     1193        4  978220179   \n",
              "3       15     1193        4  978199279   \n",
              "4       17     1193        5  978158471   \n",
              "\n",
              "                                item_name  user_num  \n",
              "0  One Flew Over the Cuckoo's Nest (1975)         0  \n",
              "1  One Flew Over the Cuckoo's Nest (1975)         1  \n",
              "2  One Flew Over the Cuckoo's Nest (1975)        11  \n",
              "3  One Flew Over the Cuckoo's Nest (1975)        14  \n",
              "4  One Flew Over the Cuckoo's Nest (1975)        16  "
            ],
            "text/html": [
              "\n",
              "  <div id=\"df-8254ae8a-2f43-4631-ad5c-707ef91055d7\" class=\"colab-df-container\">\n",
              "    <div>\n",
              "<style scoped>\n",
              "    .dataframe tbody tr th:only-of-type {\n",
              "        vertical-align: middle;\n",
              "    }\n",
              "\n",
              "    .dataframe tbody tr th {\n",
              "        vertical-align: top;\n",
              "    }\n",
              "\n",
              "    .dataframe thead th {\n",
              "        text-align: right;\n",
              "    }\n",
              "</style>\n",
              "<table border=\"1\" class=\"dataframe\">\n",
              "  <thead>\n",
              "    <tr style=\"text-align: right;\">\n",
              "      <th></th>\n",
              "      <th>user_id</th>\n",
              "      <th>item_id</th>\n",
              "      <th>ratings</th>\n",
              "      <th>timestamp</th>\n",
              "      <th>item_name</th>\n",
              "      <th>user_num</th>\n",
              "    </tr>\n",
              "  </thead>\n",
              "  <tbody>\n",
              "    <tr>\n",
              "      <th>0</th>\n",
              "      <td>1</td>\n",
              "      <td>1193</td>\n",
              "      <td>5</td>\n",
              "      <td>978300760</td>\n",
              "      <td>One Flew Over the Cuckoo's Nest (1975)</td>\n",
              "      <td>0</td>\n",
              "    </tr>\n",
              "    <tr>\n",
              "      <th>1</th>\n",
              "      <td>2</td>\n",
              "      <td>1193</td>\n",
              "      <td>5</td>\n",
              "      <td>978298413</td>\n",
              "      <td>One Flew Over the Cuckoo's Nest (1975)</td>\n",
              "      <td>1</td>\n",
              "    </tr>\n",
              "    <tr>\n",
              "      <th>2</th>\n",
              "      <td>12</td>\n",
              "      <td>1193</td>\n",
              "      <td>4</td>\n",
              "      <td>978220179</td>\n",
              "      <td>One Flew Over the Cuckoo's Nest (1975)</td>\n",
              "      <td>11</td>\n",
              "    </tr>\n",
              "    <tr>\n",
              "      <th>3</th>\n",
              "      <td>15</td>\n",
              "      <td>1193</td>\n",
              "      <td>4</td>\n",
              "      <td>978199279</td>\n",
              "      <td>One Flew Over the Cuckoo's Nest (1975)</td>\n",
              "      <td>14</td>\n",
              "    </tr>\n",
              "    <tr>\n",
              "      <th>4</th>\n",
              "      <td>17</td>\n",
              "      <td>1193</td>\n",
              "      <td>5</td>\n",
              "      <td>978158471</td>\n",
              "      <td>One Flew Over the Cuckoo's Nest (1975)</td>\n",
              "      <td>16</td>\n",
              "    </tr>\n",
              "  </tbody>\n",
              "</table>\n",
              "</div>\n",
              "    <div class=\"colab-df-buttons\">\n",
              "\n",
              "  <div class=\"colab-df-container\">\n",
              "    <button class=\"colab-df-convert\" onclick=\"convertToInteractive('df-8254ae8a-2f43-4631-ad5c-707ef91055d7')\"\n",
              "            title=\"Convert this dataframe to an interactive table.\"\n",
              "            style=\"display:none;\">\n",
              "\n",
              "  <svg xmlns=\"http://www.w3.org/2000/svg\" height=\"24px\" viewBox=\"0 -960 960 960\">\n",
              "    <path d=\"M120-120v-720h720v720H120Zm60-500h600v-160H180v160Zm220 220h160v-160H400v160Zm0 220h160v-160H400v160ZM180-400h160v-160H180v160Zm440 0h160v-160H620v160ZM180-180h160v-160H180v160Zm440 0h160v-160H620v160Z\"/>\n",
              "  </svg>\n",
              "    </button>\n",
              "\n",
              "  <style>\n",
              "    .colab-df-container {\n",
              "      display:flex;\n",
              "      gap: 12px;\n",
              "    }\n",
              "\n",
              "    .colab-df-convert {\n",
              "      background-color: #E8F0FE;\n",
              "      border: none;\n",
              "      border-radius: 50%;\n",
              "      cursor: pointer;\n",
              "      display: none;\n",
              "      fill: #1967D2;\n",
              "      height: 32px;\n",
              "      padding: 0 0 0 0;\n",
              "      width: 32px;\n",
              "    }\n",
              "\n",
              "    .colab-df-convert:hover {\n",
              "      background-color: #E2EBFA;\n",
              "      box-shadow: 0px 1px 2px rgba(60, 64, 67, 0.3), 0px 1px 3px 1px rgba(60, 64, 67, 0.15);\n",
              "      fill: #174EA6;\n",
              "    }\n",
              "\n",
              "    .colab-df-buttons div {\n",
              "      margin-bottom: 4px;\n",
              "    }\n",
              "\n",
              "    [theme=dark] .colab-df-convert {\n",
              "      background-color: #3B4455;\n",
              "      fill: #D2E3FC;\n",
              "    }\n",
              "\n",
              "    [theme=dark] .colab-df-convert:hover {\n",
              "      background-color: #434B5C;\n",
              "      box-shadow: 0px 1px 3px 1px rgba(0, 0, 0, 0.15);\n",
              "      filter: drop-shadow(0px 1px 2px rgba(0, 0, 0, 0.3));\n",
              "      fill: #FFFFFF;\n",
              "    }\n",
              "  </style>\n",
              "\n",
              "    <script>\n",
              "      const buttonEl =\n",
              "        document.querySelector('#df-8254ae8a-2f43-4631-ad5c-707ef91055d7 button.colab-df-convert');\n",
              "      buttonEl.style.display =\n",
              "        google.colab.kernel.accessAllowed ? 'block' : 'none';\n",
              "\n",
              "      async function convertToInteractive(key) {\n",
              "        const element = document.querySelector('#df-8254ae8a-2f43-4631-ad5c-707ef91055d7');\n",
              "        const dataTable =\n",
              "          await google.colab.kernel.invokeFunction('convertToInteractive',\n",
              "                                                    [key], {});\n",
              "        if (!dataTable) return;\n",
              "\n",
              "        const docLinkHtml = 'Like what you see? Visit the ' +\n",
              "          '<a target=\"_blank\" href=https://colab.research.google.com/notebooks/data_table.ipynb>data table notebook</a>'\n",
              "          + ' to learn more about interactive tables.';\n",
              "        element.innerHTML = '';\n",
              "        dataTable['output_type'] = 'display_data';\n",
              "        await google.colab.output.renderOutput(dataTable, element);\n",
              "        const docLink = document.createElement('div');\n",
              "        docLink.innerHTML = docLinkHtml;\n",
              "        element.appendChild(docLink);\n",
              "      }\n",
              "    </script>\n",
              "  </div>\n",
              "\n",
              "\n",
              "<div id=\"df-8fed69bd-05af-430f-8783-7f312f6e4ee5\">\n",
              "  <button class=\"colab-df-quickchart\" onclick=\"quickchart('df-8fed69bd-05af-430f-8783-7f312f6e4ee5')\"\n",
              "            title=\"Suggest charts\"\n",
              "            style=\"display:none;\">\n",
              "\n",
              "<svg xmlns=\"http://www.w3.org/2000/svg\" height=\"24px\"viewBox=\"0 0 24 24\"\n",
              "     width=\"24px\">\n",
              "    <g>\n",
              "        <path d=\"M19 3H5c-1.1 0-2 .9-2 2v14c0 1.1.9 2 2 2h14c1.1 0 2-.9 2-2V5c0-1.1-.9-2-2-2zM9 17H7v-7h2v7zm4 0h-2V7h2v10zm4 0h-2v-4h2v4z\"/>\n",
              "    </g>\n",
              "</svg>\n",
              "  </button>\n",
              "\n",
              "<style>\n",
              "  .colab-df-quickchart {\n",
              "      --bg-color: #E8F0FE;\n",
              "      --fill-color: #1967D2;\n",
              "      --hover-bg-color: #E2EBFA;\n",
              "      --hover-fill-color: #174EA6;\n",
              "      --disabled-fill-color: #AAA;\n",
              "      --disabled-bg-color: #DDD;\n",
              "  }\n",
              "\n",
              "  [theme=dark] .colab-df-quickchart {\n",
              "      --bg-color: #3B4455;\n",
              "      --fill-color: #D2E3FC;\n",
              "      --hover-bg-color: #434B5C;\n",
              "      --hover-fill-color: #FFFFFF;\n",
              "      --disabled-bg-color: #3B4455;\n",
              "      --disabled-fill-color: #666;\n",
              "  }\n",
              "\n",
              "  .colab-df-quickchart {\n",
              "    background-color: var(--bg-color);\n",
              "    border: none;\n",
              "    border-radius: 50%;\n",
              "    cursor: pointer;\n",
              "    display: none;\n",
              "    fill: var(--fill-color);\n",
              "    height: 32px;\n",
              "    padding: 0;\n",
              "    width: 32px;\n",
              "  }\n",
              "\n",
              "  .colab-df-quickchart:hover {\n",
              "    background-color: var(--hover-bg-color);\n",
              "    box-shadow: 0 1px 2px rgba(60, 64, 67, 0.3), 0 1px 3px 1px rgba(60, 64, 67, 0.15);\n",
              "    fill: var(--button-hover-fill-color);\n",
              "  }\n",
              "\n",
              "  .colab-df-quickchart-complete:disabled,\n",
              "  .colab-df-quickchart-complete:disabled:hover {\n",
              "    background-color: var(--disabled-bg-color);\n",
              "    fill: var(--disabled-fill-color);\n",
              "    box-shadow: none;\n",
              "  }\n",
              "\n",
              "  .colab-df-spinner {\n",
              "    border: 2px solid var(--fill-color);\n",
              "    border-color: transparent;\n",
              "    border-bottom-color: var(--fill-color);\n",
              "    animation:\n",
              "      spin 1s steps(1) infinite;\n",
              "  }\n",
              "\n",
              "  @keyframes spin {\n",
              "    0% {\n",
              "      border-color: transparent;\n",
              "      border-bottom-color: var(--fill-color);\n",
              "      border-left-color: var(--fill-color);\n",
              "    }\n",
              "    20% {\n",
              "      border-color: transparent;\n",
              "      border-left-color: var(--fill-color);\n",
              "      border-top-color: var(--fill-color);\n",
              "    }\n",
              "    30% {\n",
              "      border-color: transparent;\n",
              "      border-left-color: var(--fill-color);\n",
              "      border-top-color: var(--fill-color);\n",
              "      border-right-color: var(--fill-color);\n",
              "    }\n",
              "    40% {\n",
              "      border-color: transparent;\n",
              "      border-right-color: var(--fill-color);\n",
              "      border-top-color: var(--fill-color);\n",
              "    }\n",
              "    60% {\n",
              "      border-color: transparent;\n",
              "      border-right-color: var(--fill-color);\n",
              "    }\n",
              "    80% {\n",
              "      border-color: transparent;\n",
              "      border-right-color: var(--fill-color);\n",
              "      border-bottom-color: var(--fill-color);\n",
              "    }\n",
              "    90% {\n",
              "      border-color: transparent;\n",
              "      border-bottom-color: var(--fill-color);\n",
              "    }\n",
              "  }\n",
              "</style>\n",
              "\n",
              "  <script>\n",
              "    async function quickchart(key) {\n",
              "      const quickchartButtonEl =\n",
              "        document.querySelector('#' + key + ' button');\n",
              "      quickchartButtonEl.disabled = true;  // To prevent multiple clicks.\n",
              "      quickchartButtonEl.classList.add('colab-df-spinner');\n",
              "      try {\n",
              "        const charts = await google.colab.kernel.invokeFunction(\n",
              "            'suggestCharts', [key], {});\n",
              "      } catch (error) {\n",
              "        console.error('Error during call to suggestCharts:', error);\n",
              "      }\n",
              "      quickchartButtonEl.classList.remove('colab-df-spinner');\n",
              "      quickchartButtonEl.classList.add('colab-df-quickchart-complete');\n",
              "    }\n",
              "    (() => {\n",
              "      let quickchartButtonEl =\n",
              "        document.querySelector('#df-8fed69bd-05af-430f-8783-7f312f6e4ee5 button');\n",
              "      quickchartButtonEl.style.display =\n",
              "        google.colab.kernel.accessAllowed ? 'block' : 'none';\n",
              "    })();\n",
              "  </script>\n",
              "</div>\n",
              "\n",
              "    </div>\n",
              "  </div>\n"
            ]
          },
          "metadata": {},
          "execution_count": 15
        }
      ],
      "source": [
        "all_ratings.head()"
      ]
    },
    {
      "cell_type": "markdown",
      "metadata": {
        "id": "W0OThRYhV1Cb"
      },
      "source": [
        "We now look at movies."
      ]
    },
    {
      "cell_type": "code",
      "execution_count": 16,
      "metadata": {
        "id": "l3gfokbNUUFH",
        "colab": {
          "base_uri": "https://localhost:8080/"
        },
        "outputId": "8a88e42c-b813-4906-ae37-08d8c5ab2884"
      },
      "outputs": [
        {
          "output_type": "execute_result",
          "data": {
            "text/plain": [
              "count    1.000209e+06\n",
              "mean     1.865540e+03\n",
              "std      1.096041e+03\n",
              "min      1.000000e+00\n",
              "25%      1.030000e+03\n",
              "50%      1.835000e+03\n",
              "75%      2.770000e+03\n",
              "max      3.952000e+03\n",
              "Name: item_id, dtype: float64"
            ]
          },
          "metadata": {},
          "execution_count": 16
        }
      ],
      "source": [
        "all_ratings['item_id'].describe()"
      ]
    },
    {
      "cell_type": "code",
      "execution_count": 17,
      "metadata": {
        "id": "8ncInsk_V1Cg",
        "colab": {
          "base_uri": "https://localhost:8080/"
        },
        "outputId": "e3523c7d-cc4b-4974-80ab-3687e0211054"
      },
      "outputs": [
        {
          "output_type": "stream",
          "name": "stdout",
          "text": [
            "3706\n"
          ]
        }
      ],
      "source": [
        "# number of unique rated items\n",
        "total_item_id = len(all_ratings['item_id'].unique())\n",
        "print(total_item_id)"
      ]
    },
    {
      "cell_type": "markdown",
      "metadata": {
        "id": "3gGu2LjiV1Ci"
      },
      "source": [
        "Here there is a clear problem: there are 3706 different movies but the range of `item_id` starts at 1 and ends at 3952. So there are gaps, so the first thing you will need to do is to create a new column `item_num` so that all movies are indexed from 0 to 3705."
      ]
    },
    {
      "cell_type": "code",
      "execution_count": 18,
      "metadata": {
        "id": "9Zs7e-pyV1Cj"
      },
      "outputs": [],
      "source": [
        "itemnum_2_itemid = list(all_ratings['item_id'].unique())\n",
        "itemnum_2_itemid.sort()\n",
        "itemid_2_itemnum = {c:i for i,c in enumerate(itemnum_2_itemid)}\n",
        "all_ratings['item_num'] = all_ratings['item_id'].apply(lambda x: itemid_2_itemnum[x])"
      ]
    },
    {
      "cell_type": "markdown",
      "metadata": {
        "id": "weNJOlzcV1Cl"
      },
      "source": [
        "This function will verify that we have created `item_num` correctly."
      ]
    },
    {
      "cell_type": "code",
      "execution_count": 19,
      "metadata": {
        "id": "ktctMT12V1Cl"
      },
      "outputs": [],
      "source": [
        "def check_ratings_num(df):\n",
        "    item_num = set(df['item_num'])\n",
        "    if item_num == set(range(len(item_num))):\n",
        "        return True\n",
        "    else:\n",
        "        return False"
      ]
    },
    {
      "cell_type": "code",
      "execution_count": 20,
      "metadata": {
        "id": "w4w1XQnfV1Cp",
        "colab": {
          "base_uri": "https://localhost:8080/"
        },
        "outputId": "b56752c9-ffc0-4357-8a7b-e205e489ea28"
      },
      "outputs": [
        {
          "output_type": "execute_result",
          "data": {
            "text/plain": [
              "True"
            ]
          },
          "metadata": {},
          "execution_count": 20
        }
      ],
      "source": [
        "check_ratings_num(all_ratings)"
      ]
    },
    {
      "cell_type": "code",
      "execution_count": 21,
      "metadata": {
        "id": "HYa43L6EV1Cr",
        "colab": {
          "base_uri": "https://localhost:8080/",
          "height": 206
        },
        "outputId": "302719bd-1c3c-4775-b568-22be04704ca0"
      },
      "outputs": [
        {
          "output_type": "execute_result",
          "data": {
            "text/plain": [
              "   user_id  item_id  ratings  timestamp  \\\n",
              "0        1     1193        5  978300760   \n",
              "1        2     1193        5  978298413   \n",
              "2       12     1193        4  978220179   \n",
              "3       15     1193        4  978199279   \n",
              "4       17     1193        5  978158471   \n",
              "\n",
              "                                item_name  user_num  item_num  \n",
              "0  One Flew Over the Cuckoo's Nest (1975)         0      1104  \n",
              "1  One Flew Over the Cuckoo's Nest (1975)         1      1104  \n",
              "2  One Flew Over the Cuckoo's Nest (1975)        11      1104  \n",
              "3  One Flew Over the Cuckoo's Nest (1975)        14      1104  \n",
              "4  One Flew Over the Cuckoo's Nest (1975)        16      1104  "
            ],
            "text/html": [
              "\n",
              "  <div id=\"df-6691f063-86c9-4441-9869-d6937a590689\" class=\"colab-df-container\">\n",
              "    <div>\n",
              "<style scoped>\n",
              "    .dataframe tbody tr th:only-of-type {\n",
              "        vertical-align: middle;\n",
              "    }\n",
              "\n",
              "    .dataframe tbody tr th {\n",
              "        vertical-align: top;\n",
              "    }\n",
              "\n",
              "    .dataframe thead th {\n",
              "        text-align: right;\n",
              "    }\n",
              "</style>\n",
              "<table border=\"1\" class=\"dataframe\">\n",
              "  <thead>\n",
              "    <tr style=\"text-align: right;\">\n",
              "      <th></th>\n",
              "      <th>user_id</th>\n",
              "      <th>item_id</th>\n",
              "      <th>ratings</th>\n",
              "      <th>timestamp</th>\n",
              "      <th>item_name</th>\n",
              "      <th>user_num</th>\n",
              "      <th>item_num</th>\n",
              "    </tr>\n",
              "  </thead>\n",
              "  <tbody>\n",
              "    <tr>\n",
              "      <th>0</th>\n",
              "      <td>1</td>\n",
              "      <td>1193</td>\n",
              "      <td>5</td>\n",
              "      <td>978300760</td>\n",
              "      <td>One Flew Over the Cuckoo's Nest (1975)</td>\n",
              "      <td>0</td>\n",
              "      <td>1104</td>\n",
              "    </tr>\n",
              "    <tr>\n",
              "      <th>1</th>\n",
              "      <td>2</td>\n",
              "      <td>1193</td>\n",
              "      <td>5</td>\n",
              "      <td>978298413</td>\n",
              "      <td>One Flew Over the Cuckoo's Nest (1975)</td>\n",
              "      <td>1</td>\n",
              "      <td>1104</td>\n",
              "    </tr>\n",
              "    <tr>\n",
              "      <th>2</th>\n",
              "      <td>12</td>\n",
              "      <td>1193</td>\n",
              "      <td>4</td>\n",
              "      <td>978220179</td>\n",
              "      <td>One Flew Over the Cuckoo's Nest (1975)</td>\n",
              "      <td>11</td>\n",
              "      <td>1104</td>\n",
              "    </tr>\n",
              "    <tr>\n",
              "      <th>3</th>\n",
              "      <td>15</td>\n",
              "      <td>1193</td>\n",
              "      <td>4</td>\n",
              "      <td>978199279</td>\n",
              "      <td>One Flew Over the Cuckoo's Nest (1975)</td>\n",
              "      <td>14</td>\n",
              "      <td>1104</td>\n",
              "    </tr>\n",
              "    <tr>\n",
              "      <th>4</th>\n",
              "      <td>17</td>\n",
              "      <td>1193</td>\n",
              "      <td>5</td>\n",
              "      <td>978158471</td>\n",
              "      <td>One Flew Over the Cuckoo's Nest (1975)</td>\n",
              "      <td>16</td>\n",
              "      <td>1104</td>\n",
              "    </tr>\n",
              "  </tbody>\n",
              "</table>\n",
              "</div>\n",
              "    <div class=\"colab-df-buttons\">\n",
              "\n",
              "  <div class=\"colab-df-container\">\n",
              "    <button class=\"colab-df-convert\" onclick=\"convertToInteractive('df-6691f063-86c9-4441-9869-d6937a590689')\"\n",
              "            title=\"Convert this dataframe to an interactive table.\"\n",
              "            style=\"display:none;\">\n",
              "\n",
              "  <svg xmlns=\"http://www.w3.org/2000/svg\" height=\"24px\" viewBox=\"0 -960 960 960\">\n",
              "    <path d=\"M120-120v-720h720v720H120Zm60-500h600v-160H180v160Zm220 220h160v-160H400v160Zm0 220h160v-160H400v160ZM180-400h160v-160H180v160Zm440 0h160v-160H620v160ZM180-180h160v-160H180v160Zm440 0h160v-160H620v160Z\"/>\n",
              "  </svg>\n",
              "    </button>\n",
              "\n",
              "  <style>\n",
              "    .colab-df-container {\n",
              "      display:flex;\n",
              "      gap: 12px;\n",
              "    }\n",
              "\n",
              "    .colab-df-convert {\n",
              "      background-color: #E8F0FE;\n",
              "      border: none;\n",
              "      border-radius: 50%;\n",
              "      cursor: pointer;\n",
              "      display: none;\n",
              "      fill: #1967D2;\n",
              "      height: 32px;\n",
              "      padding: 0 0 0 0;\n",
              "      width: 32px;\n",
              "    }\n",
              "\n",
              "    .colab-df-convert:hover {\n",
              "      background-color: #E2EBFA;\n",
              "      box-shadow: 0px 1px 2px rgba(60, 64, 67, 0.3), 0px 1px 3px 1px rgba(60, 64, 67, 0.15);\n",
              "      fill: #174EA6;\n",
              "    }\n",
              "\n",
              "    .colab-df-buttons div {\n",
              "      margin-bottom: 4px;\n",
              "    }\n",
              "\n",
              "    [theme=dark] .colab-df-convert {\n",
              "      background-color: #3B4455;\n",
              "      fill: #D2E3FC;\n",
              "    }\n",
              "\n",
              "    [theme=dark] .colab-df-convert:hover {\n",
              "      background-color: #434B5C;\n",
              "      box-shadow: 0px 1px 3px 1px rgba(0, 0, 0, 0.15);\n",
              "      filter: drop-shadow(0px 1px 2px rgba(0, 0, 0, 0.3));\n",
              "      fill: #FFFFFF;\n",
              "    }\n",
              "  </style>\n",
              "\n",
              "    <script>\n",
              "      const buttonEl =\n",
              "        document.querySelector('#df-6691f063-86c9-4441-9869-d6937a590689 button.colab-df-convert');\n",
              "      buttonEl.style.display =\n",
              "        google.colab.kernel.accessAllowed ? 'block' : 'none';\n",
              "\n",
              "      async function convertToInteractive(key) {\n",
              "        const element = document.querySelector('#df-6691f063-86c9-4441-9869-d6937a590689');\n",
              "        const dataTable =\n",
              "          await google.colab.kernel.invokeFunction('convertToInteractive',\n",
              "                                                    [key], {});\n",
              "        if (!dataTable) return;\n",
              "\n",
              "        const docLinkHtml = 'Like what you see? Visit the ' +\n",
              "          '<a target=\"_blank\" href=https://colab.research.google.com/notebooks/data_table.ipynb>data table notebook</a>'\n",
              "          + ' to learn more about interactive tables.';\n",
              "        element.innerHTML = '';\n",
              "        dataTable['output_type'] = 'display_data';\n",
              "        await google.colab.output.renderOutput(dataTable, element);\n",
              "        const docLink = document.createElement('div');\n",
              "        docLink.innerHTML = docLinkHtml;\n",
              "        element.appendChild(docLink);\n",
              "      }\n",
              "    </script>\n",
              "  </div>\n",
              "\n",
              "\n",
              "<div id=\"df-16e1359c-3b29-468a-a8b1-33045dc4e4d4\">\n",
              "  <button class=\"colab-df-quickchart\" onclick=\"quickchart('df-16e1359c-3b29-468a-a8b1-33045dc4e4d4')\"\n",
              "            title=\"Suggest charts\"\n",
              "            style=\"display:none;\">\n",
              "\n",
              "<svg xmlns=\"http://www.w3.org/2000/svg\" height=\"24px\"viewBox=\"0 0 24 24\"\n",
              "     width=\"24px\">\n",
              "    <g>\n",
              "        <path d=\"M19 3H5c-1.1 0-2 .9-2 2v14c0 1.1.9 2 2 2h14c1.1 0 2-.9 2-2V5c0-1.1-.9-2-2-2zM9 17H7v-7h2v7zm4 0h-2V7h2v10zm4 0h-2v-4h2v4z\"/>\n",
              "    </g>\n",
              "</svg>\n",
              "  </button>\n",
              "\n",
              "<style>\n",
              "  .colab-df-quickchart {\n",
              "      --bg-color: #E8F0FE;\n",
              "      --fill-color: #1967D2;\n",
              "      --hover-bg-color: #E2EBFA;\n",
              "      --hover-fill-color: #174EA6;\n",
              "      --disabled-fill-color: #AAA;\n",
              "      --disabled-bg-color: #DDD;\n",
              "  }\n",
              "\n",
              "  [theme=dark] .colab-df-quickchart {\n",
              "      --bg-color: #3B4455;\n",
              "      --fill-color: #D2E3FC;\n",
              "      --hover-bg-color: #434B5C;\n",
              "      --hover-fill-color: #FFFFFF;\n",
              "      --disabled-bg-color: #3B4455;\n",
              "      --disabled-fill-color: #666;\n",
              "  }\n",
              "\n",
              "  .colab-df-quickchart {\n",
              "    background-color: var(--bg-color);\n",
              "    border: none;\n",
              "    border-radius: 50%;\n",
              "    cursor: pointer;\n",
              "    display: none;\n",
              "    fill: var(--fill-color);\n",
              "    height: 32px;\n",
              "    padding: 0;\n",
              "    width: 32px;\n",
              "  }\n",
              "\n",
              "  .colab-df-quickchart:hover {\n",
              "    background-color: var(--hover-bg-color);\n",
              "    box-shadow: 0 1px 2px rgba(60, 64, 67, 0.3), 0 1px 3px 1px rgba(60, 64, 67, 0.15);\n",
              "    fill: var(--button-hover-fill-color);\n",
              "  }\n",
              "\n",
              "  .colab-df-quickchart-complete:disabled,\n",
              "  .colab-df-quickchart-complete:disabled:hover {\n",
              "    background-color: var(--disabled-bg-color);\n",
              "    fill: var(--disabled-fill-color);\n",
              "    box-shadow: none;\n",
              "  }\n",
              "\n",
              "  .colab-df-spinner {\n",
              "    border: 2px solid var(--fill-color);\n",
              "    border-color: transparent;\n",
              "    border-bottom-color: var(--fill-color);\n",
              "    animation:\n",
              "      spin 1s steps(1) infinite;\n",
              "  }\n",
              "\n",
              "  @keyframes spin {\n",
              "    0% {\n",
              "      border-color: transparent;\n",
              "      border-bottom-color: var(--fill-color);\n",
              "      border-left-color: var(--fill-color);\n",
              "    }\n",
              "    20% {\n",
              "      border-color: transparent;\n",
              "      border-left-color: var(--fill-color);\n",
              "      border-top-color: var(--fill-color);\n",
              "    }\n",
              "    30% {\n",
              "      border-color: transparent;\n",
              "      border-left-color: var(--fill-color);\n",
              "      border-top-color: var(--fill-color);\n",
              "      border-right-color: var(--fill-color);\n",
              "    }\n",
              "    40% {\n",
              "      border-color: transparent;\n",
              "      border-right-color: var(--fill-color);\n",
              "      border-top-color: var(--fill-color);\n",
              "    }\n",
              "    60% {\n",
              "      border-color: transparent;\n",
              "      border-right-color: var(--fill-color);\n",
              "    }\n",
              "    80% {\n",
              "      border-color: transparent;\n",
              "      border-right-color: var(--fill-color);\n",
              "      border-bottom-color: var(--fill-color);\n",
              "    }\n",
              "    90% {\n",
              "      border-color: transparent;\n",
              "      border-bottom-color: var(--fill-color);\n",
              "    }\n",
              "  }\n",
              "</style>\n",
              "\n",
              "  <script>\n",
              "    async function quickchart(key) {\n",
              "      const quickchartButtonEl =\n",
              "        document.querySelector('#' + key + ' button');\n",
              "      quickchartButtonEl.disabled = true;  // To prevent multiple clicks.\n",
              "      quickchartButtonEl.classList.add('colab-df-spinner');\n",
              "      try {\n",
              "        const charts = await google.colab.kernel.invokeFunction(\n",
              "            'suggestCharts', [key], {});\n",
              "      } catch (error) {\n",
              "        console.error('Error during call to suggestCharts:', error);\n",
              "      }\n",
              "      quickchartButtonEl.classList.remove('colab-df-spinner');\n",
              "      quickchartButtonEl.classList.add('colab-df-quickchart-complete');\n",
              "    }\n",
              "    (() => {\n",
              "      let quickchartButtonEl =\n",
              "        document.querySelector('#df-16e1359c-3b29-468a-a8b1-33045dc4e4d4 button');\n",
              "      quickchartButtonEl.style.display =\n",
              "        google.colab.kernel.accessAllowed ? 'block' : 'none';\n",
              "    })();\n",
              "  </script>\n",
              "</div>\n",
              "\n",
              "    </div>\n",
              "  </div>\n"
            ]
          },
          "metadata": {},
          "execution_count": 21
        }
      ],
      "source": [
        "all_ratings.head()"
      ]
    },
    {
      "cell_type": "markdown",
      "source": [
        "### Preliminary data analysis\n",
        "\n",
        "**Exercises**: Find the top 10 most popular movies in the dataset and include the result in your report"
      ],
      "metadata": {
        "id": "y2XGHdnbLms4"
      }
    },
    {
      "cell_type": "code",
      "source": [
        "all_ratings.groupby('item_id')['ratings'].sum().sort_values(ascending=False).head(10)"
      ],
      "metadata": {
        "id": "V-jcrW96lwsW",
        "colab": {
          "base_uri": "https://localhost:8080/"
        },
        "outputId": "bc542938-ae42-45d4-eca1-40ccc2c09064"
      },
      "execution_count": 22,
      "outputs": [
        {
          "output_type": "execute_result",
          "data": {
            "text/plain": [
              "item_id\n",
              "2858    14800\n",
              "260     13321\n",
              "1196    12836\n",
              "1210    11598\n",
              "2028    11507\n",
              "1198    11257\n",
              "593     11219\n",
              "2571    11178\n",
              "2762    10835\n",
              "589     10751\n",
              "Name: ratings, dtype: int64"
            ]
          },
          "metadata": {},
          "execution_count": 22
        }
      ]
    },
    {
      "cell_type": "markdown",
      "source": [
        "**Exercise**: Plot the histogram of popularity (x-axis: # of given ratings, y-axis: # of movies with the given # of ratings). Include the plot in your report."
      ],
      "metadata": {
        "id": "1KOFiKMCr0_4"
      }
    },
    {
      "cell_type": "code",
      "source": [
        "import matplotlib.pyplot as plt\n",
        "all_ratings.groupby('item_id')['ratings'].sum().value_counts().plot(kind='bar')\n",
        "plt.xlabel('Number of ratings')\n",
        "plt.ylabel('Number of movies')\n",
        "plt.title('Histogram of popularity')\n",
        "plt.show()"
      ],
      "metadata": {
        "id": "iES1dtjRmnvv",
        "colab": {
          "base_uri": "https://localhost:8080/",
          "height": 502
        },
        "outputId": "a969da78-5ea4-4c7a-d50d-697a9e4d6d32"
      },
      "execution_count": 23,
      "outputs": [
        {
          "output_type": "display_data",
          "data": {
            "text/plain": [
              "<Figure size 640x480 with 1 Axes>"
            ],
            "image/png": "[encoded data removed]"
          },
          "metadata": {}
        }
      ]
    },
    {
      "cell_type": "markdown",
      "source": [
        "**Exercise**: Plot the histogram of user activity (x-axis: # of given ratings, y-axis: # of users with the given # of ratings). Include the plot in your report."
      ],
      "metadata": {
        "id": "9e7Er529r3xY"
      }
    },
    {
      "cell_type": "code",
      "source": [
        "all_ratings.groupby('user_num')['ratings'].sum().value_counts().plot(kind='bar')\n",
        "plt.xlabel('Number of ratings')\n",
        "plt.ylabel('Number of users')\n",
        "plt.title('Histogram of user activity')\n",
        "plt.show()"
      ],
      "metadata": {
        "id": "f-5mN1F6qLLF",
        "colab": {
          "base_uri": "https://localhost:8080/",
          "height": 493
        },
        "outputId": "a4aaed7b-adeb-4941-eda3-a6edb76f21ce"
      },
      "execution_count": 24,
      "outputs": [
        {
          "output_type": "display_data",
          "data": {
            "text/plain": [
              "<Figure size 640x480 with 1 Axes>"
            ],
            "image/png": "[encoded data removed]"
          },
          "metadata": {}
        }
      ]
    },
    {
      "cell_type": "markdown",
      "source": [
        "**Exercise**: Compute the average ratings for every movie and find the top 20 highly rated movies. Include the list of 20 highly rated movies and their ratings in your report. Are these highly rated movies popular?"
      ],
      "metadata": {
        "id": "nI7Tomlfr64A"
      }
    },
    {
      "cell_type": "code",
      "source": [
        "all_ratings.groupby('item_id')['ratings'].mean().sort_values(ascending=False).head(20)"
      ],
      "metadata": {
        "id": "3TFUhkPEqyLq",
        "colab": {
          "base_uri": "https://localhost:8080/"
        },
        "outputId": "758f778b-dfe3-40ab-ec03-0a651953db67"
      },
      "execution_count": 25,
      "outputs": [
        {
          "output_type": "execute_result",
          "data": {
            "text/plain": [
              "item_id\n",
              "989     5.000000\n",
              "3881    5.000000\n",
              "1830    5.000000\n",
              "3382    5.000000\n",
              "787     5.000000\n",
              "3280    5.000000\n",
              "3607    5.000000\n",
              "3233    5.000000\n",
              "3172    5.000000\n",
              "3656    5.000000\n",
              "3245    4.800000\n",
              "53      4.750000\n",
              "2503    4.666667\n",
              "2905    4.608696\n",
              "2019    4.560510\n",
              "318     4.554558\n",
              "858     4.524966\n",
              "745     4.520548\n",
              "50      4.517106\n",
              "527     4.510417\n",
              "Name: ratings, dtype: float64"
            ]
          },
          "metadata": {},
          "execution_count": 25
        }
      ]
    },
    {
      "cell_type": "markdown",
      "source": [],
      "metadata": {
        "id": "OYXD-eNv4PyD"
      }
    },
    {
      "cell_type": "markdown",
      "metadata": {
        "id": "Ur4bjuniUUFj"
      },
      "source": [
        "---\n",
        "## Train, Validation, and Test Data\n",
        "\n",
        "Now we will split the data in _train_, _val_ and _test_ be using a pre-defined function from [scikit-learn](http://scikit-learn.org/stable/)"
      ]
    },
    {
      "cell_type": "code",
      "execution_count": 26,
      "metadata": {
        "id": "ZT5oxhoGUUFm"
      },
      "outputs": [],
      "source": [
        "#Split the data into train, validation and test\n",
        "from sklearn.model_selection import train_test_split\n",
        "\n",
        "ratings_trainval, ratings_test = train_test_split(all_ratings, test_size=0.1, random_state=42)\n",
        "\n",
        "ratings_train, ratings_val = train_test_split(ratings_trainval, test_size=0.1, random_state=42)"
      ]
    },
    {
      "cell_type": "code",
      "source": [
        "user_id_train = ratings_train['user_id']\n",
        "item_id_train = ratings_train['item_id']\n",
        "rating_train = ratings_train['ratings']\n",
        "\n",
        "user_id_test = ratings_test['user_id']\n",
        "item_id_test = ratings_test['item_id']\n",
        "rating_test = ratings_test['ratings']"
      ],
      "metadata": {
        "id": "_xIuapYfBssG"
      },
      "execution_count": 27,
      "outputs": []
    },
    {
      "cell_type": "code",
      "source": [
        "movies_not_train = list(set(all_ratings['item_id']) -set(item_id_train))\n",
        "movies_not_train_name=set(all_ratings.loc[movies_not_train]['item_name'])\n",
        "print(movies_not_train_name)"
      ],
      "metadata": {
        "id": "kRo_Un-IBiof",
        "colab": {
          "base_uri": "https://localhost:8080/"
        },
        "outputId": "55129b20-8b02-4961-ed36-31bc844362e9"
      },
      "execution_count": 28,
      "outputs": [
        {
          "output_type": "stream",
          "name": "stdout",
          "text": [
            "{'Erin Brockovich (2000)', \"One Flew Over the Cuckoo's Nest (1975)\", 'James and the Giant Peach (1996)', 'My Fair Lady (1964)'}\n"
          ]
        }
      ]
    },
    {
      "cell_type": "markdown",
      "metadata": {
        "id": "Vmx1YZmTUUGG"
      },
      "source": [
        "We see that a few movies are not rated in the train set. For those movies, it is hard to predict their ratings accurately."
      ]
    },
    {
      "cell_type": "markdown",
      "source": [
        "---\n",
        "## Data Load and Batching"
      ],
      "metadata": {
        "id": "Rlhi4ocr4iOD"
      }
    },
    {
      "cell_type": "markdown",
      "source": [
        "Use GPU if available."
      ],
      "metadata": {
        "id": "3JEV5wxk5h0t"
      }
    },
    {
      "cell_type": "code",
      "source": [
        "import torch\n",
        "device = torch.device(\"cuda:0\" if torch.cuda.is_available() else \"cpu\")"
      ],
      "metadata": {
        "id": "fU4OIArA5iyb"
      },
      "execution_count": 29,
      "outputs": []
    },
    {
      "cell_type": "markdown",
      "source": [
        "We define a function to return a triplet of user_num, item_num, rating from the dataframe."
      ],
      "metadata": {
        "id": "za-dIdY45tpa"
      }
    },
    {
      "cell_type": "code",
      "source": [
        "def df_2_tensor(df, device):\n",
        "    # return a triplet user_num, item_num, rating from the dataframe\n",
        "    user_num = np.asarray(df['user_num'])\n",
        "    item_num = np.asarray(df['item_num'])\n",
        "    rating = np.asarray(df['ratings'])\n",
        "    return torch.from_numpy(user_num).to(device), torch.from_numpy(item_num).to(device), torch.from_numpy(rating).to(device)"
      ],
      "metadata": {
        "id": "rxsYMLko5Qu6"
      },
      "execution_count": 30,
      "outputs": []
    },
    {
      "cell_type": "markdown",
      "source": [
        "Below, we construct 3 tensors containing the `user_num`, `item_num` and `rating` for the training set. All tensors have the same shape so that `train_user_num[i]` watched `train_item_num[i]` and gave a rating of `train_rating[i]`."
      ],
      "metadata": {
        "id": "-v3Bjgyt5VjV"
      }
    },
    {
      "cell_type": "code",
      "source": [
        "train_user_num, train_item_num, train_rating = df_2_tensor(ratings_train,device)"
      ],
      "metadata": {
        "id": "XPRBxFWX5Uwy"
      },
      "execution_count": 31,
      "outputs": []
    },
    {
      "cell_type": "markdown",
      "source": [
        "We now do the same thing for the validation and test sets."
      ],
      "metadata": {
        "id": "uJwGxZFH5emq"
      }
    },
    {
      "cell_type": "code",
      "source": [
        "val_user_num, val_item_num, val_rating = df_2_tensor(ratings_val,device)\n",
        "test_user_num, test_item_num, test_rating = df_2_tensor(ratings_test,device)"
      ],
      "metadata": {
        "id": "UWMHCQ0V5ZSt"
      },
      "execution_count": 32,
      "outputs": []
    },
    {
      "cell_type": "markdown",
      "source": [
        "Now you need to construct a dataset and a dataloader. For this, you can define a first function taking as arguments the tensors defined above and returning a list (Hint: you may use the [zip function](https://www.w3schools.com/python/ref_func_zip.asp)); then a second function taking as argument a dataset, the batchsize and a boolean for the shuffling."
      ],
      "metadata": {
        "id": "LgoPPq9c5A7K"
      }
    },
    {
      "cell_type": "markdown",
      "source": [
        "**Exercise**: Filling in the missing code below to construct dataset and dataloader."
      ],
      "metadata": {
        "id": "FuM5hsyldlfe"
      }
    },
    {
      "cell_type": "code",
      "source": [
        "def tensor_2_dataset(user,item,rating):\n",
        "    dataset = list(zip(user, item, rating))\n",
        "    return dataset\n",
        "def make_dataloader(dataset,bs,shuffle):\n",
        "    dataloader = torch.utils.data.DataLoader(dataset, batch_size=bs, shuffle=shuffle)\n",
        "    return dataloader\n"
      ],
      "metadata": {
        "id": "zqB9Fr1Q2ElV"
      },
      "execution_count": 33,
      "outputs": []
    },
    {
      "cell_type": "code",
      "source": [
        "train_dataset = tensor_2_dataset(train_user_num,train_item_num, train_rating)\n",
        "val_dataset = tensor_2_dataset(val_user_num,val_item_num,val_rating)\n",
        "test_dataset = tensor_2_dataset(test_user_num, test_item_num, test_rating)"
      ],
      "metadata": {
        "id": "AU-xgyto5Gyh"
      },
      "execution_count": 34,
      "outputs": []
    },
    {
      "cell_type": "markdown",
      "source": [
        "Load the train, validation, and test data in batchs of size 1024."
      ],
      "metadata": {
        "id": "610dw-Uo5dIn"
      }
    },
    {
      "cell_type": "code",
      "source": [
        "train_dataloader = make_dataloader(train_dataset,1024,True)\n",
        "val_dataloader = make_dataloader(val_dataset,1024, False)\n",
        "test_dataloader = make_dataloader(test_dataset,1024,False)"
      ],
      "metadata": {
        "id": "GJQOXjWX5ODw"
      },
      "execution_count": 35,
      "outputs": []
    },
    {
      "cell_type": "markdown",
      "metadata": {
        "id": "Q7JF-d05UUGc"
      },
      "source": [
        "---\n",
        "## The model\n",
        "\n"
      ]
    },
    {
      "cell_type": "code",
      "execution_count": 36,
      "metadata": {
        "id": "tsrfFi1QUUGd"
      },
      "outputs": [],
      "source": [
        "import torch.nn as nn\n",
        "import torch.nn.functional as F\n",
        "import torch.optim as optim"
      ]
    },
    {
      "cell_type": "markdown",
      "metadata": {
        "id": "HpkKu7PVUUGp"
      },
      "source": [
        "We will use some custom embeddings defined as below."
      ]
    },
    {
      "cell_type": "code",
      "execution_count": 37,
      "metadata": {
        "id": "eB6_y1nMUUGq"
      },
      "outputs": [],
      "source": [
        "class ScaledEmbedding(nn.Embedding):\n",
        "    \"\"\"\n",
        "    Embedding layer that initialises its values\n",
        "    to using a normal variable scaled by the inverse\n",
        "    of the embedding dimension.\n",
        "    \"\"\"\n",
        "    def reset_parameters(self):\n",
        "        \"\"\"\n",
        "        Initialize parameters.\n",
        "        \"\"\"\n",
        "\n",
        "        self.weight.data.normal_(0, 1.0 / self.embedding_dim)\n",
        "        if self.padding_idx is not None:\n",
        "            self.weight.data[self.padding_idx].fill_(0.0)\n",
        "\n",
        "\n",
        "class ZeroEmbedding(nn.Embedding):\n",
        "    \"\"\"\n",
        "    Used for biases.\n",
        "    \"\"\"\n",
        "\n",
        "    def reset_parameters(self):\n",
        "        \"\"\"\n",
        "        Initialize parameters.\n",
        "        \"\"\"\n",
        "\n",
        "        self.weight.data.zero_()\n",
        "        if self.padding_idx is not None:\n",
        "            self.weight.data[self.padding_idx].fill_(0.0)"
      ]
    },
    {
      "cell_type": "markdown",
      "source": [
        "### Creating Our Own Embedding Module\n",
        "\n",
        "Now, we define the `Model_dot`(class to represents users and items. It's composed of a 4 `embedding` layers:\n",
        "\n",
        "- a `(num_users x latent_dim)` embedding layer to represent users,\n",
        "- a `(num_items x latent_dim)` embedding layer to represent items,\n",
        "- a `(num_users x 1)` embedding layer to represent user biases, and\n",
        "- a `(num_items x 1)` embedding layer to represent item biases.\n",
        "\n",
        "\n",
        "\n",
        "\n",
        "\n"
      ],
      "metadata": {
        "id": "cZdXB0ieIv2J"
      }
    },
    {
      "cell_type": "markdown",
      "source": [
        "**Exercise**: Fill the missing code to define the embeddings."
      ],
      "metadata": {
        "id": "s0F7EJoz7jbJ"
      }
    },
    {
      "cell_type": "code",
      "execution_count": 38,
      "metadata": {
        "id": "ktXRW3-4UUGt"
      },
      "outputs": [],
      "source": [
        "class DotModel(nn.Module):\n",
        "\n",
        "    def __init__(self,\n",
        "                 num_users,\n",
        "                 num_items,\n",
        "                 embedding_dim=32):\n",
        "\n",
        "        super(DotModel, self).__init__()\n",
        "\n",
        "        self.embedding_dim = embedding_dim\n",
        "\n",
        "        # TODO: generate user and item embeddigns using ScaledEmbedding\n",
        "        # your code\n",
        "        self.user_embeddings = ScaledEmbedding(num_users, embedding_dim)\n",
        "        self.item_embeddings = ScaledEmbedding(num_items, embedding_dim)\n",
        "\n",
        "        # TODO: generate bias embeddigns using ZeroEmbedding\n",
        "        # your code\n",
        "        self.user_biases = ZeroEmbedding(num_users, 1)\n",
        "        self.item_biases = ZeroEmbedding(num_items, 1)\n",
        "\n",
        "\n",
        "    def forward(self, user_ids, item_ids):\n",
        "\n",
        "        # TODO: compute and return the predicted rating based on the embedding vectors and biases.\n",
        "        # your code\n",
        "        #\n",
        "        user_embeddings = self.user_embeddings(user_ids)\n",
        "        item_embeddings = self.item_embeddings(item_ids)\n",
        "        user_biases = self.user_biases(user_ids)\n",
        "        item_biases = self.item_biases(item_ids)\n",
        "        predictions = torch.cat([user_embeddings, item_embeddings, user_biases, item_biases], dim=1)\n",
        "\n",
        "        return predictions"
      ]
    },
    {
      "cell_type": "code",
      "execution_count": 39,
      "metadata": {
        "id": "PlbbwU1ze5d7"
      },
      "outputs": [],
      "source": [
        "net = DotModel(total_user_id,total_item_id).to(device)"
      ]
    },
    {
      "cell_type": "code",
      "source": [
        "net"
      ],
      "metadata": {
        "id": "Qr2Dwbgz8D7C",
        "colab": {
          "base_uri": "https://localhost:8080/"
        },
        "outputId": "3a15d35b-8cf4-44a7-ca6b-af67e5946365"
      },
      "execution_count": 40,
      "outputs": [
        {
          "output_type": "execute_result",
          "data": {
            "text/plain": [
              "DotModel(\n",
              "  (user_embeddings): ScaledEmbedding(6040, 32)\n",
              "  (item_embeddings): ScaledEmbedding(3706, 32)\n",
              "  (user_biases): ZeroEmbedding(6040, 1)\n",
              "  (item_biases): ZeroEmbedding(3706, 1)\n",
              ")"
            ]
          },
          "metadata": {},
          "execution_count": 40
        }
      ]
    },
    {
      "cell_type": "markdown",
      "metadata": {
        "id": "ysX9Q9pxiMG4"
      },
      "source": [
        "Now we check your network by taking  a batch from train loader."
      ]
    },
    {
      "cell_type": "code",
      "source": [
        "batch_user, batch_item, batch_rating = next(iter(train_dataloader))"
      ],
      "metadata": {
        "id": "g5PIrEUrh0QY"
      },
      "execution_count": 41,
      "outputs": []
    },
    {
      "cell_type": "code",
      "source": [
        "batch_rating"
      ],
      "metadata": {
        "id": "ojFwidY-h7Pw",
        "colab": {
          "base_uri": "https://localhost:8080/"
        },
        "outputId": "0be3f235-9e7e-42f9-ecf6-f322bae9e421"
      },
      "execution_count": 42,
      "outputs": [
        {
          "output_type": "execute_result",
          "data": {
            "text/plain": [
              "tensor([4, 3, 3,  ..., 3, 4, 4], device='cuda:0')"
            ]
          },
          "metadata": {},
          "execution_count": 42
        }
      ]
    },
    {
      "cell_type": "code",
      "source": [
        "#batch_user, batch_item, batch_rating = torch.LongTensor(batch_user), torch.LongTensor(batch_item), torch.LongTensor(batch_rating)\n",
        "batch_user, batch_item, batch_rating = batch_user.to(device), batch_item.to(device), batch_rating.to(device)"
      ],
      "metadata": {
        "id": "RLdCbCnzB2S-"
      },
      "execution_count": 43,
      "outputs": []
    },
    {
      "cell_type": "code",
      "execution_count": 44,
      "metadata": {
        "id": "I20UhBLZjBEs",
        "colab": {
          "base_uri": "https://localhost:8080/"
        },
        "outputId": "9a6d8ab2-e464-4e10-a9ad-4763cbab671d"
      },
      "outputs": [
        {
          "output_type": "execute_result",
          "data": {
            "text/plain": [
              "torch.Size([1024, 66])"
            ]
          },
          "metadata": {},
          "execution_count": 44
        }
      ],
      "source": [
        "predictions = net(batch_user, batch_item)\n",
        "predictions.shape"
      ]
    },
    {
      "cell_type": "markdown",
      "source": [
        "We will use MSE loss defined below:"
      ],
      "metadata": {
        "id": "Dnmsgb3SJc_M"
      }
    },
    {
      "cell_type": "code",
      "source": [
        "def regression_loss(predicted_ratings, observed_ratings):\n",
        "    return ((observed_ratings - predicted_ratings) ** 2).mean()"
      ],
      "metadata": {
        "id": "TXXAisyw8L7i"
      },
      "execution_count": 45,
      "outputs": []
    },
    {
      "cell_type": "code",
      "source": [
        "loss=regression_loss(predictions.T, batch_rating)\n",
        "loss"
      ],
      "metadata": {
        "id": "l38_kUO38Qn7",
        "colab": {
          "base_uri": "https://localhost:8080/"
        },
        "outputId": "7aec4975-068a-422c-d8cc-d39a1cf87f30"
      },
      "execution_count": 46,
      "outputs": [
        {
          "output_type": "execute_result",
          "data": {
            "text/plain": [
              "tensor(14.0915, device='cuda:0', grad_fn=<MeanBackward0>)"
            ]
          },
          "metadata": {},
          "execution_count": 46
        }
      ]
    },
    {
      "cell_type": "code",
      "source": [
        "loss.detach().cpu().numpy().tolist()"
      ],
      "metadata": {
        "id": "FZ3T-Ucv8yUK",
        "colab": {
          "base_uri": "https://localhost:8080/"
        },
        "outputId": "a1790774-eea5-4c7c-c457-a9e024da940e"
      },
      "execution_count": 47,
      "outputs": [
        {
          "output_type": "execute_result",
          "data": {
            "text/plain": [
              "14.09146499633789"
            ]
          },
          "metadata": {},
          "execution_count": 47
        }
      ]
    },
    {
      "cell_type": "markdown",
      "source": [
        "## Train and test the model"
      ],
      "metadata": {
        "id": "aMYwouCb884T"
      }
    },
    {
      "cell_type": "markdown",
      "source": [
        "Now we define `FactorizationModel` class  that allows us to train and evaluate the explicit factorization models.\n"
      ],
      "metadata": {
        "id": "mhJebD7X9v6Z"
      }
    },
    {
      "cell_type": "markdown",
      "metadata": {
        "id": "wz1h-gG-V1DX"
      },
      "source": [
        "- The `fit` function should take as argument a dataloader for the training and a dataloader for the validation. At the end of each epoch, you run the test method on the validation set. Then you print both the loss on the training set and on the validation set to see if you are overfitting.\n",
        "\n",
        "- Weight decay, or *L2 regularization*, consists in adding to your loss function the sum of all the weights squared. Why do that? Because when we compute the gradients, it will add a contribution to them that will encourage the weights to be as small as possible."
      ]
    },
    {
      "cell_type": "markdown",
      "source": [
        "**Exercise**: Filling in the missing code below to complete the training pass and validation pass."
      ],
      "metadata": {
        "id": "jyGx-MznEqk2"
      }
    },
    {
      "cell_type": "code",
      "execution_count": 48,
      "metadata": {
        "id": "2ekPPr7SUUG7"
      },
      "outputs": [],
      "source": [
        "class FactorizationModel(object):\n",
        "\n",
        "    def __init__(self, embedding_dim=32, n_iter=10, l2=0.0,\n",
        "                 learning_rate=1e-2, device=device, net=None, num_users=None,\n",
        "                 num_items=None,random_state=None):\n",
        "\n",
        "        self._embedding_dim = embedding_dim\n",
        "        self._n_iter = n_iter\n",
        "        self._learning_rate = learning_rate\n",
        "        self._l2 = l2\n",
        "        self._device = device\n",
        "        self._num_users = num_users\n",
        "        self._num_items = num_items\n",
        "        self._net = net\n",
        "        self._optimizer = None\n",
        "        self._loss_func = torch.nn.L1Loss()\n",
        "        self._random_state = random_state or np.random.RandomState()\n",
        "\n",
        "\n",
        "    def _initialize(self):\n",
        "        if self._net is None:\n",
        "            self._net = DotModel(self._num_users, self._num_items, self._embedding_dim).to(self._device)\n",
        "\n",
        "        self._optimizer = optim.Adam(\n",
        "                self._net.parameters(),\n",
        "                lr=self._learning_rate,\n",
        "                weight_decay=self._l2\n",
        "            )\n",
        "\n",
        "        self._loss_func = regression_loss\n",
        "\n",
        "    @property\n",
        "    def _initialized(self):\n",
        "        return self._optimizer is not None\n",
        "\n",
        "\n",
        "    def fit(self, dataloader, val_dataloader, verbose=True):\n",
        "        if not self._initialized:\n",
        "            self._initialize()\n",
        "\n",
        "        valid_loss_min = np.Inf # track change in validation loss\n",
        "        train_losses, valid_losses, valid_maes =[], [], [] # track train losses, valid loss, and valid maes over epoches\n",
        "\n",
        "        for epoch_num in range(self._n_iter):\n",
        "            tot_train_loss = 0.0\n",
        "            ###################\n",
        "            # train the model #\n",
        "            ###################\n",
        "            #TODO: trainining loop:\n",
        "            # your code\n",
        "            for train_user, train_item, train_rating in train_dataloader:\n",
        "                train_user, train_item, train_rating = train_user.to(self._device), train_item.to(self._device), train_rating.to(self._device)\n",
        "                self._optimizer.zero_grad()\n",
        "                predictions = self._net(train_user, train_item)\n",
        "                loss = self._loss_func(predictions.T, train_rating)\n",
        "                loss.backward()\n",
        "                self._optimizer.step()\n",
        "                tot_train_loss += loss.item()\n",
        "\n",
        "            train_loss = tot_train_loss /len(dataloader)\n",
        "\n",
        "            # Go to the validation loop\n",
        "            valid_loss, valid_mae = self.test(val_dataloader)\n",
        "\n",
        "            train_losses.append(train_loss)\n",
        "            valid_losses.append(valid_loss)\n",
        "            valid_maes.append(valid_mae)\n",
        "\n",
        "            if verbose:\n",
        "                print('Epoch {}: loss_train {}, loss_val {}'.format(epoch_num, train_loss,valid_loss))\n",
        "\n",
        "            if np.isnan(train_loss) or train_loss == 0.0:\n",
        "                raise ValueError('Degenerate train loss: {}'.format(train_loss))\n",
        "\n",
        "            #TODO: Saving model if validation loss has decreased\n",
        "            # your code\n",
        "            if valid_loss < valid_loss_min:\n",
        "              print('Validation loss decreased ({:.6f} --> {:.6f}). Saving model...'.format(valid_loss_min, valid_loss))\n",
        "              torch.save(self._net.state_dict(), 'best_model.pth')  # Save the model's state_dict\n",
        "              valid_loss_min = valid_loss\n",
        "\n",
        "        return train_losses, valid_losses, valid_maes\n",
        "\n",
        "\n",
        "    ######################\n",
        "    # validate/Test the model #\n",
        "    ######################\n",
        "    def test(self,dataloader, verbose = False):\n",
        "        self._net.eval()\n",
        "        L1loss = torch.nn.L1Loss()\n",
        "        tot_test_loss = 0.0\n",
        "        tot_test_mae = 0.0\n",
        "\n",
        "        # TODO: validation/testing loop\n",
        "        # your code here (mae = mean absolute error)\n",
        "        for valid_user, valid_item, valid_rating in dataloader:\n",
        "            #test_user, test_item, test_rating = test_user.to(self._device), test_item.to(self._device), test_rating.to(self.device)\n",
        "\n",
        "            predictions = self._net(valid_user, valid_item)\n",
        "            loss = self._loss_func(predictions.T, valid_rating)\n",
        "            tot_test_loss += loss.item()\n",
        "\n",
        "\n",
        "        test_loss = tot_test_loss / len(dataloader)\n",
        "        test_mae = tot_test_mae / len(dataloader)\n",
        "        if verbose:\n",
        "            print(f\"RMSE: {np.sqrt(test_loss)}, MAE: {test_mae}\")\n",
        "        return test_loss, test_mae\n",
        "\n",
        "    def predict(self, user_tensor, item_tensor):\n",
        "        self._net.eval()  # Set the model to evaluation mode\n",
        "        with torch.no_grad():\n",
        "            predictions = self._net(user_tensor, item_tensor)\n",
        "        return predictions"
      ]
    },
    {
      "cell_type": "code",
      "execution_count": 49,
      "metadata": {
        "id": "qGuzPUNrUUG_"
      },
      "outputs": [],
      "source": [
        "#TODO: Construct your model using FactorizationModel\n",
        "# your code\n",
        "model = FactorizationModel(embedding_dim=32, n_iter=10, l2=0.0,\n",
        "                 learning_rate=1e-2, device=device, net=net,  num_users=6040, num_items=3076)"
      ]
    },
    {
      "cell_type": "markdown",
      "source": [
        "**Exercise**: Train the model and plot the train losses and valid losses over epoches.\n",
        "At which epoch, you would stop the training? Include the plot and your answer in the report."
      ],
      "metadata": {
        "id": "fLZyF15WgbK7"
      }
    },
    {
      "cell_type": "code",
      "source": [
        "train_losses, valid_losses, valid_maes = model.fit(train_dataloader, val_dataloader)"
      ],
      "metadata": {
        "id": "eDKZYFbMsYDx",
        "colab": {
          "base_uri": "https://localhost:8080/"
        },
        "outputId": "2d93ca13-81f1-473b-d081-8a8009122e3e"
      },
      "execution_count": 50,
      "outputs": [
        {
          "output_type": "stream",
          "name": "stdout",
          "text": [
            "Epoch 0: loss_train 5.880405931159704, loss_val 2.142472726377574\n",
            "Validation loss decreased (inf --> 2.142473). Saving model...\n",
            "Epoch 1: loss_train 1.4994672592541185, loss_val 1.1928711289709264\n",
            "Validation loss decreased (2.142473 --> 1.192871). Saving model...\n",
            "Epoch 2: loss_train 1.1017982773106507, loss_val 1.0568043027411809\n",
            "Validation loss decreased (1.192871 --> 1.056804). Saving model...\n",
            "Epoch 3: loss_train 1.0341542029019557, loss_val 1.0285502110015263\n",
            "Validation loss decreased (1.056804 --> 1.028550). Saving model...\n",
            "Epoch 4: loss_train 1.0196706476536663, loss_val 1.021996066651561\n",
            "Validation loss decreased (1.028550 --> 1.021996). Saving model...\n",
            "Epoch 5: loss_train 1.0163189858348682, loss_val 1.0208567374131896\n",
            "Validation loss decreased (1.021996 --> 1.020857). Saving model...\n",
            "Epoch 6: loss_train 1.0156778194236034, loss_val 1.0208297568288716\n",
            "Validation loss decreased (1.020857 --> 1.020830). Saving model...\n",
            "Epoch 7: loss_train 1.0157728478161976, loss_val 1.0201867148280144\n",
            "Validation loss decreased (1.020830 --> 1.020187). Saving model...\n",
            "Epoch 8: loss_train 1.0154285550569042, loss_val 1.0201924863186749\n",
            "Epoch 9: loss_train 1.0156436366866333, loss_val 1.020735728469762\n"
          ]
        }
      ]
    },
    {
      "cell_type": "code",
      "source": [
        "import matplotlib.pyplot as plt\n",
        "\n",
        "plt.plot(range(len(train_losses)), train_losses, label='Train Loss')\n",
        "plt.plot(range(len(valid_losses)), valid_losses, label='Validation Loss')\n",
        "plt.xlabel('Epochs')\n",
        "plt.ylabel('Loss')\n",
        "plt.legend()\n",
        "plt.title('Train and Validation Losses over Epochs')\n",
        "plt.show()"
      ],
      "metadata": {
        "id": "qkND3O6ysnXm",
        "colab": {
          "base_uri": "https://localhost:8080/",
          "height": 472
        },
        "outputId": "5b8e13f7-4b69-4143-955a-8e2b5aa06951"
      },
      "execution_count": 51,
      "outputs": [
        {
          "output_type": "display_data",
          "data": {
            "text/plain": [
              "<Figure size 640x480 with 1 Axes>"
            ],
            "image/png": "[encoded data removed]"
          },
          "metadata": {}
        }
      ]
    },
    {
      "cell_type": "markdown",
      "source": [
        "**Exercise**: Now, let's compute the RMSE and mean absolute error on the test data. Include your answers in your report."
      ],
      "metadata": {
        "id": "iTwwARoap0WI"
      }
    },
    {
      "cell_type": "markdown",
      "metadata": {
        "id": "yXVIF75IUUHW"
      },
      "source": [
        "## Optimize your model and training\n",
        "\n",
        "**Exercise**: Play with the hyperparameters (embedding_dim, n_iter, learning_rate, L2 regularization, etc) to beat the benchmarks presented in [Surprise](https://github.com/NicolasHug/Surprise). List the hyperparameters and the RMSE and MAE on test data in the report. Save the model state to `model_cf.pt` and submit it to Canvas.\n"
      ]
    },
    {
      "cell_type": "markdown",
      "source": [
        "Here is comparison between the best benckmarks in [Surprise](https://github.com/NicolasHug/Surprise) and your model after hyperparameters tunning.\n",
        "\n",
        "| [Movielens 1M](https://grouplens.org/datasets/movielens/1m)                                                                             |   RMSE |   MAE |\n",
        "|:----------------------------------------------------------------------------------------------------------------------------------------|-------:|------:|\n",
        "| [SVD++ (cache_ratings=False)](https://surprise.readthedocs.io/en/stable/matrix_factorization.html#surprise.prediction_algorithms.matrix_factorization.SVDpp)  |  0.862 | 0.672 |\n",
        "| [SVD++ (cache_ratings=True)](https://surprise.readthedocs.io/en/stable/matrix_factorization.html#surprise.prediction_algorithms.matrix_factorization.SVDpp)  |  0.862 | 0.672 |\n",
        "| **Yours**|  **XXX** | **XXX** |\n",
        "\n"
      ],
      "metadata": {
        "id": "N3JT3S4X2H_z"
      }
    },
    {
      "cell_type": "markdown",
      "metadata": {
        "id": "VK3KgG47V1Di"
      },
      "source": [
        "## Interpreting Biases\n",
        "\n",
        "Now you need to rank the movies according to their bias. For this, you need to recover the biases of the movies, make a list of the pairs `[name of the movie, its bias]` and then sort this list according to the biases. You can use the method sort of a list.\n",
        "\n",
        "**Exercise**: What are your top 10 movies with the largest values of movie bias? What do you think about this ranking? Include your answers in your report."
      ]
    },
    {
      "cell_type": "code",
      "source": [
        "#model = torch.load('best_model.pth')"
      ],
      "metadata": {
        "id": "NVYaDnjABv3n"
      },
      "execution_count": 52,
      "outputs": []
    },
    {
      "cell_type": "code",
      "execution_count": 53,
      "metadata": {
        "id": "7KDDTQfxV1Di"
      },
      "outputs": [],
      "source": [
        "#TODO: retreive the bias of the movies from your optimized model and store it in the numpy array item_bais_np\n",
        "item_bias_np = model._net.item_biases.weight.detach().cpu().numpy()\n",
        "item_bias_np = item_bias_np.squeeze()\n",
        "#for i, movie_name in enumerate(all_ratings):"
      ]
    },
    {
      "cell_type": "code",
      "execution_count": 54,
      "metadata": {
        "id": "VgHLnzpQyS9B"
      },
      "outputs": [],
      "source": [
        "# construct a dictionary that maps item_num to item_name, and vice versa\n",
        "numitem_2_name = {i:name for name,i in np.asarray(all_ratings[['item_name', 'item_num']])}\n",
        "name_2_numitem = {name:i for name,i in np.asarray(all_ratings[['item_name', 'item_num']])}"
      ]
    },
    {
      "cell_type": "code",
      "execution_count": 55,
      "metadata": {
        "id": "ciREXjeuyS9B"
      },
      "outputs": [],
      "source": [
        "# Construct a list of movie names and the corresponding bias.\n",
        "list_name_bias = [[name, item_bias_np[name_2_numitem[name]]] for name in list(ratings_train['item_name'].unique())]"
      ]
    },
    {
      "cell_type": "code",
      "execution_count": 56,
      "metadata": {
        "id": "pe-H03pUyS9C",
        "colab": {
          "base_uri": "https://localhost:8080/"
        },
        "outputId": "c2e337e7-b5c6-4f52-cf58-3d92527d7db5"
      },
      "outputs": [
        {
          "output_type": "execute_result",
          "data": {
            "text/plain": [
              "[['Lamerica (1994)', 4.796035],\n",
              " ['Sanjuro (1962)', 4.694302],\n",
              " ['Apple, The (Sib) (1998)', 4.6629806],\n",
              " ['Grand Day Out, A (1992)', 4.5392847],\n",
              " ['Seven Samurai (The Magnificent Seven) (Shichinin no samurai) (1954)',\n",
              "  4.534247],\n",
              " ['Wallace & Gromit: The Best of Aardman Animation (1996)', 4.533013],\n",
              " ['Wrong Trousers, The (1993)', 4.5312624],\n",
              " ['Godfather, The (1972)', 4.5240827],\n",
              " ['Rear Window (1954)', 4.513261],\n",
              " ['Shawshank Redemption, The (1994)', 4.503968]]"
            ]
          },
          "metadata": {},
          "execution_count": 56
        }
      ],
      "source": [
        "#TODO: sort the movie names by biases and output the top 10 movie names with the largest biases.\n",
        "# your code\n",
        "from operator import itemgetter\n",
        "sorted_movies = sorted(list_name_bias, key=itemgetter(1), reverse=True)\n",
        "sorted_movies[:10]"
      ]
    },
    {
      "cell_type": "markdown",
      "metadata": {
        "id": "Dc1ZKW9XV1Dl"
      },
      "source": [
        "## PCA of movies' embeddings\n",
        "\n",
        "Now you can also play with the embeddings learned by your algorithm for the movies.\n",
        "\n",
        "It is not quite so easy to directly interpret the embedding matrices. There are just too many factors for a human to look at. But there is a technique that can pull out the most important underlying *directions* in such a matrix, called *principal component analysis* (PCA). We will not be going into this in detail in this class, because it is not particularly important for you to understand to be a deep learning practitioner. We can visualize the movie embeddings based on two of the strongest PCA components."
      ]
    },
    {
      "cell_type": "markdown",
      "source": [
        "**Exercise**: Do you observe anything interesting from the movie embeddings? Include the plot of the movie embeddings and your answer in your report."
      ],
      "metadata": {
        "id": "6audyNC7RxzP"
      }
    },
    {
      "cell_type": "code",
      "execution_count": 57,
      "metadata": {
        "id": "HX37hFDsV1Dl"
      },
      "outputs": [],
      "source": [
        "from sklearn.decomposition import PCA\n",
        "from operator import itemgetter"
      ]
    },
    {
      "cell_type": "code",
      "execution_count": 58,
      "metadata": {
        "id": "J3JKToYkyS9D"
      },
      "outputs": [],
      "source": [
        "#TODO: retrive your movie embedding vectors and store them as a numpy matrix\n",
        "#item_emb_np =model._net.item_embeddings.weight.data.cpu().numpy()\n",
        "item_emb_np = model._net.item_embeddings.weight.to('cpu').data.numpy()\n",
        "#item_emb_np = model['item_biases.weight'].detach().cpu().numpy()"
      ]
    },
    {
      "cell_type": "code",
      "source": [
        "n_components = min(item_emb_np.shape)"
      ],
      "metadata": {
        "id": "QfQCBiuLDC1H"
      },
      "execution_count": 59,
      "outputs": []
    },
    {
      "cell_type": "code",
      "source": [
        "n_components"
      ],
      "metadata": {
        "id": "YAd10ClvDFSt",
        "colab": {
          "base_uri": "https://localhost:8080/"
        },
        "outputId": "f8b26c45-769d-490e-cf38-d3be37810515"
      },
      "execution_count": 60,
      "outputs": [
        {
          "output_type": "execute_result",
          "data": {
            "text/plain": [
              "32"
            ]
          },
          "metadata": {},
          "execution_count": 60
        }
      ]
    },
    {
      "cell_type": "code",
      "execution_count": 61,
      "metadata": {
        "id": "ICTZZA_ryS9E"
      },
      "outputs": [],
      "source": [
        "#Here we perform PCA to extract the 4 principal components\n",
        "\n",
        "pca = PCA(n_components=4)\n",
        "latent_fac = pca.fit_transform(item_emb_np)"
      ]
    },
    {
      "cell_type": "markdown",
      "source": [
        "Next, we plot the embeddings of the top 80 mostly rated movies using the second and third principal components."
      ],
      "metadata": {
        "id": "xVeF3WyEU4zk"
      }
    },
    {
      "cell_type": "code",
      "source": [
        "#Here we get the top 1000 mostly rated movies\n",
        "g = all_ratings.groupby('item_name')['ratings'].count()\n",
        "most_rated_movies = g.sort_values(ascending=False).index.values[:1000]\n",
        "# we get the corresponding movie numbers\n",
        "most_rated_movies_num = [name_2_numitem[n] for n in most_rated_movies]"
      ],
      "metadata": {
        "id": "sXY9VbTTU4Hj"
      },
      "execution_count": 62,
      "outputs": []
    },
    {
      "cell_type": "code",
      "execution_count": 169,
      "metadata": {
        "id": "9ExxO9aTyS9F",
        "colab": {
          "base_uri": "https://localhost:8080/",
          "height": 676
        },
        "outputId": "2a621b36-f708-4443-b592-595cde64c6ec"
      },
      "outputs": [
        {
          "output_type": "display_data",
          "data": {
            "text/plain": [
              "<Figure size 800x800 with 1 Axes>"
            ],
            "image/png": "[encoded data removed]"
          },
          "metadata": {}
        }
      ],
      "source": [
        "nums = most_rated_movies_num[:80]\n",
        "txt_movies_names = [numitem_2_name[i] for i in nums]\n",
        "X = latent_fac[nums,1]\n",
        "Y = latent_fac[nums,2]\n",
        "plt.figure(figsize=(8,8))\n",
        "plt.scatter(X,Y, s=100)\n",
        "for i, x, y in zip(txt_movies_names, X, Y):\n",
        "    plt.text(x+0.01,y-0.01,i, fontsize=8)\n",
        "plt.xlim(-0.5, 0.5)\n",
        "plt.ylim(-0.5, 0.5)\n",
        "plt.show()"
      ]
    },
    {
      "cell_type": "markdown",
      "source": [
        "## Predict your own ratings\n",
        "\n",
        "Now that we have succesfully trained a model, let's see how to deal with the situation where we have a new user. How can we make recommendations to new users?\n",
        "\n",
        "It turns out that we can utilize the learned movie embedding vectors to estimate new users' embedding vector, based on a few ratings from them. You may have noticed that when you sign up for services such as Pandora and Netflix, they tend to ask you a few questions about what movie or music you like; this is how they come up with your initial collaborative filtering recommendations.\n",
        "\n",
        "\n",
        "- First, give 40 ratings between 1-5 to the movies that your team watched before among the mostly rated movies;"
      ],
      "metadata": {
        "id": "4Zcau6EUUURG"
      }
    },
    {
      "cell_type": "code",
      "source": [
        "import random\n",
        "my_ratings = {}\n",
        "for i  in random.sample(most_rated_movies_num, 40):\n",
        "    my_ratings[i] = random.randint(1,5)"
      ],
      "metadata": {
        "id": "oGZfqlMW-EtT"
      },
      "execution_count": 64,
      "outputs": []
    },
    {
      "cell_type": "markdown",
      "source": [
        "\n",
        "- Second, compute your own embedding vector `my_emb_np` and `my_emb_bias` by running an ordinary least squares with L_2 regularization based on your ratings and the previously computed movie embedding vectors. In other words, `item_emb_np` is the co-variate and your own 40 ratings are the response.\n",
        "\n",
        "  Hint: you may use the [ridge regression (linear regression with L2 regularization)](https://scikit-learn.org/stable/modules/generated/sklearn.linear_model.Ridge.html) in the sklearn package."
      ],
      "metadata": {
        "id": "FQjezgMJzKuL"
      }
    },
    {
      "cell_type": "code",
      "source": [
        "#TODO: compute your own embedding vector and bias\n",
        "from sklearn.linear_model import Ridge\n",
        "item_emb_np = model._net.item_embeddings.weight.to('cpu').data.numpy()\n",
        "#item_emb_np = model['item_biases.weight'].detach().cpu().numpy()\n",
        "X = item_emb_np[list(my_ratings.keys())]\n",
        "Y = np.array(list(my_ratings.values()))\n",
        "ridge = Ridge(alpha = 0.01)\n",
        "ridge.fit(X,Y)\n",
        "my_emb_np = ridge.coef_\n",
        "my_emb_bias = ridge.intercept_"
      ],
      "metadata": {
        "id": "YRF6EH3y-JSu"
      },
      "execution_count": 65,
      "outputs": []
    },
    {
      "cell_type": "markdown",
      "source": [
        "-  Then compute the predicted ratings for all movies using your embedding vectors and biases, together with the movie embedding vectors and biases."
      ],
      "metadata": {
        "id": "rweDLiwXeE53"
      }
    },
    {
      "cell_type": "code",
      "source": [
        "# compute pred_ratings\n",
        "pred_ratings = np.dot(item_emb_np, my_emb_np.T) + item_bias_np + my_emb_bias"
      ],
      "metadata": {
        "id": "jN4GobDrHwvA"
      },
      "execution_count": 66,
      "outputs": []
    },
    {
      "cell_type": "markdown",
      "source": [
        "- Finally, among all movies that you haven't rated, output the top 10 movies with the highest predicted ratings."
      ],
      "metadata": {
        "id": "cmuoQ966z9EQ"
      }
    },
    {
      "cell_type": "code",
      "source": [
        "# output the top 10 movies with the highest predicted ratings.\n",
        "missing_ratings_indc  = [i for i in range(len(pred_ratings)) if i not in my_ratings]\n",
        "top10_unrated = sorted(missing_ratings_indc, key=lambda x: pred_ratings[x], reverse=True)[:10]\n",
        "top10_movies = [numitem_2_name[i] for i in top10_unrated]\n",
        "\n",
        "for idx, movie in enumerate(top10_movies, 1):\n",
        "    print(f\"{idx}. {movie}\")"
      ],
      "metadata": {
        "id": "pDYEImAIjI-H",
        "colab": {
          "base_uri": "https://localhost:8080/"
        },
        "outputId": "b6023d5c-5ec5-44b6-fabf-e67910e75127"
      },
      "execution_count": 67,
      "outputs": [
        {
          "output_type": "stream",
          "name": "stdout",
          "text": [
            "1. Lamerica (1994)\n",
            "2. Sanjuro (1962)\n",
            "3. Apple, The (Sib) (1998)\n",
            "4. Grand Day Out, A (1992)\n",
            "5. Seven Samurai (The Magnificent Seven) (Shichinin no samurai) (1954)\n",
            "6. Wallace & Gromit: The Best of Aardman Animation (1996)\n",
            "7. Wrong Trousers, The (1993)\n",
            "8. Godfather, The (1972)\n",
            "9. Rear Window (1954)\n",
            "10. Shawshank Redemption, The (1994)\n"
          ]
        }
      ]
    },
    {
      "cell_type": "markdown",
      "source": [
        "**Question**: How do you feel about the predicted ratings? Do you like these top 10 movies? Include your answer in your report."
      ],
      "metadata": {
        "id": "FZ20yUNHk_7Y"
      }
    },
    {
      "cell_type": "markdown",
      "source": [
        "---\n",
        "## Movie valuation\n",
        "\n",
        "The rating data provided the company like Netflix information about the value of a movie that was not available to movie production studios. The collaborative filting algorithm allows Netflix to accurately value the content in a data-driven manner. For example, if Netflix were offered the opportunity to license *Toy Story (1995)*, it would need to provide Disney an initial quote of the license fee. Traditional methods suggest looking at box office returns of *Toy Story* franchise and projecting the potential value of the film.\n",
        "\n",
        "In this following, we will explore a novel approach to determine the valuation of a movie based on the predicted ratings. We make the following simplifying assumpitons (Note that these assumptions can be certainly relaxed with more complicated procedures and data):\n",
        "\n",
        "- **Netflix are focusing on the top 1000 active users and 1000 popular movies (with the most number of observed ratings).** In other words, in the following movie valuation calculation, we just consider the top 1000 activie users and 1000 popular movies, disregarding the rest.\n",
        "\n",
        "- For each user, the total amount of viewing time is proportional to the number of observed ratings. In other words, more active users spend more time on Netflix;\n",
        "\n",
        "- For each given user, the viewing time across different movies follow a [Zipf's law](https://en.wikipedia.org/wiki/Zipf%27s_law), that is\n",
        "\n",
        "  $$\n",
        "    \\text{Viewtime of movie $i$} \\propto \\frac{1}{\\text{rank of } i }\n",
        "  $$\n",
        "  Here the rank of $i$ is determined by sorting the **predicted rating** of movie $i$ by the user in descending order. In other words, the user spend less time on watching movies with lower ratings.\n",
        "\n",
        "- Netflix has a fixed total budget of 1 Billion dollars to license the content;\n",
        "\n",
        "- Netflix estimates the value of a movie based on the expected share of customer viewing time of the movie on its platform:\n",
        "$$\n",
        "\\text{Value of a movie $i$ } = \\frac{\\text{View time of movie $i$ of all users}}{\\text{Total view time of all users} } \\times \\text{Total content license budget}\n",
        "$$"
      ],
      "metadata": {
        "id": "Z7fPfgNBoFT7"
      }
    },
    {
      "cell_type": "markdown",
      "source": [
        "\n",
        "### Compute the value of each movie"
      ],
      "metadata": {
        "id": "p7nNaeIJrxKA"
      }
    },
    {
      "cell_type": "code",
      "source": [
        "# Get indices for top 1000 active users and top 1000 mostly rated movies\n",
        "top1000_user_num = pd.Series(all_ratings[\"user_num\"].value_counts()[:1000].index, name=\"user_num\")\n",
        "top1000_item_num = pd.Series(all_ratings[\"item_num\"].value_counts()[:1000].index, name=\"item_num\")\n",
        "# Construct dataframes for storing predicted ratings\n",
        "pred_ratings = pd.merge(top1000_user_num, top1000_item_num, how=\"cross\")\n",
        "cartesian_user_num = torch.from_numpy(np.asarray(pred_ratings[\"user_num\"])).to(device)\n",
        "cartesian_item_num = torch.from_numpy(np.asarray(pred_ratings[\"item_num\"])).to(device)"
      ],
      "metadata": {
        "id": "z_C67BTjrSDc"
      },
      "execution_count": 108,
      "outputs": []
    },
    {
      "cell_type": "code",
      "source": [
        "cartesian_item_num"
      ],
      "metadata": {
        "id": "LGTC7438JvMs",
        "colab": {
          "base_uri": "https://localhost:8080/"
        },
        "outputId": "3aaa381a-e8ac-4658-c3a7-18d3bad29dc2"
      },
      "execution_count": 109,
      "outputs": [
        {
          "output_type": "execute_result",
          "data": {
            "text/plain": [
              "tensor([2651,  253, 1106,  ..., 2614, 1608,  966], device='cuda:0')"
            ]
          },
          "metadata": {},
          "execution_count": 109
        }
      ]
    },
    {
      "cell_type": "code",
      "source": [
        "# sanity check: # of rows in pred_ratings == # of active users (1000) x # of popular items (1000)\n",
        "pred_ratings.shape[0] == 1000 * 1000"
      ],
      "metadata": {
        "id": "6Iga7-hsbB28",
        "colab": {
          "base_uri": "https://localhost:8080/"
        },
        "outputId": "63841f5a-ae3a-47cc-8ce4-e1cf5c53ab6b"
      },
      "execution_count": 110,
      "outputs": [
        {
          "output_type": "execute_result",
          "data": {
            "text/plain": [
              "True"
            ]
          },
          "metadata": {},
          "execution_count": 110
        }
      ]
    },
    {
      "cell_type": "code",
      "source": [
        "user_tensor = torch.LongTensor(top1000_user_num).to(device)\n",
        "item_tensor = torch.LongTensor(top1000_item_num).to(device)"
      ],
      "metadata": {
        "id": "8LP_OqR8HPPU"
      },
      "execution_count": 111,
      "outputs": []
    },
    {
      "cell_type": "code",
      "source": [
        "bestmodel = torch.load('best_model.pth')"
      ],
      "metadata": {
        "id": "ZyLA1-c0kgac"
      },
      "execution_count": 112,
      "outputs": []
    },
    {
      "cell_type": "code",
      "source": [
        "#TODO: use your optimized model to compute the predicted ratings among the top 1000 active users and top 1000 popular movies\n",
        "all_pred_ratings = []\n",
        "batch_size = 100\n",
        "for i in range(0, len(pred_ratings), batch_size):\n",
        "    all_pred_ratings.extend(model._net(cartesian_user_num[i:i+batch_size],\n",
        "                                       cartesian_item_num[i:i+batch_size]).detach().cpu().numpy().tolist())\n",
        "\n",
        "vec = []\n",
        "for i in range(len(all_pred_ratings)):\n",
        "    vec.append((sum(all_pred_ratings[i]))/len(all_pred_ratings[i]))\n",
        "\n",
        "\n",
        "\n",
        "pred_ratings[\"pred_ratings\"] = vec"
      ],
      "metadata": {
        "id": "Kwd0kppNsy1x"
      },
      "execution_count": 113,
      "outputs": []
    },
    {
      "cell_type": "code",
      "source": [
        "pred_ratings"
      ],
      "metadata": {
        "colab": {
          "base_uri": "https://localhost:8080/",
          "height": 423
        },
        "id": "IdIlzUd7mkBl",
        "outputId": "ff423a11-bb0c-4250-c85c-1a28af018aa5"
      },
      "execution_count": 114,
      "outputs": [
        {
          "output_type": "execute_result",
          "data": {
            "text/plain": [
              "        user_num  item_num  pred_ratings\n",
              "0           4168      2651      3.920109\n",
              "1           4168       253      3.989477\n",
              "2           4168      1106      3.941038\n",
              "3           4168      1120      3.754422\n",
              "4           4168       466      3.598985\n",
              "...          ...       ...           ...\n",
              "999995      3411      2126      4.033844\n",
              "999996      3411        67      3.983357\n",
              "999997      3411      2614      4.073820\n",
              "999998      3411      1608      3.639184\n",
              "999999      3411       966      3.867742\n",
              "\n",
              "[1000000 rows x 3 columns]"
            ],
            "text/html": [
              "\n",
              "  <div id=\"df-95f2d4f0-b685-493c-95d4-b22582d81d0a\" class=\"colab-df-container\">\n",
              "    <div>\n",
              "<style scoped>\n",
              "    .dataframe tbody tr th:only-of-type {\n",
              "        vertical-align: middle;\n",
              "    }\n",
              "\n",
              "    .dataframe tbody tr th {\n",
              "        vertical-align: top;\n",
              "    }\n",
              "\n",
              "    .dataframe thead th {\n",
              "        text-align: right;\n",
              "    }\n",
              "</style>\n",
              "<table border=\"1\" class=\"dataframe\">\n",
              "  <thead>\n",
              "    <tr style=\"text-align: right;\">\n",
              "      <th></th>\n",
              "      <th>user_num</th>\n",
              "      <th>item_num</th>\n",
              "      <th>pred_ratings</th>\n",
              "    </tr>\n",
              "  </thead>\n",
              "  <tbody>\n",
              "    <tr>\n",
              "      <th>0</th>\n",
              "      <td>4168</td>\n",
              "      <td>2651</td>\n",
              "      <td>3.920109</td>\n",
              "    </tr>\n",
              "    <tr>\n",
              "      <th>1</th>\n",
              "      <td>4168</td>\n",
              "      <td>253</td>\n",
              "      <td>3.989477</td>\n",
              "    </tr>\n",
              "    <tr>\n",
              "      <th>2</th>\n",
              "      <td>4168</td>\n",
              "      <td>1106</td>\n",
              "      <td>3.941038</td>\n",
              "    </tr>\n",
              "    <tr>\n",
              "      <th>3</th>\n",
              "      <td>4168</td>\n",
              "      <td>1120</td>\n",
              "      <td>3.754422</td>\n",
              "    </tr>\n",
              "    <tr>\n",
              "      <th>4</th>\n",
              "      <td>4168</td>\n",
              "      <td>466</td>\n",
              "      <td>3.598985</td>\n",
              "    </tr>\n",
              "    <tr>\n",
              "      <th>...</th>\n",
              "      <td>...</td>\n",
              "      <td>...</td>\n",
              "      <td>...</td>\n",
              "    </tr>\n",
              "    <tr>\n",
              "      <th>999995</th>\n",
              "      <td>3411</td>\n",
              "      <td>2126</td>\n",
              "      <td>4.033844</td>\n",
              "    </tr>\n",
              "    <tr>\n",
              "      <th>999996</th>\n",
              "      <td>3411</td>\n",
              "      <td>67</td>\n",
              "      <td>3.983357</td>\n",
              "    </tr>\n",
              "    <tr>\n",
              "      <th>999997</th>\n",
              "      <td>3411</td>\n",
              "      <td>2614</td>\n",
              "      <td>4.073820</td>\n",
              "    </tr>\n",
              "    <tr>\n",
              "      <th>999998</th>\n",
              "      <td>3411</td>\n",
              "      <td>1608</td>\n",
              "      <td>3.639184</td>\n",
              "    </tr>\n",
              "    <tr>\n",
              "      <th>999999</th>\n",
              "      <td>3411</td>\n",
              "      <td>966</td>\n",
              "      <td>3.867742</td>\n",
              "    </tr>\n",
              "  </tbody>\n",
              "</table>\n",
              "<p>1000000 rows × 3 columns</p>\n",
              "</div>\n",
              "    <div class=\"colab-df-buttons\">\n",
              "\n",
              "  <div class=\"colab-df-container\">\n",
              "    <button class=\"colab-df-convert\" onclick=\"convertToInteractive('df-95f2d4f0-b685-493c-95d4-b22582d81d0a')\"\n",
              "            title=\"Convert this dataframe to an interactive table.\"\n",
              "            style=\"display:none;\">\n",
              "\n",
              "  <svg xmlns=\"http://www.w3.org/2000/svg\" height=\"24px\" viewBox=\"0 -960 960 960\">\n",
              "    <path d=\"M120-120v-720h720v720H120Zm60-500h600v-160H180v160Zm220 220h160v-160H400v160Zm0 220h160v-160H400v160ZM180-400h160v-160H180v160Zm440 0h160v-160H620v160ZM180-180h160v-160H180v160Zm440 0h160v-160H620v160Z\"/>\n",
              "  </svg>\n",
              "    </button>\n",
              "\n",
              "  <style>\n",
              "    .colab-df-container {\n",
              "      display:flex;\n",
              "      gap: 12px;\n",
              "    }\n",
              "\n",
              "    .colab-df-convert {\n",
              "      background-color: #E8F0FE;\n",
              "      border: none;\n",
              "      border-radius: 50%;\n",
              "      cursor: pointer;\n",
              "      display: none;\n",
              "      fill: #1967D2;\n",
              "      height: 32px;\n",
              "      padding: 0 0 0 0;\n",
              "      width: 32px;\n",
              "    }\n",
              "\n",
              "    .colab-df-convert:hover {\n",
              "      background-color: #E2EBFA;\n",
              "      box-shadow: 0px 1px 2px rgba(60, 64, 67, 0.3), 0px 1px 3px 1px rgba(60, 64, 67, 0.15);\n",
              "      fill: #174EA6;\n",
              "    }\n",
              "\n",
              "    .colab-df-buttons div {\n",
              "      margin-bottom: 4px;\n",
              "    }\n",
              "\n",
              "    [theme=dark] .colab-df-convert {\n",
              "      background-color: #3B4455;\n",
              "      fill: #D2E3FC;\n",
              "    }\n",
              "\n",
              "    [theme=dark] .colab-df-convert:hover {\n",
              "      background-color: #434B5C;\n",
              "      box-shadow: 0px 1px 3px 1px rgba(0, 0, 0, 0.15);\n",
              "      filter: drop-shadow(0px 1px 2px rgba(0, 0, 0, 0.3));\n",
              "      fill: #FFFFFF;\n",
              "    }\n",
              "  </style>\n",
              "\n",
              "    <script>\n",
              "      const buttonEl =\n",
              "        document.querySelector('#df-95f2d4f0-b685-493c-95d4-b22582d81d0a button.colab-df-convert');\n",
              "      buttonEl.style.display =\n",
              "        google.colab.kernel.accessAllowed ? 'block' : 'none';\n",
              "\n",
              "      async function convertToInteractive(key) {\n",
              "        const element = document.querySelector('#df-95f2d4f0-b685-493c-95d4-b22582d81d0a');\n",
              "        const dataTable =\n",
              "          await google.colab.kernel.invokeFunction('convertToInteractive',\n",
              "                                                    [key], {});\n",
              "        if (!dataTable) return;\n",
              "\n",
              "        const docLinkHtml = 'Like what you see? Visit the ' +\n",
              "          '<a target=\"_blank\" href=https://colab.research.google.com/notebooks/data_table.ipynb>data table notebook</a>'\n",
              "          + ' to learn more about interactive tables.';\n",
              "        element.innerHTML = '';\n",
              "        dataTable['output_type'] = 'display_data';\n",
              "        await google.colab.output.renderOutput(dataTable, element);\n",
              "        const docLink = document.createElement('div');\n",
              "        docLink.innerHTML = docLinkHtml;\n",
              "        element.appendChild(docLink);\n",
              "      }\n",
              "    </script>\n",
              "  </div>\n",
              "\n",
              "\n",
              "<div id=\"df-b48d7a62-a78d-4cd1-ab68-471cb1e164ad\">\n",
              "  <button class=\"colab-df-quickchart\" onclick=\"quickchart('df-b48d7a62-a78d-4cd1-ab68-471cb1e164ad')\"\n",
              "            title=\"Suggest charts\"\n",
              "            style=\"display:none;\">\n",
              "\n",
              "<svg xmlns=\"http://www.w3.org/2000/svg\" height=\"24px\"viewBox=\"0 0 24 24\"\n",
              "     width=\"24px\">\n",
              "    <g>\n",
              "        <path d=\"M19 3H5c-1.1 0-2 .9-2 2v14c0 1.1.9 2 2 2h14c1.1 0 2-.9 2-2V5c0-1.1-.9-2-2-2zM9 17H7v-7h2v7zm4 0h-2V7h2v10zm4 0h-2v-4h2v4z\"/>\n",
              "    </g>\n",
              "</svg>\n",
              "  </button>\n",
              "\n",
              "<style>\n",
              "  .colab-df-quickchart {\n",
              "      --bg-color: #E8F0FE;\n",
              "      --fill-color: #1967D2;\n",
              "      --hover-bg-color: #E2EBFA;\n",
              "      --hover-fill-color: #174EA6;\n",
              "      --disabled-fill-color: #AAA;\n",
              "      --disabled-bg-color: #DDD;\n",
              "  }\n",
              "\n",
              "  [theme=dark] .colab-df-quickchart {\n",
              "      --bg-color: #3B4455;\n",
              "      --fill-color: #D2E3FC;\n",
              "      --hover-bg-color: #434B5C;\n",
              "      --hover-fill-color: #FFFFFF;\n",
              "      --disabled-bg-color: #3B4455;\n",
              "      --disabled-fill-color: #666;\n",
              "  }\n",
              "\n",
              "  .colab-df-quickchart {\n",
              "    background-color: var(--bg-color);\n",
              "    border: none;\n",
              "    border-radius: 50%;\n",
              "    cursor: pointer;\n",
              "    display: none;\n",
              "    fill: var(--fill-color);\n",
              "    height: 32px;\n",
              "    padding: 0;\n",
              "    width: 32px;\n",
              "  }\n",
              "\n",
              "  .colab-df-quickchart:hover {\n",
              "    background-color: var(--hover-bg-color);\n",
              "    box-shadow: 0 1px 2px rgba(60, 64, 67, 0.3), 0 1px 3px 1px rgba(60, 64, 67, 0.15);\n",
              "    fill: var(--button-hover-fill-color);\n",
              "  }\n",
              "\n",
              "  .colab-df-quickchart-complete:disabled,\n",
              "  .colab-df-quickchart-complete:disabled:hover {\n",
              "    background-color: var(--disabled-bg-color);\n",
              "    fill: var(--disabled-fill-color);\n",
              "    box-shadow: none;\n",
              "  }\n",
              "\n",
              "  .colab-df-spinner {\n",
              "    border: 2px solid var(--fill-color);\n",
              "    border-color: transparent;\n",
              "    border-bottom-color: var(--fill-color);\n",
              "    animation:\n",
              "      spin 1s steps(1) infinite;\n",
              "  }\n",
              "\n",
              "  @keyframes spin {\n",
              "    0% {\n",
              "      border-color: transparent;\n",
              "      border-bottom-color: var(--fill-color);\n",
              "      border-left-color: var(--fill-color);\n",
              "    }\n",
              "    20% {\n",
              "      border-color: transparent;\n",
              "      border-left-color: var(--fill-color);\n",
              "      border-top-color: var(--fill-color);\n",
              "    }\n",
              "    30% {\n",
              "      border-color: transparent;\n",
              "      border-left-color: var(--fill-color);\n",
              "      border-top-color: var(--fill-color);\n",
              "      border-right-color: var(--fill-color);\n",
              "    }\n",
              "    40% {\n",
              "      border-color: transparent;\n",
              "      border-right-color: var(--fill-color);\n",
              "      border-top-color: var(--fill-color);\n",
              "    }\n",
              "    60% {\n",
              "      border-color: transparent;\n",
              "      border-right-color: var(--fill-color);\n",
              "    }\n",
              "    80% {\n",
              "      border-color: transparent;\n",
              "      border-right-color: var(--fill-color);\n",
              "      border-bottom-color: var(--fill-color);\n",
              "    }\n",
              "    90% {\n",
              "      border-color: transparent;\n",
              "      border-bottom-color: var(--fill-color);\n",
              "    }\n",
              "  }\n",
              "</style>\n",
              "\n",
              "  <script>\n",
              "    async function quickchart(key) {\n",
              "      const quickchartButtonEl =\n",
              "        document.querySelector('#' + key + ' button');\n",
              "      quickchartButtonEl.disabled = true;  // To prevent multiple clicks.\n",
              "      quickchartButtonEl.classList.add('colab-df-spinner');\n",
              "      try {\n",
              "        const charts = await google.colab.kernel.invokeFunction(\n",
              "            'suggestCharts', [key], {});\n",
              "      } catch (error) {\n",
              "        console.error('Error during call to suggestCharts:', error);\n",
              "      }\n",
              "      quickchartButtonEl.classList.remove('colab-df-spinner');\n",
              "      quickchartButtonEl.classList.add('colab-df-quickchart-complete');\n",
              "    }\n",
              "    (() => {\n",
              "      let quickchartButtonEl =\n",
              "        document.querySelector('#df-b48d7a62-a78d-4cd1-ab68-471cb1e164ad button');\n",
              "      quickchartButtonEl.style.display =\n",
              "        google.colab.kernel.accessAllowed ? 'block' : 'none';\n",
              "    })();\n",
              "  </script>\n",
              "</div>\n",
              "\n",
              "  <div id=\"id_eaf1a115-fa71-4e1f-bf24-3f84dfea16f2\">\n",
              "    <style>\n",
              "      .colab-df-generate {\n",
              "        background-color: #E8F0FE;\n",
              "        border: none;\n",
              "        border-radius: 50%;\n",
              "        cursor: pointer;\n",
              "        display: none;\n",
              "        fill: #1967D2;\n",
              "        height: 32px;\n",
              "        padding: 0 0 0 0;\n",
              "        width: 32px;\n",
              "      }\n",
              "\n",
              "      .colab-df-generate:hover {\n",
              "        background-color: #E2EBFA;\n",
              "        box-shadow: 0px 1px 2px rgba(60, 64, 67, 0.3), 0px 1px 3px 1px rgba(60, 64, 67, 0.15);\n",
              "        fill: #174EA6;\n",
              "      }\n",
              "\n",
              "      [theme=dark] .colab-df-generate {\n",
              "        background-color: #3B4455;\n",
              "        fill: #D2E3FC;\n",
              "      }\n",
              "\n",
              "      [theme=dark] .colab-df-generate:hover {\n",
              "        background-color: #434B5C;\n",
              "        box-shadow: 0px 1px 3px 1px rgba(0, 0, 0, 0.15);\n",
              "        filter: drop-shadow(0px 1px 2px rgba(0, 0, 0, 0.3));\n",
              "        fill: #FFFFFF;\n",
              "      }\n",
              "    </style>\n",
              "    <button class=\"colab-df-generate\" onclick=\"generateWithVariable('pred_ratings')\"\n",
              "            title=\"Generate code using this dataframe.\"\n",
              "            style=\"display:none;\">\n",
              "\n",
              "  <svg xmlns=\"http://www.w3.org/2000/svg\" height=\"24px\"viewBox=\"0 0 24 24\"\n",
              "       width=\"24px\">\n",
              "    <path d=\"M7,19H8.4L18.45,9,17,7.55,7,17.6ZM5,21V16.75L18.45,3.32a2,2,0,0,1,2.83,0l1.4,1.43a1.91,1.91,0,0,1,.58,1.4,1.91,1.91,0,0,1-.58,1.4L9.25,21ZM18.45,9,17,7.55Zm-12,3A5.31,5.31,0,0,0,4.9,8.1,5.31,5.31,0,0,0,1,6.5,5.31,5.31,0,0,0,4.9,4.9,5.31,5.31,0,0,0,6.5,1,5.31,5.31,0,0,0,8.1,4.9,5.31,5.31,0,0,0,12,6.5,5.46,5.46,0,0,0,6.5,12Z\"/>\n",
              "  </svg>\n",
              "    </button>\n",
              "    <script>\n",
              "      (() => {\n",
              "      const buttonEl =\n",
              "        document.querySelector('#id_eaf1a115-fa71-4e1f-bf24-3f84dfea16f2 button.colab-df-generate');\n",
              "      buttonEl.style.display =\n",
              "        google.colab.kernel.accessAllowed ? 'block' : 'none';\n",
              "\n",
              "      buttonEl.onclick = () => {\n",
              "        google.colab.notebook.generateWithVariable('pred_ratings');\n",
              "      }\n",
              "      })();\n",
              "    </script>\n",
              "  </div>\n",
              "\n",
              "    </div>\n",
              "  </div>\n"
            ]
          },
          "metadata": {},
          "execution_count": 114
        }
      ]
    },
    {
      "cell_type": "code",
      "source": [
        "# Each user's total viewtime is stored in Series user_total_viewtime\n",
        "user_total_viewtime = all_ratings[\"user_num\"].value_counts()[:1000] / all_ratings[\"user_num\"].value_counts()[:1000].sum()\n",
        "user_total_viewtime.name = \"user_total_viewtime\"\n",
        "user_total_viewtime.index.name = \"user_num\"\n",
        "pred_ratings = pd.merge(pred_ratings, user_total_viewtime, left_on=\"user_num\", right_on=\"user_num\", how=\"left\")"
      ],
      "metadata": {
        "id": "JPb_QqWnTS-p"
      },
      "execution_count": 115,
      "outputs": []
    },
    {
      "cell_type": "code",
      "source": [
        "pred_ratings.head()"
      ],
      "metadata": {
        "id": "XwtRGaxMHgX4",
        "colab": {
          "base_uri": "https://localhost:8080/",
          "height": 206
        },
        "outputId": "0da7f257-57b8-430a-a62a-c40365949092"
      },
      "execution_count": 116,
      "outputs": [
        {
          "output_type": "execute_result",
          "data": {
            "text/plain": [
              "   user_num  item_num  pred_ratings  user_total_viewtime\n",
              "0      4168      2651      3.920109              0.00449\n",
              "1      4168       253      3.989477              0.00449\n",
              "2      4168      1106      3.941038              0.00449\n",
              "3      4168      1120      3.754422              0.00449\n",
              "4      4168       466      3.598985              0.00449"
            ],
            "text/html": [
              "\n",
              "  <div id=\"df-2ae51200-2a1a-41f1-b8a5-be462160a4dd\" class=\"colab-df-container\">\n",
              "    <div>\n",
              "<style scoped>\n",
              "    .dataframe tbody tr th:only-of-type {\n",
              "        vertical-align: middle;\n",
              "    }\n",
              "\n",
              "    .dataframe tbody tr th {\n",
              "        vertical-align: top;\n",
              "    }\n",
              "\n",
              "    .dataframe thead th {\n",
              "        text-align: right;\n",
              "    }\n",
              "</style>\n",
              "<table border=\"1\" class=\"dataframe\">\n",
              "  <thead>\n",
              "    <tr style=\"text-align: right;\">\n",
              "      <th></th>\n",
              "      <th>user_num</th>\n",
              "      <th>item_num</th>\n",
              "      <th>pred_ratings</th>\n",
              "      <th>user_total_viewtime</th>\n",
              "    </tr>\n",
              "  </thead>\n",
              "  <tbody>\n",
              "    <tr>\n",
              "      <th>0</th>\n",
              "      <td>4168</td>\n",
              "      <td>2651</td>\n",
              "      <td>3.920109</td>\n",
              "      <td>0.00449</td>\n",
              "    </tr>\n",
              "    <tr>\n",
              "      <th>1</th>\n",
              "      <td>4168</td>\n",
              "      <td>253</td>\n",
              "      <td>3.989477</td>\n",
              "      <td>0.00449</td>\n",
              "    </tr>\n",
              "    <tr>\n",
              "      <th>2</th>\n",
              "      <td>4168</td>\n",
              "      <td>1106</td>\n",
              "      <td>3.941038</td>\n",
              "      <td>0.00449</td>\n",
              "    </tr>\n",
              "    <tr>\n",
              "      <th>3</th>\n",
              "      <td>4168</td>\n",
              "      <td>1120</td>\n",
              "      <td>3.754422</td>\n",
              "      <td>0.00449</td>\n",
              "    </tr>\n",
              "    <tr>\n",
              "      <th>4</th>\n",
              "      <td>4168</td>\n",
              "      <td>466</td>\n",
              "      <td>3.598985</td>\n",
              "      <td>0.00449</td>\n",
              "    </tr>\n",
              "  </tbody>\n",
              "</table>\n",
              "</div>\n",
              "    <div class=\"colab-df-buttons\">\n",
              "\n",
              "  <div class=\"colab-df-container\">\n",
              "    <button class=\"colab-df-convert\" onclick=\"convertToInteractive('df-2ae51200-2a1a-41f1-b8a5-be462160a4dd')\"\n",
              "            title=\"Convert this dataframe to an interactive table.\"\n",
              "            style=\"display:none;\">\n",
              "\n",
              "  <svg xmlns=\"http://www.w3.org/2000/svg\" height=\"24px\" viewBox=\"0 -960 960 960\">\n",
              "    <path d=\"M120-120v-720h720v720H120Zm60-500h600v-160H180v160Zm220 220h160v-160H400v160Zm0 220h160v-160H400v160ZM180-400h160v-160H180v160Zm440 0h160v-160H620v160ZM180-180h160v-160H180v160Zm440 0h160v-160H620v160Z\"/>\n",
              "  </svg>\n",
              "    </button>\n",
              "\n",
              "  <style>\n",
              "    .colab-df-container {\n",
              "      display:flex;\n",
              "      gap: 12px;\n",
              "    }\n",
              "\n",
              "    .colab-df-convert {\n",
              "      background-color: #E8F0FE;\n",
              "      border: none;\n",
              "      border-radius: 50%;\n",
              "      cursor: pointer;\n",
              "      display: none;\n",
              "      fill: #1967D2;\n",
              "      height: 32px;\n",
              "      padding: 0 0 0 0;\n",
              "      width: 32px;\n",
              "    }\n",
              "\n",
              "    .colab-df-convert:hover {\n",
              "      background-color: #E2EBFA;\n",
              "      box-shadow: 0px 1px 2px rgba(60, 64, 67, 0.3), 0px 1px 3px 1px rgba(60, 64, 67, 0.15);\n",
              "      fill: #174EA6;\n",
              "    }\n",
              "\n",
              "    .colab-df-buttons div {\n",
              "      margin-bottom: 4px;\n",
              "    }\n",
              "\n",
              "    [theme=dark] .colab-df-convert {\n",
              "      background-color: #3B4455;\n",
              "      fill: #D2E3FC;\n",
              "    }\n",
              "\n",
              "    [theme=dark] .colab-df-convert:hover {\n",
              "      background-color: #434B5C;\n",
              "      box-shadow: 0px 1px 3px 1px rgba(0, 0, 0, 0.15);\n",
              "      filter: drop-shadow(0px 1px 2px rgba(0, 0, 0, 0.3));\n",
              "      fill: #FFFFFF;\n",
              "    }\n",
              "  </style>\n",
              "\n",
              "    <script>\n",
              "      const buttonEl =\n",
              "        document.querySelector('#df-2ae51200-2a1a-41f1-b8a5-be462160a4dd button.colab-df-convert');\n",
              "      buttonEl.style.display =\n",
              "        google.colab.kernel.accessAllowed ? 'block' : 'none';\n",
              "\n",
              "      async function convertToInteractive(key) {\n",
              "        const element = document.querySelector('#df-2ae51200-2a1a-41f1-b8a5-be462160a4dd');\n",
              "        const dataTable =\n",
              "          await google.colab.kernel.invokeFunction('convertToInteractive',\n",
              "                                                    [key], {});\n",
              "        if (!dataTable) return;\n",
              "\n",
              "        const docLinkHtml = 'Like what you see? Visit the ' +\n",
              "          '<a target=\"_blank\" href=https://colab.research.google.com/notebooks/data_table.ipynb>data table notebook</a>'\n",
              "          + ' to learn more about interactive tables.';\n",
              "        element.innerHTML = '';\n",
              "        dataTable['output_type'] = 'display_data';\n",
              "        await google.colab.output.renderOutput(dataTable, element);\n",
              "        const docLink = document.createElement('div');\n",
              "        docLink.innerHTML = docLinkHtml;\n",
              "        element.appendChild(docLink);\n",
              "      }\n",
              "    </script>\n",
              "  </div>\n",
              "\n",
              "\n",
              "<div id=\"df-69a89f68-ca13-4e32-a4dc-ea46ba617399\">\n",
              "  <button class=\"colab-df-quickchart\" onclick=\"quickchart('df-69a89f68-ca13-4e32-a4dc-ea46ba617399')\"\n",
              "            title=\"Suggest charts\"\n",
              "            style=\"display:none;\">\n",
              "\n",
              "<svg xmlns=\"http://www.w3.org/2000/svg\" height=\"24px\"viewBox=\"0 0 24 24\"\n",
              "     width=\"24px\">\n",
              "    <g>\n",
              "        <path d=\"M19 3H5c-1.1 0-2 .9-2 2v14c0 1.1.9 2 2 2h14c1.1 0 2-.9 2-2V5c0-1.1-.9-2-2-2zM9 17H7v-7h2v7zm4 0h-2V7h2v10zm4 0h-2v-4h2v4z\"/>\n",
              "    </g>\n",
              "</svg>\n",
              "  </button>\n",
              "\n",
              "<style>\n",
              "  .colab-df-quickchart {\n",
              "      --bg-color: #E8F0FE;\n",
              "      --fill-color: #1967D2;\n",
              "      --hover-bg-color: #E2EBFA;\n",
              "      --hover-fill-color: #174EA6;\n",
              "      --disabled-fill-color: #AAA;\n",
              "      --disabled-bg-color: #DDD;\n",
              "  }\n",
              "\n",
              "  [theme=dark] .colab-df-quickchart {\n",
              "      --bg-color: #3B4455;\n",
              "      --fill-color: #D2E3FC;\n",
              "      --hover-bg-color: #434B5C;\n",
              "      --hover-fill-color: #FFFFFF;\n",
              "      --disabled-bg-color: #3B4455;\n",
              "      --disabled-fill-color: #666;\n",
              "  }\n",
              "\n",
              "  .colab-df-quickchart {\n",
              "    background-color: var(--bg-color);\n",
              "    border: none;\n",
              "    border-radius: 50%;\n",
              "    cursor: pointer;\n",
              "    display: none;\n",
              "    fill: var(--fill-color);\n",
              "    height: 32px;\n",
              "    padding: 0;\n",
              "    width: 32px;\n",
              "  }\n",
              "\n",
              "  .colab-df-quickchart:hover {\n",
              "    background-color: var(--hover-bg-color);\n",
              "    box-shadow: 0 1px 2px rgba(60, 64, 67, 0.3), 0 1px 3px 1px rgba(60, 64, 67, 0.15);\n",
              "    fill: var(--button-hover-fill-color);\n",
              "  }\n",
              "\n",
              "  .colab-df-quickchart-complete:disabled,\n",
              "  .colab-df-quickchart-complete:disabled:hover {\n",
              "    background-color: var(--disabled-bg-color);\n",
              "    fill: var(--disabled-fill-color);\n",
              "    box-shadow: none;\n",
              "  }\n",
              "\n",
              "  .colab-df-spinner {\n",
              "    border: 2px solid var(--fill-color);\n",
              "    border-color: transparent;\n",
              "    border-bottom-color: var(--fill-color);\n",
              "    animation:\n",
              "      spin 1s steps(1) infinite;\n",
              "  }\n",
              "\n",
              "  @keyframes spin {\n",
              "    0% {\n",
              "      border-color: transparent;\n",
              "      border-bottom-color: var(--fill-color);\n",
              "      border-left-color: var(--fill-color);\n",
              "    }\n",
              "    20% {\n",
              "      border-color: transparent;\n",
              "      border-left-color: var(--fill-color);\n",
              "      border-top-color: var(--fill-color);\n",
              "    }\n",
              "    30% {\n",
              "      border-color: transparent;\n",
              "      border-left-color: var(--fill-color);\n",
              "      border-top-color: var(--fill-color);\n",
              "      border-right-color: var(--fill-color);\n",
              "    }\n",
              "    40% {\n",
              "      border-color: transparent;\n",
              "      border-right-color: var(--fill-color);\n",
              "      border-top-color: var(--fill-color);\n",
              "    }\n",
              "    60% {\n",
              "      border-color: transparent;\n",
              "      border-right-color: var(--fill-color);\n",
              "    }\n",
              "    80% {\n",
              "      border-color: transparent;\n",
              "      border-right-color: var(--fill-color);\n",
              "      border-bottom-color: var(--fill-color);\n",
              "    }\n",
              "    90% {\n",
              "      border-color: transparent;\n",
              "      border-bottom-color: var(--fill-color);\n",
              "    }\n",
              "  }\n",
              "</style>\n",
              "\n",
              "  <script>\n",
              "    async function quickchart(key) {\n",
              "      const quickchartButtonEl =\n",
              "        document.querySelector('#' + key + ' button');\n",
              "      quickchartButtonEl.disabled = true;  // To prevent multiple clicks.\n",
              "      quickchartButtonEl.classList.add('colab-df-spinner');\n",
              "      try {\n",
              "        const charts = await google.colab.kernel.invokeFunction(\n",
              "            'suggestCharts', [key], {});\n",
              "      } catch (error) {\n",
              "        console.error('Error during call to suggestCharts:', error);\n",
              "      }\n",
              "      quickchartButtonEl.classList.remove('colab-df-spinner');\n",
              "      quickchartButtonEl.classList.add('colab-df-quickchart-complete');\n",
              "    }\n",
              "    (() => {\n",
              "      let quickchartButtonEl =\n",
              "        document.querySelector('#df-69a89f68-ca13-4e32-a4dc-ea46ba617399 button');\n",
              "      quickchartButtonEl.style.display =\n",
              "        google.colab.kernel.accessAllowed ? 'block' : 'none';\n",
              "    })();\n",
              "  </script>\n",
              "</div>\n",
              "\n",
              "    </div>\n",
              "  </div>\n"
            ]
          },
          "metadata": {},
          "execution_count": 116
        }
      ]
    },
    {
      "cell_type": "code",
      "source": [
        "# Each user per each movie viewtime: pred_all_ratings[\"user_item_viewtime\"] = [\"1/user_rank\"] / [\"sum(1/user_rank)\"] * [\"user_total_viewtime\"]\n",
        "# these wordy codes are to reduce RAM consumption otherwise Colab may crush\n",
        "pred_ratings[\"1/user_rank\"] = 1/pred_ratings.groupby(\"user_num\")[\"pred_ratings\"].rank(method = \"min\", ascending = False)\n",
        "sum_inverse_user_rank = pred_ratings.groupby(\"user_num\")[\"1/user_rank\"].sum()\n",
        "sum_inverse_user_rank.name = \"sum(1/user_rank)\"\n",
        "pred_ratings = pd.merge(pred_ratings, sum_inverse_user_rank, left_on=\"user_num\", right_on=\"user_num\", how=\"left\")\n",
        "pred_ratings[\"user_item_viewtime\"] = pred_ratings[\"1/user_rank\"] / pred_ratings[\"sum(1/user_rank)\"] * pred_ratings[\"user_total_viewtime\"]"
      ],
      "metadata": {
        "id": "CGYUQOGETpJH"
      },
      "execution_count": 117,
      "outputs": []
    },
    {
      "cell_type": "code",
      "source": [
        "pred_ratings"
      ],
      "metadata": {
        "id": "kg-eRoQlH1JI",
        "colab": {
          "base_uri": "https://localhost:8080/",
          "height": 423
        },
        "outputId": "01965642-9cf1-41ee-c845-c46c39c96e7f"
      },
      "execution_count": 118,
      "outputs": [
        {
          "output_type": "execute_result",
          "data": {
            "text/plain": [
              "        user_num  item_num  pred_ratings  user_total_viewtime  1/user_rank  \\\n",
              "0           4168      2651      3.920109             0.004490     0.025641   \n",
              "1           4168       253      3.989477             0.004490     0.090909   \n",
              "2           4168      1106      3.941038             0.004490     0.037037   \n",
              "3           4168      1120      3.754422             0.004490     0.004808   \n",
              "4           4168       466      3.598985             0.004490     0.002096   \n",
              "...          ...       ...           ...                  ...          ...   \n",
              "999995      3411      2126      4.033844             0.000569     0.003086   \n",
              "999996      3411        67      3.983357             0.000569     0.002445   \n",
              "999997      3411      2614      4.073820             0.000569     0.003861   \n",
              "999998      3411      1608      3.639184             0.000569     0.001160   \n",
              "999999      3411       966      3.867742             0.000569     0.001672   \n",
              "\n",
              "        sum(1/user_rank)  user_item_viewtime  \n",
              "0               7.485471        1.538137e-05  \n",
              "1               7.485471        5.453395e-05  \n",
              "2               7.485471        2.221754e-05  \n",
              "3               7.485471        2.884007e-06  \n",
              "4               7.485471        1.257596e-06  \n",
              "...                  ...                 ...  \n",
              "999995          7.485471        2.344331e-07  \n",
              "999996          7.485471        1.857123e-07  \n",
              "999997          7.485471        2.932676e-07  \n",
              "999998          7.485471        8.811638e-08  \n",
              "999999          7.485471        1.270173e-07  \n",
              "\n",
              "[1000000 rows x 7 columns]"
            ],
            "text/html": [
              "\n",
              "  <div id=\"df-a5b5bb38-2f4b-495f-a8e2-eb15b2b90c0b\" class=\"colab-df-container\">\n",
              "    <div>\n",
              "<style scoped>\n",
              "    .dataframe tbody tr th:only-of-type {\n",
              "        vertical-align: middle;\n",
              "    }\n",
              "\n",
              "    .dataframe tbody tr th {\n",
              "        vertical-align: top;\n",
              "    }\n",
              "\n",
              "    .dataframe thead th {\n",
              "        text-align: right;\n",
              "    }\n",
              "</style>\n",
              "<table border=\"1\" class=\"dataframe\">\n",
              "  <thead>\n",
              "    <tr style=\"text-align: right;\">\n",
              "      <th></th>\n",
              "      <th>user_num</th>\n",
              "      <th>item_num</th>\n",
              "      <th>pred_ratings</th>\n",
              "      <th>user_total_viewtime</th>\n",
              "      <th>1/user_rank</th>\n",
              "      <th>sum(1/user_rank)</th>\n",
              "      <th>user_item_viewtime</th>\n",
              "    </tr>\n",
              "  </thead>\n",
              "  <tbody>\n",
              "    <tr>\n",
              "      <th>0</th>\n",
              "      <td>4168</td>\n",
              "      <td>2651</td>\n",
              "      <td>3.920109</td>\n",
              "      <td>0.004490</td>\n",
              "      <td>0.025641</td>\n",
              "      <td>7.485471</td>\n",
              "      <td>1.538137e-05</td>\n",
              "    </tr>\n",
              "    <tr>\n",
              "      <th>1</th>\n",
              "      <td>4168</td>\n",
              "      <td>253</td>\n",
              "      <td>3.989477</td>\n",
              "      <td>0.004490</td>\n",
              "      <td>0.090909</td>\n",
              "      <td>7.485471</td>\n",
              "      <td>5.453395e-05</td>\n",
              "    </tr>\n",
              "    <tr>\n",
              "      <th>2</th>\n",
              "      <td>4168</td>\n",
              "      <td>1106</td>\n",
              "      <td>3.941038</td>\n",
              "      <td>0.004490</td>\n",
              "      <td>0.037037</td>\n",
              "      <td>7.485471</td>\n",
              "      <td>2.221754e-05</td>\n",
              "    </tr>\n",
              "    <tr>\n",
              "      <th>3</th>\n",
              "      <td>4168</td>\n",
              "      <td>1120</td>\n",
              "      <td>3.754422</td>\n",
              "      <td>0.004490</td>\n",
              "      <td>0.004808</td>\n",
              "      <td>7.485471</td>\n",
              "      <td>2.884007e-06</td>\n",
              "    </tr>\n",
              "    <tr>\n",
              "      <th>4</th>\n",
              "      <td>4168</td>\n",
              "      <td>466</td>\n",
              "      <td>3.598985</td>\n",
              "      <td>0.004490</td>\n",
              "      <td>0.002096</td>\n",
              "      <td>7.485471</td>\n",
              "      <td>1.257596e-06</td>\n",
              "    </tr>\n",
              "    <tr>\n",
              "      <th>...</th>\n",
              "      <td>...</td>\n",
              "      <td>...</td>\n",
              "      <td>...</td>\n",
              "      <td>...</td>\n",
              "      <td>...</td>\n",
              "      <td>...</td>\n",
              "      <td>...</td>\n",
              "    </tr>\n",
              "    <tr>\n",
              "      <th>999995</th>\n",
              "      <td>3411</td>\n",
              "      <td>2126</td>\n",
              "      <td>4.033844</td>\n",
              "      <td>0.000569</td>\n",
              "      <td>0.003086</td>\n",
              "      <td>7.485471</td>\n",
              "      <td>2.344331e-07</td>\n",
              "    </tr>\n",
              "    <tr>\n",
              "      <th>999996</th>\n",
              "      <td>3411</td>\n",
              "      <td>67</td>\n",
              "      <td>3.983357</td>\n",
              "      <td>0.000569</td>\n",
              "      <td>0.002445</td>\n",
              "      <td>7.485471</td>\n",
              "      <td>1.857123e-07</td>\n",
              "    </tr>\n",
              "    <tr>\n",
              "      <th>999997</th>\n",
              "      <td>3411</td>\n",
              "      <td>2614</td>\n",
              "      <td>4.073820</td>\n",
              "      <td>0.000569</td>\n",
              "      <td>0.003861</td>\n",
              "      <td>7.485471</td>\n",
              "      <td>2.932676e-07</td>\n",
              "    </tr>\n",
              "    <tr>\n",
              "      <th>999998</th>\n",
              "      <td>3411</td>\n",
              "      <td>1608</td>\n",
              "      <td>3.639184</td>\n",
              "      <td>0.000569</td>\n",
              "      <td>0.001160</td>\n",
              "      <td>7.485471</td>\n",
              "      <td>8.811638e-08</td>\n",
              "    </tr>\n",
              "    <tr>\n",
              "      <th>999999</th>\n",
              "      <td>3411</td>\n",
              "      <td>966</td>\n",
              "      <td>3.867742</td>\n",
              "      <td>0.000569</td>\n",
              "      <td>0.001672</td>\n",
              "      <td>7.485471</td>\n",
              "      <td>1.270173e-07</td>\n",
              "    </tr>\n",
              "  </tbody>\n",
              "</table>\n",
              "<p>1000000 rows × 7 columns</p>\n",
              "</div>\n",
              "    <div class=\"colab-df-buttons\">\n",
              "\n",
              "  <div class=\"colab-df-container\">\n",
              "    <button class=\"colab-df-convert\" onclick=\"convertToInteractive('df-a5b5bb38-2f4b-495f-a8e2-eb15b2b90c0b')\"\n",
              "            title=\"Convert this dataframe to an interactive table.\"\n",
              "            style=\"display:none;\">\n",
              "\n",
              "  <svg xmlns=\"http://www.w3.org/2000/svg\" height=\"24px\" viewBox=\"0 -960 960 960\">\n",
              "    <path d=\"M120-120v-720h720v720H120Zm60-500h600v-160H180v160Zm220 220h160v-160H400v160Zm0 220h160v-160H400v160ZM180-400h160v-160H180v160Zm440 0h160v-160H620v160ZM180-180h160v-160H180v160Zm440 0h160v-160H620v160Z\"/>\n",
              "  </svg>\n",
              "    </button>\n",
              "\n",
              "  <style>\n",
              "    .colab-df-container {\n",
              "      display:flex;\n",
              "      gap: 12px;\n",
              "    }\n",
              "\n",
              "    .colab-df-convert {\n",
              "      background-color: #E8F0FE;\n",
              "      border: none;\n",
              "      border-radius: 50%;\n",
              "      cursor: pointer;\n",
              "      display: none;\n",
              "      fill: #1967D2;\n",
              "      height: 32px;\n",
              "      padding: 0 0 0 0;\n",
              "      width: 32px;\n",
              "    }\n",
              "\n",
              "    .colab-df-convert:hover {\n",
              "      background-color: #E2EBFA;\n",
              "      box-shadow: 0px 1px 2px rgba(60, 64, 67, 0.3), 0px 1px 3px 1px rgba(60, 64, 67, 0.15);\n",
              "      fill: #174EA6;\n",
              "    }\n",
              "\n",
              "    .colab-df-buttons div {\n",
              "      margin-bottom: 4px;\n",
              "    }\n",
              "\n",
              "    [theme=dark] .colab-df-convert {\n",
              "      background-color: #3B4455;\n",
              "      fill: #D2E3FC;\n",
              "    }\n",
              "\n",
              "    [theme=dark] .colab-df-convert:hover {\n",
              "      background-color: #434B5C;\n",
              "      box-shadow: 0px 1px 3px 1px rgba(0, 0, 0, 0.15);\n",
              "      filter: drop-shadow(0px 1px 2px rgba(0, 0, 0, 0.3));\n",
              "      fill: #FFFFFF;\n",
              "    }\n",
              "  </style>\n",
              "\n",
              "    <script>\n",
              "      const buttonEl =\n",
              "        document.querySelector('#df-a5b5bb38-2f4b-495f-a8e2-eb15b2b90c0b button.colab-df-convert');\n",
              "      buttonEl.style.display =\n",
              "        google.colab.kernel.accessAllowed ? 'block' : 'none';\n",
              "\n",
              "      async function convertToInteractive(key) {\n",
              "        const element = document.querySelector('#df-a5b5bb38-2f4b-495f-a8e2-eb15b2b90c0b');\n",
              "        const dataTable =\n",
              "          await google.colab.kernel.invokeFunction('convertToInteractive',\n",
              "                                                    [key], {});\n",
              "        if (!dataTable) return;\n",
              "\n",
              "        const docLinkHtml = 'Like what you see? Visit the ' +\n",
              "          '<a target=\"_blank\" href=https://colab.research.google.com/notebooks/data_table.ipynb>data table notebook</a>'\n",
              "          + ' to learn more about interactive tables.';\n",
              "        element.innerHTML = '';\n",
              "        dataTable['output_type'] = 'display_data';\n",
              "        await google.colab.output.renderOutput(dataTable, element);\n",
              "        const docLink = document.createElement('div');\n",
              "        docLink.innerHTML = docLinkHtml;\n",
              "        element.appendChild(docLink);\n",
              "      }\n",
              "    </script>\n",
              "  </div>\n",
              "\n",
              "\n",
              "<div id=\"df-7b9dccec-9ea0-4155-994a-809a5a4a729e\">\n",
              "  <button class=\"colab-df-quickchart\" onclick=\"quickchart('df-7b9dccec-9ea0-4155-994a-809a5a4a729e')\"\n",
              "            title=\"Suggest charts\"\n",
              "            style=\"display:none;\">\n",
              "\n",
              "<svg xmlns=\"http://www.w3.org/2000/svg\" height=\"24px\"viewBox=\"0 0 24 24\"\n",
              "     width=\"24px\">\n",
              "    <g>\n",
              "        <path d=\"M19 3H5c-1.1 0-2 .9-2 2v14c0 1.1.9 2 2 2h14c1.1 0 2-.9 2-2V5c0-1.1-.9-2-2-2zM9 17H7v-7h2v7zm4 0h-2V7h2v10zm4 0h-2v-4h2v4z\"/>\n",
              "    </g>\n",
              "</svg>\n",
              "  </button>\n",
              "\n",
              "<style>\n",
              "  .colab-df-quickchart {\n",
              "      --bg-color: #E8F0FE;\n",
              "      --fill-color: #1967D2;\n",
              "      --hover-bg-color: #E2EBFA;\n",
              "      --hover-fill-color: #174EA6;\n",
              "      --disabled-fill-color: #AAA;\n",
              "      --disabled-bg-color: #DDD;\n",
              "  }\n",
              "\n",
              "  [theme=dark] .colab-df-quickchart {\n",
              "      --bg-color: #3B4455;\n",
              "      --fill-color: #D2E3FC;\n",
              "      --hover-bg-color: #434B5C;\n",
              "      --hover-fill-color: #FFFFFF;\n",
              "      --disabled-bg-color: #3B4455;\n",
              "      --disabled-fill-color: #666;\n",
              "  }\n",
              "\n",
              "  .colab-df-quickchart {\n",
              "    background-color: var(--bg-color);\n",
              "    border: none;\n",
              "    border-radius: 50%;\n",
              "    cursor: pointer;\n",
              "    display: none;\n",
              "    fill: var(--fill-color);\n",
              "    height: 32px;\n",
              "    padding: 0;\n",
              "    width: 32px;\n",
              "  }\n",
              "\n",
              "  .colab-df-quickchart:hover {\n",
              "    background-color: var(--hover-bg-color);\n",
              "    box-shadow: 0 1px 2px rgba(60, 64, 67, 0.3), 0 1px 3px 1px rgba(60, 64, 67, 0.15);\n",
              "    fill: var(--button-hover-fill-color);\n",
              "  }\n",
              "\n",
              "  .colab-df-quickchart-complete:disabled,\n",
              "  .colab-df-quickchart-complete:disabled:hover {\n",
              "    background-color: var(--disabled-bg-color);\n",
              "    fill: var(--disabled-fill-color);\n",
              "    box-shadow: none;\n",
              "  }\n",
              "\n",
              "  .colab-df-spinner {\n",
              "    border: 2px solid var(--fill-color);\n",
              "    border-color: transparent;\n",
              "    border-bottom-color: var(--fill-color);\n",
              "    animation:\n",
              "      spin 1s steps(1) infinite;\n",
              "  }\n",
              "\n",
              "  @keyframes spin {\n",
              "    0% {\n",
              "      border-color: transparent;\n",
              "      border-bottom-color: var(--fill-color);\n",
              "      border-left-color: var(--fill-color);\n",
              "    }\n",
              "    20% {\n",
              "      border-color: transparent;\n",
              "      border-left-color: var(--fill-color);\n",
              "      border-top-color: var(--fill-color);\n",
              "    }\n",
              "    30% {\n",
              "      border-color: transparent;\n",
              "      border-left-color: var(--fill-color);\n",
              "      border-top-color: var(--fill-color);\n",
              "      border-right-color: var(--fill-color);\n",
              "    }\n",
              "    40% {\n",
              "      border-color: transparent;\n",
              "      border-right-color: var(--fill-color);\n",
              "      border-top-color: var(--fill-color);\n",
              "    }\n",
              "    60% {\n",
              "      border-color: transparent;\n",
              "      border-right-color: var(--fill-color);\n",
              "    }\n",
              "    80% {\n",
              "      border-color: transparent;\n",
              "      border-right-color: var(--fill-color);\n",
              "      border-bottom-color: var(--fill-color);\n",
              "    }\n",
              "    90% {\n",
              "      border-color: transparent;\n",
              "      border-bottom-color: var(--fill-color);\n",
              "    }\n",
              "  }\n",
              "</style>\n",
              "\n",
              "  <script>\n",
              "    async function quickchart(key) {\n",
              "      const quickchartButtonEl =\n",
              "        document.querySelector('#' + key + ' button');\n",
              "      quickchartButtonEl.disabled = true;  // To prevent multiple clicks.\n",
              "      quickchartButtonEl.classList.add('colab-df-spinner');\n",
              "      try {\n",
              "        const charts = await google.colab.kernel.invokeFunction(\n",
              "            'suggestCharts', [key], {});\n",
              "      } catch (error) {\n",
              "        console.error('Error during call to suggestCharts:', error);\n",
              "      }\n",
              "      quickchartButtonEl.classList.remove('colab-df-spinner');\n",
              "      quickchartButtonEl.classList.add('colab-df-quickchart-complete');\n",
              "    }\n",
              "    (() => {\n",
              "      let quickchartButtonEl =\n",
              "        document.querySelector('#df-7b9dccec-9ea0-4155-994a-809a5a4a729e button');\n",
              "      quickchartButtonEl.style.display =\n",
              "        google.colab.kernel.accessAllowed ? 'block' : 'none';\n",
              "    })();\n",
              "  </script>\n",
              "</div>\n",
              "\n",
              "  <div id=\"id_31bab136-cb50-4e4b-ab0d-bc4a4dcd153b\">\n",
              "    <style>\n",
              "      .colab-df-generate {\n",
              "        background-color: #E8F0FE;\n",
              "        border: none;\n",
              "        border-radius: 50%;\n",
              "        cursor: pointer;\n",
              "        display: none;\n",
              "        fill: #1967D2;\n",
              "        height: 32px;\n",
              "        padding: 0 0 0 0;\n",
              "        width: 32px;\n",
              "      }\n",
              "\n",
              "      .colab-df-generate:hover {\n",
              "        background-color: #E2EBFA;\n",
              "        box-shadow: 0px 1px 2px rgba(60, 64, 67, 0.3), 0px 1px 3px 1px rgba(60, 64, 67, 0.15);\n",
              "        fill: #174EA6;\n",
              "      }\n",
              "\n",
              "      [theme=dark] .colab-df-generate {\n",
              "        background-color: #3B4455;\n",
              "        fill: #D2E3FC;\n",
              "      }\n",
              "\n",
              "      [theme=dark] .colab-df-generate:hover {\n",
              "        background-color: #434B5C;\n",
              "        box-shadow: 0px 1px 3px 1px rgba(0, 0, 0, 0.15);\n",
              "        filter: drop-shadow(0px 1px 2px rgba(0, 0, 0, 0.3));\n",
              "        fill: #FFFFFF;\n",
              "      }\n",
              "    </style>\n",
              "    <button class=\"colab-df-generate\" onclick=\"generateWithVariable('pred_ratings')\"\n",
              "            title=\"Generate code using this dataframe.\"\n",
              "            style=\"display:none;\">\n",
              "\n",
              "  <svg xmlns=\"http://www.w3.org/2000/svg\" height=\"24px\"viewBox=\"0 0 24 24\"\n",
              "       width=\"24px\">\n",
              "    <path d=\"M7,19H8.4L18.45,9,17,7.55,7,17.6ZM5,21V16.75L18.45,3.32a2,2,0,0,1,2.83,0l1.4,1.43a1.91,1.91,0,0,1,.58,1.4,1.91,1.91,0,0,1-.58,1.4L9.25,21ZM18.45,9,17,7.55Zm-12,3A5.31,5.31,0,0,0,4.9,8.1,5.31,5.31,0,0,0,1,6.5,5.31,5.31,0,0,0,4.9,4.9,5.31,5.31,0,0,0,6.5,1,5.31,5.31,0,0,0,8.1,4.9,5.31,5.31,0,0,0,12,6.5,5.46,5.46,0,0,0,6.5,12Z\"/>\n",
              "  </svg>\n",
              "    </button>\n",
              "    <script>\n",
              "      (() => {\n",
              "      const buttonEl =\n",
              "        document.querySelector('#id_31bab136-cb50-4e4b-ab0d-bc4a4dcd153b button.colab-df-generate');\n",
              "      buttonEl.style.display =\n",
              "        google.colab.kernel.accessAllowed ? 'block' : 'none';\n",
              "\n",
              "      buttonEl.onclick = () => {\n",
              "        google.colab.notebook.generateWithVariable('pred_ratings');\n",
              "      }\n",
              "      })();\n",
              "    </script>\n",
              "  </div>\n",
              "\n",
              "    </div>\n",
              "  </div>\n"
            ]
          },
          "metadata": {},
          "execution_count": 118
        }
      ]
    },
    {
      "cell_type": "code",
      "source": [
        "# sanity check: sum of user_item_viewtime == 1\n",
        "pred_ratings[\"user_item_viewtime\"].sum()"
      ],
      "metadata": {
        "id": "l9Ye6ePU0dPa",
        "colab": {
          "base_uri": "https://localhost:8080/"
        },
        "outputId": "a921ec64-bf5f-4cd5-b399-2e16ec6879cf"
      },
      "execution_count": 119,
      "outputs": [
        {
          "output_type": "execute_result",
          "data": {
            "text/plain": [
              "0.9999999999999992"
            ]
          },
          "metadata": {},
          "execution_count": 119
        }
      ]
    },
    {
      "cell_type": "code",
      "source": [
        "# compute each movie's value\n",
        "budget =  1000000000\n",
        "#TODO: compute and store the values of movies based on pred_ratings\n",
        "movie_values = pred_ratings.groupby(\"item_num\")[\"user_item_viewtime\"].sum() / pred_ratings.groupby(\"item_num\")[\"user_item_viewtime\"].sum().sum()*budget\n",
        "movie_values.name = \"item_value\""
      ],
      "metadata": {
        "id": "-ixxWznAUDZG"
      },
      "execution_count": 140,
      "outputs": []
    },
    {
      "cell_type": "code",
      "source": [
        "movie_values"
      ],
      "metadata": {
        "colab": {
          "base_uri": "https://localhost:8080/"
        },
        "id": "aykcUNZEqCxo",
        "outputId": "ac569b17-cc80-4626-a009-60d3505cdfc0"
      },
      "execution_count": 141,
      "outputs": [
        {
          "output_type": "execute_result",
          "data": {
            "text/plain": [
              "item_num\n",
              "0       1.086115e+06\n",
              "1       1.596083e+05\n",
              "2       1.546205e+05\n",
              "5       4.543950e+05\n",
              "6       1.903022e+05\n",
              "            ...     \n",
              "3664    5.408588e+05\n",
              "3669    5.041212e+05\n",
              "3680    2.760168e+05\n",
              "3701    2.942558e+05\n",
              "3705    5.543242e+05\n",
              "Name: item_value, Length: 1000, dtype: float64"
            ]
          },
          "metadata": {},
          "execution_count": 141
        }
      ]
    },
    {
      "cell_type": "code",
      "source": [
        "# replace item_num by item_name\n",
        "movie_values = movie_values.to_frame()\n",
        "movie_values[\"item_name\"] = [numitem_2_name[item_num] for item_num in movie_values.index]\n",
        "movie_values = movie_values.set_index(\"item_name\").squeeze(axis=1)"
      ],
      "metadata": {
        "id": "ENlg_2avaE3z"
      },
      "execution_count": 142,
      "outputs": []
    },
    {
      "cell_type": "code",
      "source": [
        "movie_values.head()"
      ],
      "metadata": {
        "id": "IL1koMbfIeFI",
        "colab": {
          "base_uri": "https://localhost:8080/"
        },
        "outputId": "75e9ed8f-6a81-4cab-ed1a-cc1afea1970e"
      },
      "execution_count": 143,
      "outputs": [
        {
          "output_type": "execute_result",
          "data": {
            "text/plain": [
              "item_name\n",
              "Toy Story (1995)           1.086115e+06\n",
              "Jumanji (1995)             1.596083e+05\n",
              "Grumpier Old Men (1995)    1.546205e+05\n",
              "Heat (1995)                4.543950e+05\n",
              "Sabrina (1995)             1.903022e+05\n",
              "Name: item_value, dtype: float64"
            ]
          },
          "metadata": {},
          "execution_count": 143
        }
      ]
    },
    {
      "cell_type": "code",
      "source": [
        "# sanity check: sum of movie values == budget\n",
        "movie_values.sum() == budget"
      ],
      "metadata": {
        "id": "FHLauUJ6a1zj",
        "colab": {
          "base_uri": "https://localhost:8080/"
        },
        "outputId": "31727fea-b641-48e2-e71b-aa60f482d336"
      },
      "execution_count": 144,
      "outputs": [
        {
          "output_type": "execute_result",
          "data": {
            "text/plain": [
              "False"
            ]
          },
          "metadata": {},
          "execution_count": 144
        }
      ]
    },
    {
      "cell_type": "markdown",
      "source": [
        "### Output the top valued movies"
      ],
      "metadata": {
        "id": "eXjfpVJN9YQB"
      }
    },
    {
      "cell_type": "markdown",
      "source": [
        "**Question**: Include your answer in the report.\n",
        "\n",
        "- What is your estimated value of *Toy Story (1995)*?\n",
        "\n",
        "- What are the top 10 mostly valued movies?\n"
      ],
      "metadata": {
        "id": "_WKrLtifm0Ex"
      }
    },
    {
      "cell_type": "code",
      "source": [
        "# your code\n",
        "movie_values_dict = movie_values.squeeze().to_dict()\n",
        "movie_values_df = pd.DataFrame(list(movie_values_dict.items()), columns=['item_name', 'values'])\n",
        "toy_story_value = movie_values_df.loc[movie_values_df[\"item_name\"] == \"Toy Story (1995)\", \"values\"]\n",
        "top_10_valued_movies = movie_values_df.sort_values(by='values', ascending=False).head(10)\n",
        "print(\"Toy Story estimated value\", toy_story_value)\n",
        "print(\"Top 10 valued movies\",top_10_valued_movies)"
      ],
      "metadata": {
        "id": "XXzStOqsHy8H",
        "colab": {
          "base_uri": "https://localhost:8080/"
        },
        "outputId": "b1be36d2-754e-4fc1-e026-b5cff076cc52"
      },
      "execution_count": 155,
      "outputs": [
        {
          "output_type": "stream",
          "name": "stdout",
          "text": [
            "Toy Story estimated value 0    1.086115e+06\n",
            "Name: values, dtype: float64\n",
            "Top 10 valued movies                                              item_name        values\n",
            "306                            Grand Day Out, A (1992)  1.335921e+08\n",
            "537  Seven Samurai (The Magnificent Seven) (Shichin...  6.679607e+07\n",
            "170  Wallace & Gromit: The Best of Aardman Animatio...  4.453071e+07\n",
            "275                         Wrong Trousers, The (1993)  3.339803e+07\n",
            "192                              Godfather, The (1972)  2.671843e+07\n",
            "200                                 Rear Window (1954)  2.226536e+07\n",
            "82                    Shawshank Redemption, The (1994)  1.908459e+07\n",
            "287                     Raiders of the Lost Ark (1981)  1.669902e+07\n",
            "22                          Usual Suspects, The (1995)  1.484357e+07\n",
            "737                            Sixth Sense, The (1999)  1.335921e+07\n"
          ]
        }
      ]
    },
    {
      "cell_type": "markdown",
      "source": [
        "\n",
        "### Compare the output with the mostly rated movies. Identify the discrepancies."
      ],
      "metadata": {
        "id": "qaBFvCq39cKw"
      }
    },
    {
      "cell_type": "markdown",
      "source": [
        "**Question**: Include your answers in your report.\n",
        "\n",
        "- What are the movies that are top 30 rated but not in top 30 valued?\n",
        "- What do you think about this approach of movie valuation? How does it compare with the approach based on the popularity of the movies?\n",
        "\n",
        "\n"
      ],
      "metadata": {
        "id": "2_yELRBXV8ds"
      }
    },
    {
      "cell_type": "code",
      "source": [
        "# your code\n",
        "top_30_rated_movies= all_ratings.sort_values(by='ratings', ascending=False).drop_duplicates(subset='item_name').head(30)\n",
        "top_30_valued_movies = movie_values_df.sort_values(by='values', ascending=False).head(30)"
      ],
      "metadata": {
        "id": "PYsSkRlNjxsC"
      },
      "execution_count": 166,
      "outputs": []
    },
    {
      "cell_type": "code",
      "source": [
        "top_30_rated_movies"
      ],
      "metadata": {
        "colab": {
          "base_uri": "https://localhost:8080/",
          "height": 775
        },
        "id": "gcVhUNUJuCcn",
        "outputId": "8ac7f7a7-1f5a-487a-b72e-4a735e1ce0e1"
      },
      "execution_count": 167,
      "outputs": [
        {
          "output_type": "execute_result",
          "data": {
            "text/plain": [
              "        user_id  item_id  ratings   timestamp  \\\n",
              "0             1     1193        5   978300760   \n",
              "233796     5374     2770        5   962391108   \n",
              "669852     1812     3635        5   974706848   \n",
              "669546     3729     3633        5   966214949   \n",
              "233984     3163      215        5   968881392   \n",
              "670441     2124     1960        5   974648678   \n",
              "683739     1197     3911        5   974847105   \n",
              "234408      471     1250        5   976223196   \n",
              "668514     3563       26        5   966785305   \n",
              "668593      550     2253        5   976159942   \n",
              "668433     5795     1956        5   958077445   \n",
              "234125     1680      501        5   974713196   \n",
              "669238     3964     3705        5   965669242   \n",
              "234057     1242     1759        5   974909295   \n",
              "234306     6013      506        5   958068477   \n",
              "232393      840      866        5   986502344   \n",
              "672426     1671     1391        5   974711770   \n",
              "232316     5910     1683        5   957373752   \n",
              "672029      543     1606        5   976215997   \n",
              "672010     5837     2404        5   957843702   \n",
              "673278     1645     1033        5   975537783   \n",
              "232024     5421     1466        5   960154068   \n",
              "232097     1267      860        5   974829565   \n",
              "671690     5626     2402        5  1005810998   \n",
              "671005     2420     3639        5   974240133   \n",
              "232922     3699     1684        5   966293151   \n",
              "666961     4531     2248        5   964740482   \n",
              "235774     1635     3793        5   974716244   \n",
              "667427     5530     1013        5   959624074   \n",
              "666268     5649      262        5   958867411   \n",
              "\n",
              "                                          item_name  user_num  item_num  \n",
              "0            One Flew Over the Cuckoo's Nest (1975)         0      1104  \n",
              "233796                             Bowfinger (1999)      5373      2565  \n",
              "669852                 Spy Who Loved Me, The (1977)      1811      3394  \n",
              "669546       On Her Majesty's Secret Service (1969)      3728      3392  \n",
              "233984                        Before Sunrise (1995)      3162       209  \n",
              "670441                     Last Emperor, The (1987)      2123      1780  \n",
              "683739                          Best in Show (2000)      1196      3664  \n",
              "234408         Bridge on the River Kwai, The (1957)       470      1158  \n",
              "668514                               Othello (1995)      3562        25  \n",
              "668593                                  Toys (1992)       549      2063  \n",
              "668433                       Ordinary People (1980)      5794      1776  \n",
              "234125                                 Naked (1993)      1679       487  \n",
              "669238                        Bird on a Wire (1990)      3963      3463  \n",
              "234057                Four Days in September (1997)      1241      1603  \n",
              "234306                               Orlando (1993)      6012       492  \n",
              "232393                                 Bound (1996)       839       810  \n",
              "672426                         Mars Attacks! (1996)      1670      1292  \n",
              "232316                Wings of the Dove, The (1997)      5909      1546  \n",
              "672029                    Kull the Conqueror (1997)       542      1475  \n",
              "672010                             Rambo III (1988)      5836      2211  \n",
              "673278                Fox and the Hound, The (1981)      1644       968  \n",
              "232024                         Donnie Brasco (1997)      5420      1356  \n",
              "232097  Maybe, Maybe Not (Bewegte Mann, Der) (1994)      1266       804  \n",
              "671690            Rambo: First Blood Part II (1985)      5625      2209  \n",
              "671005          Man with the Golden Gun, The (1974)      2419      3398  \n",
              "232922                         Mrs. Dalloway (1997)      3698      1547  \n",
              "666961                       Say Anything... (1989)      4530      2058  \n",
              "235774                                 X-Men (2000)      1634      3550  \n",
              "667427                      Parent Trap, The (1961)      5529       948  \n",
              "666268                    Little Princess, A (1995)      5648       255  "
            ],
            "text/html": [
              "\n",
              "  <div id=\"df-94b29395-199f-4182-b80a-6d3d48c79129\" class=\"colab-df-container\">\n",
              "    <div>\n",
              "<style scoped>\n",
              "    .dataframe tbody tr th:only-of-type {\n",
              "        vertical-align: middle;\n",
              "    }\n",
              "\n",
              "    .dataframe tbody tr th {\n",
              "        vertical-align: top;\n",
              "    }\n",
              "\n",
              "    .dataframe thead th {\n",
              "        text-align: right;\n",
              "    }\n",
              "</style>\n",
              "<table border=\"1\" class=\"dataframe\">\n",
              "  <thead>\n",
              "    <tr style=\"text-align: right;\">\n",
              "      <th></th>\n",
              "      <th>user_id</th>\n",
              "      <th>item_id</th>\n",
              "      <th>ratings</th>\n",
              "      <th>timestamp</th>\n",
              "      <th>item_name</th>\n",
              "      <th>user_num</th>\n",
              "      <th>item_num</th>\n",
              "    </tr>\n",
              "  </thead>\n",
              "  <tbody>\n",
              "    <tr>\n",
              "      <th>0</th>\n",
              "      <td>1</td>\n",
              "      <td>1193</td>\n",
              "      <td>5</td>\n",
              "      <td>978300760</td>\n",
              "      <td>One Flew Over the Cuckoo's Nest (1975)</td>\n",
              "      <td>0</td>\n",
              "      <td>1104</td>\n",
              "    </tr>\n",
              "    <tr>\n",
              "      <th>233796</th>\n",
              "      <td>5374</td>\n",
              "      <td>2770</td>\n",
              "      <td>5</td>\n",
              "      <td>962391108</td>\n",
              "      <td>Bowfinger (1999)</td>\n",
              "      <td>5373</td>\n",
              "      <td>2565</td>\n",
              "    </tr>\n",
              "    <tr>\n",
              "      <th>669852</th>\n",
              "      <td>1812</td>\n",
              "      <td>3635</td>\n",
              "      <td>5</td>\n",
              "      <td>974706848</td>\n",
              "      <td>Spy Who Loved Me, The (1977)</td>\n",
              "      <td>1811</td>\n",
              "      <td>3394</td>\n",
              "    </tr>\n",
              "    <tr>\n",
              "      <th>669546</th>\n",
              "      <td>3729</td>\n",
              "      <td>3633</td>\n",
              "      <td>5</td>\n",
              "      <td>966214949</td>\n",
              "      <td>On Her Majesty's Secret Service (1969)</td>\n",
              "      <td>3728</td>\n",
              "      <td>3392</td>\n",
              "    </tr>\n",
              "    <tr>\n",
              "      <th>233984</th>\n",
              "      <td>3163</td>\n",
              "      <td>215</td>\n",
              "      <td>5</td>\n",
              "      <td>968881392</td>\n",
              "      <td>Before Sunrise (1995)</td>\n",
              "      <td>3162</td>\n",
              "      <td>209</td>\n",
              "    </tr>\n",
              "    <tr>\n",
              "      <th>670441</th>\n",
              "      <td>2124</td>\n",
              "      <td>1960</td>\n",
              "      <td>5</td>\n",
              "      <td>974648678</td>\n",
              "      <td>Last Emperor, The (1987)</td>\n",
              "      <td>2123</td>\n",
              "      <td>1780</td>\n",
              "    </tr>\n",
              "    <tr>\n",
              "      <th>683739</th>\n",
              "      <td>1197</td>\n",
              "      <td>3911</td>\n",
              "      <td>5</td>\n",
              "      <td>974847105</td>\n",
              "      <td>Best in Show (2000)</td>\n",
              "      <td>1196</td>\n",
              "      <td>3664</td>\n",
              "    </tr>\n",
              "    <tr>\n",
              "      <th>234408</th>\n",
              "      <td>471</td>\n",
              "      <td>1250</td>\n",
              "      <td>5</td>\n",
              "      <td>976223196</td>\n",
              "      <td>Bridge on the River Kwai, The (1957)</td>\n",
              "      <td>470</td>\n",
              "      <td>1158</td>\n",
              "    </tr>\n",
              "    <tr>\n",
              "      <th>668514</th>\n",
              "      <td>3563</td>\n",
              "      <td>26</td>\n",
              "      <td>5</td>\n",
              "      <td>966785305</td>\n",
              "      <td>Othello (1995)</td>\n",
              "      <td>3562</td>\n",
              "      <td>25</td>\n",
              "    </tr>\n",
              "    <tr>\n",
              "      <th>668593</th>\n",
              "      <td>550</td>\n",
              "      <td>2253</td>\n",
              "      <td>5</td>\n",
              "      <td>976159942</td>\n",
              "      <td>Toys (1992)</td>\n",
              "      <td>549</td>\n",
              "      <td>2063</td>\n",
              "    </tr>\n",
              "    <tr>\n",
              "      <th>668433</th>\n",
              "      <td>5795</td>\n",
              "      <td>1956</td>\n",
              "      <td>5</td>\n",
              "      <td>958077445</td>\n",
              "      <td>Ordinary People (1980)</td>\n",
              "      <td>5794</td>\n",
              "      <td>1776</td>\n",
              "    </tr>\n",
              "    <tr>\n",
              "      <th>234125</th>\n",
              "      <td>1680</td>\n",
              "      <td>501</td>\n",
              "      <td>5</td>\n",
              "      <td>974713196</td>\n",
              "      <td>Naked (1993)</td>\n",
              "      <td>1679</td>\n",
              "      <td>487</td>\n",
              "    </tr>\n",
              "    <tr>\n",
              "      <th>669238</th>\n",
              "      <td>3964</td>\n",
              "      <td>3705</td>\n",
              "      <td>5</td>\n",
              "      <td>965669242</td>\n",
              "      <td>Bird on a Wire (1990)</td>\n",
              "      <td>3963</td>\n",
              "      <td>3463</td>\n",
              "    </tr>\n",
              "    <tr>\n",
              "      <th>234057</th>\n",
              "      <td>1242</td>\n",
              "      <td>1759</td>\n",
              "      <td>5</td>\n",
              "      <td>974909295</td>\n",
              "      <td>Four Days in September (1997)</td>\n",
              "      <td>1241</td>\n",
              "      <td>1603</td>\n",
              "    </tr>\n",
              "    <tr>\n",
              "      <th>234306</th>\n",
              "      <td>6013</td>\n",
              "      <td>506</td>\n",
              "      <td>5</td>\n",
              "      <td>958068477</td>\n",
              "      <td>Orlando (1993)</td>\n",
              "      <td>6012</td>\n",
              "      <td>492</td>\n",
              "    </tr>\n",
              "    <tr>\n",
              "      <th>232393</th>\n",
              "      <td>840</td>\n",
              "      <td>866</td>\n",
              "      <td>5</td>\n",
              "      <td>986502344</td>\n",
              "      <td>Bound (1996)</td>\n",
              "      <td>839</td>\n",
              "      <td>810</td>\n",
              "    </tr>\n",
              "    <tr>\n",
              "      <th>672426</th>\n",
              "      <td>1671</td>\n",
              "      <td>1391</td>\n",
              "      <td>5</td>\n",
              "      <td>974711770</td>\n",
              "      <td>Mars Attacks! (1996)</td>\n",
              "      <td>1670</td>\n",
              "      <td>1292</td>\n",
              "    </tr>\n",
              "    <tr>\n",
              "      <th>232316</th>\n",
              "      <td>5910</td>\n",
              "      <td>1683</td>\n",
              "      <td>5</td>\n",
              "      <td>957373752</td>\n",
              "      <td>Wings of the Dove, The (1997)</td>\n",
              "      <td>5909</td>\n",
              "      <td>1546</td>\n",
              "    </tr>\n",
              "    <tr>\n",
              "      <th>672029</th>\n",
              "      <td>543</td>\n",
              "      <td>1606</td>\n",
              "      <td>5</td>\n",
              "      <td>976215997</td>\n",
              "      <td>Kull the Conqueror (1997)</td>\n",
              "      <td>542</td>\n",
              "      <td>1475</td>\n",
              "    </tr>\n",
              "    <tr>\n",
              "      <th>672010</th>\n",
              "      <td>5837</td>\n",
              "      <td>2404</td>\n",
              "      <td>5</td>\n",
              "      <td>957843702</td>\n",
              "      <td>Rambo III (1988)</td>\n",
              "      <td>5836</td>\n",
              "      <td>2211</td>\n",
              "    </tr>\n",
              "    <tr>\n",
              "      <th>673278</th>\n",
              "      <td>1645</td>\n",
              "      <td>1033</td>\n",
              "      <td>5</td>\n",
              "      <td>975537783</td>\n",
              "      <td>Fox and the Hound, The (1981)</td>\n",
              "      <td>1644</td>\n",
              "      <td>968</td>\n",
              "    </tr>\n",
              "    <tr>\n",
              "      <th>232024</th>\n",
              "      <td>5421</td>\n",
              "      <td>1466</td>\n",
              "      <td>5</td>\n",
              "      <td>960154068</td>\n",
              "      <td>Donnie Brasco (1997)</td>\n",
              "      <td>5420</td>\n",
              "      <td>1356</td>\n",
              "    </tr>\n",
              "    <tr>\n",
              "      <th>232097</th>\n",
              "      <td>1267</td>\n",
              "      <td>860</td>\n",
              "      <td>5</td>\n",
              "      <td>974829565</td>\n",
              "      <td>Maybe, Maybe Not (Bewegte Mann, Der) (1994)</td>\n",
              "      <td>1266</td>\n",
              "      <td>804</td>\n",
              "    </tr>\n",
              "    <tr>\n",
              "      <th>671690</th>\n",
              "      <td>5626</td>\n",
              "      <td>2402</td>\n",
              "      <td>5</td>\n",
              "      <td>1005810998</td>\n",
              "      <td>Rambo: First Blood Part II (1985)</td>\n",
              "      <td>5625</td>\n",
              "      <td>2209</td>\n",
              "    </tr>\n",
              "    <tr>\n",
              "      <th>671005</th>\n",
              "      <td>2420</td>\n",
              "      <td>3639</td>\n",
              "      <td>5</td>\n",
              "      <td>974240133</td>\n",
              "      <td>Man with the Golden Gun, The (1974)</td>\n",
              "      <td>2419</td>\n",
              "      <td>3398</td>\n",
              "    </tr>\n",
              "    <tr>\n",
              "      <th>232922</th>\n",
              "      <td>3699</td>\n",
              "      <td>1684</td>\n",
              "      <td>5</td>\n",
              "      <td>966293151</td>\n",
              "      <td>Mrs. Dalloway (1997)</td>\n",
              "      <td>3698</td>\n",
              "      <td>1547</td>\n",
              "    </tr>\n",
              "    <tr>\n",
              "      <th>666961</th>\n",
              "      <td>4531</td>\n",
              "      <td>2248</td>\n",
              "      <td>5</td>\n",
              "      <td>964740482</td>\n",
              "      <td>Say Anything... (1989)</td>\n",
              "      <td>4530</td>\n",
              "      <td>2058</td>\n",
              "    </tr>\n",
              "    <tr>\n",
              "      <th>235774</th>\n",
              "      <td>1635</td>\n",
              "      <td>3793</td>\n",
              "      <td>5</td>\n",
              "      <td>974716244</td>\n",
              "      <td>X-Men (2000)</td>\n",
              "      <td>1634</td>\n",
              "      <td>3550</td>\n",
              "    </tr>\n",
              "    <tr>\n",
              "      <th>667427</th>\n",
              "      <td>5530</td>\n",
              "      <td>1013</td>\n",
              "      <td>5</td>\n",
              "      <td>959624074</td>\n",
              "      <td>Parent Trap, The (1961)</td>\n",
              "      <td>5529</td>\n",
              "      <td>948</td>\n",
              "    </tr>\n",
              "    <tr>\n",
              "      <th>666268</th>\n",
              "      <td>5649</td>\n",
              "      <td>262</td>\n",
              "      <td>5</td>\n",
              "      <td>958867411</td>\n",
              "      <td>Little Princess, A (1995)</td>\n",
              "      <td>5648</td>\n",
              "      <td>255</td>\n",
              "    </tr>\n",
              "  </tbody>\n",
              "</table>\n",
              "</div>\n",
              "    <div class=\"colab-df-buttons\">\n",
              "\n",
              "  <div class=\"colab-df-container\">\n",
              "    <button class=\"colab-df-convert\" onclick=\"convertToInteractive('df-94b29395-199f-4182-b80a-6d3d48c79129')\"\n",
              "            title=\"Convert this dataframe to an interactive table.\"\n",
              "            style=\"display:none;\">\n",
              "\n",
              "  <svg xmlns=\"http://www.w3.org/2000/svg\" height=\"24px\" viewBox=\"0 -960 960 960\">\n",
              "    <path d=\"M120-120v-720h720v720H120Zm60-500h600v-160H180v160Zm220 220h160v-160H400v160Zm0 220h160v-160H400v160ZM180-400h160v-160H180v160Zm440 0h160v-160H620v160ZM180-180h160v-160H180v160Zm440 0h160v-160H620v160Z\"/>\n",
              "  </svg>\n",
              "    </button>\n",
              "\n",
              "  <style>\n",
              "    .colab-df-container {\n",
              "      display:flex;\n",
              "      gap: 12px;\n",
              "    }\n",
              "\n",
              "    .colab-df-convert {\n",
              "      background-color: #E8F0FE;\n",
              "      border: none;\n",
              "      border-radius: 50%;\n",
              "      cursor: pointer;\n",
              "      display: none;\n",
              "      fill: #1967D2;\n",
              "      height: 32px;\n",
              "      padding: 0 0 0 0;\n",
              "      width: 32px;\n",
              "    }\n",
              "\n",
              "    .colab-df-convert:hover {\n",
              "      background-color: #E2EBFA;\n",
              "      box-shadow: 0px 1px 2px rgba(60, 64, 67, 0.3), 0px 1px 3px 1px rgba(60, 64, 67, 0.15);\n",
              "      fill: #174EA6;\n",
              "    }\n",
              "\n",
              "    .colab-df-buttons div {\n",
              "      margin-bottom: 4px;\n",
              "    }\n",
              "\n",
              "    [theme=dark] .colab-df-convert {\n",
              "      background-color: #3B4455;\n",
              "      fill: #D2E3FC;\n",
              "    }\n",
              "\n",
              "    [theme=dark] .colab-df-convert:hover {\n",
              "      background-color: #434B5C;\n",
              "      box-shadow: 0px 1px 3px 1px rgba(0, 0, 0, 0.15);\n",
              "      filter: drop-shadow(0px 1px 2px rgba(0, 0, 0, 0.3));\n",
              "      fill: #FFFFFF;\n",
              "    }\n",
              "  </style>\n",
              "\n",
              "    <script>\n",
              "      const buttonEl =\n",
              "        document.querySelector('#df-94b29395-199f-4182-b80a-6d3d48c79129 button.colab-df-convert');\n",
              "      buttonEl.style.display =\n",
              "        google.colab.kernel.accessAllowed ? 'block' : 'none';\n",
              "\n",
              "      async function convertToInteractive(key) {\n",
              "        const element = document.querySelector('#df-94b29395-199f-4182-b80a-6d3d48c79129');\n",
              "        const dataTable =\n",
              "          await google.colab.kernel.invokeFunction('convertToInteractive',\n",
              "                                                    [key], {});\n",
              "        if (!dataTable) return;\n",
              "\n",
              "        const docLinkHtml = 'Like what you see? Visit the ' +\n",
              "          '<a target=\"_blank\" href=https://colab.research.google.com/notebooks/data_table.ipynb>data table notebook</a>'\n",
              "          + ' to learn more about interactive tables.';\n",
              "        element.innerHTML = '';\n",
              "        dataTable['output_type'] = 'display_data';\n",
              "        await google.colab.output.renderOutput(dataTable, element);\n",
              "        const docLink = document.createElement('div');\n",
              "        docLink.innerHTML = docLinkHtml;\n",
              "        element.appendChild(docLink);\n",
              "      }\n",
              "    </script>\n",
              "  </div>\n",
              "\n",
              "\n",
              "<div id=\"df-ae2c1161-adce-43fd-afc1-a1988260c5b9\">\n",
              "  <button class=\"colab-df-quickchart\" onclick=\"quickchart('df-ae2c1161-adce-43fd-afc1-a1988260c5b9')\"\n",
              "            title=\"Suggest charts\"\n",
              "            style=\"display:none;\">\n",
              "\n",
              "<svg xmlns=\"http://www.w3.org/2000/svg\" height=\"24px\"viewBox=\"0 0 24 24\"\n",
              "     width=\"24px\">\n",
              "    <g>\n",
              "        <path d=\"M19 3H5c-1.1 0-2 .9-2 2v14c0 1.1.9 2 2 2h14c1.1 0 2-.9 2-2V5c0-1.1-.9-2-2-2zM9 17H7v-7h2v7zm4 0h-2V7h2v10zm4 0h-2v-4h2v4z\"/>\n",
              "    </g>\n",
              "</svg>\n",
              "  </button>\n",
              "\n",
              "<style>\n",
              "  .colab-df-quickchart {\n",
              "      --bg-color: #E8F0FE;\n",
              "      --fill-color: #1967D2;\n",
              "      --hover-bg-color: #E2EBFA;\n",
              "      --hover-fill-color: #174EA6;\n",
              "      --disabled-fill-color: #AAA;\n",
              "      --disabled-bg-color: #DDD;\n",
              "  }\n",
              "\n",
              "  [theme=dark] .colab-df-quickchart {\n",
              "      --bg-color: #3B4455;\n",
              "      --fill-color: #D2E3FC;\n",
              "      --hover-bg-color: #434B5C;\n",
              "      --hover-fill-color: #FFFFFF;\n",
              "      --disabled-bg-color: #3B4455;\n",
              "      --disabled-fill-color: #666;\n",
              "  }\n",
              "\n",
              "  .colab-df-quickchart {\n",
              "    background-color: var(--bg-color);\n",
              "    border: none;\n",
              "    border-radius: 50%;\n",
              "    cursor: pointer;\n",
              "    display: none;\n",
              "    fill: var(--fill-color);\n",
              "    height: 32px;\n",
              "    padding: 0;\n",
              "    width: 32px;\n",
              "  }\n",
              "\n",
              "  .colab-df-quickchart:hover {\n",
              "    background-color: var(--hover-bg-color);\n",
              "    box-shadow: 0 1px 2px rgba(60, 64, 67, 0.3), 0 1px 3px 1px rgba(60, 64, 67, 0.15);\n",
              "    fill: var(--button-hover-fill-color);\n",
              "  }\n",
              "\n",
              "  .colab-df-quickchart-complete:disabled,\n",
              "  .colab-df-quickchart-complete:disabled:hover {\n",
              "    background-color: var(--disabled-bg-color);\n",
              "    fill: var(--disabled-fill-color);\n",
              "    box-shadow: none;\n",
              "  }\n",
              "\n",
              "  .colab-df-spinner {\n",
              "    border: 2px solid var(--fill-color);\n",
              "    border-color: transparent;\n",
              "    border-bottom-color: var(--fill-color);\n",
              "    animation:\n",
              "      spin 1s steps(1) infinite;\n",
              "  }\n",
              "\n",
              "  @keyframes spin {\n",
              "    0% {\n",
              "      border-color: transparent;\n",
              "      border-bottom-color: var(--fill-color);\n",
              "      border-left-color: var(--fill-color);\n",
              "    }\n",
              "    20% {\n",
              "      border-color: transparent;\n",
              "      border-left-color: var(--fill-color);\n",
              "      border-top-color: var(--fill-color);\n",
              "    }\n",
              "    30% {\n",
              "      border-color: transparent;\n",
              "      border-left-color: var(--fill-color);\n",
              "      border-top-color: var(--fill-color);\n",
              "      border-right-color: var(--fill-color);\n",
              "    }\n",
              "    40% {\n",
              "      border-color: transparent;\n",
              "      border-right-color: var(--fill-color);\n",
              "      border-top-color: var(--fill-color);\n",
              "    }\n",
              "    60% {\n",
              "      border-color: transparent;\n",
              "      border-right-color: var(--fill-color);\n",
              "    }\n",
              "    80% {\n",
              "      border-color: transparent;\n",
              "      border-right-color: var(--fill-color);\n",
              "      border-bottom-color: var(--fill-color);\n",
              "    }\n",
              "    90% {\n",
              "      border-color: transparent;\n",
              "      border-bottom-color: var(--fill-color);\n",
              "    }\n",
              "  }\n",
              "</style>\n",
              "\n",
              "  <script>\n",
              "    async function quickchart(key) {\n",
              "      const quickchartButtonEl =\n",
              "        document.querySelector('#' + key + ' button');\n",
              "      quickchartButtonEl.disabled = true;  // To prevent multiple clicks.\n",
              "      quickchartButtonEl.classList.add('colab-df-spinner');\n",
              "      try {\n",
              "        const charts = await google.colab.kernel.invokeFunction(\n",
              "            'suggestCharts', [key], {});\n",
              "      } catch (error) {\n",
              "        console.error('Error during call to suggestCharts:', error);\n",
              "      }\n",
              "      quickchartButtonEl.classList.remove('colab-df-spinner');\n",
              "      quickchartButtonEl.classList.add('colab-df-quickchart-complete');\n",
              "    }\n",
              "    (() => {\n",
              "      let quickchartButtonEl =\n",
              "        document.querySelector('#df-ae2c1161-adce-43fd-afc1-a1988260c5b9 button');\n",
              "      quickchartButtonEl.style.display =\n",
              "        google.colab.kernel.accessAllowed ? 'block' : 'none';\n",
              "    })();\n",
              "  </script>\n",
              "</div>\n",
              "\n",
              "  <div id=\"id_f945cf28-aa05-43b6-98bd-7c271565fd99\">\n",
              "    <style>\n",
              "      .colab-df-generate {\n",
              "        background-color: #E8F0FE;\n",
              "        border: none;\n",
              "        border-radius: 50%;\n",
              "        cursor: pointer;\n",
              "        display: none;\n",
              "        fill: #1967D2;\n",
              "        height: 32px;\n",
              "        padding: 0 0 0 0;\n",
              "        width: 32px;\n",
              "      }\n",
              "\n",
              "      .colab-df-generate:hover {\n",
              "        background-color: #E2EBFA;\n",
              "        box-shadow: 0px 1px 2px rgba(60, 64, 67, 0.3), 0px 1px 3px 1px rgba(60, 64, 67, 0.15);\n",
              "        fill: #174EA6;\n",
              "      }\n",
              "\n",
              "      [theme=dark] .colab-df-generate {\n",
              "        background-color: #3B4455;\n",
              "        fill: #D2E3FC;\n",
              "      }\n",
              "\n",
              "      [theme=dark] .colab-df-generate:hover {\n",
              "        background-color: #434B5C;\n",
              "        box-shadow: 0px 1px 3px 1px rgba(0, 0, 0, 0.15);\n",
              "        filter: drop-shadow(0px 1px 2px rgba(0, 0, 0, 0.3));\n",
              "        fill: #FFFFFF;\n",
              "      }\n",
              "    </style>\n",
              "    <button class=\"colab-df-generate\" onclick=\"generateWithVariable('top_30_rated_movies')\"\n",
              "            title=\"Generate code using this dataframe.\"\n",
              "            style=\"display:none;\">\n",
              "\n",
              "  <svg xmlns=\"http://www.w3.org/2000/svg\" height=\"24px\"viewBox=\"0 0 24 24\"\n",
              "       width=\"24px\">\n",
              "    <path d=\"M7,19H8.4L18.45,9,17,7.55,7,17.6ZM5,21V16.75L18.45,3.32a2,2,0,0,1,2.83,0l1.4,1.43a1.91,1.91,0,0,1,.58,1.4,1.91,1.91,0,0,1-.58,1.4L9.25,21ZM18.45,9,17,7.55Zm-12,3A5.31,5.31,0,0,0,4.9,8.1,5.31,5.31,0,0,0,1,6.5,5.31,5.31,0,0,0,4.9,4.9,5.31,5.31,0,0,0,6.5,1,5.31,5.31,0,0,0,8.1,4.9,5.31,5.31,0,0,0,12,6.5,5.46,5.46,0,0,0,6.5,12Z\"/>\n",
              "  </svg>\n",
              "    </button>\n",
              "    <script>\n",
              "      (() => {\n",
              "      const buttonEl =\n",
              "        document.querySelector('#id_f945cf28-aa05-43b6-98bd-7c271565fd99 button.colab-df-generate');\n",
              "      buttonEl.style.display =\n",
              "        google.colab.kernel.accessAllowed ? 'block' : 'none';\n",
              "\n",
              "      buttonEl.onclick = () => {\n",
              "        google.colab.notebook.generateWithVariable('top_30_rated_movies');\n",
              "      }\n",
              "      })();\n",
              "    </script>\n",
              "  </div>\n",
              "\n",
              "    </div>\n",
              "  </div>\n"
            ]
          },
          "metadata": {},
          "execution_count": 167
        }
      ]
    },
    {
      "cell_type": "code",
      "source": [
        "top_30_valued_movies"
      ],
      "metadata": {
        "colab": {
          "base_uri": "https://localhost:8080/",
          "height": 775
        },
        "id": "05KtJ3sGuDQ1",
        "outputId": "dd67eb8a-a71c-44ae-e499-b939eab76db6"
      },
      "execution_count": 168,
      "outputs": [
        {
          "output_type": "execute_result",
          "data": {
            "text/plain": [
              "                                             item_name        values\n",
              "306                            Grand Day Out, A (1992)  1.335921e+08\n",
              "537  Seven Samurai (The Magnificent Seven) (Shichin...  6.679607e+07\n",
              "170  Wallace & Gromit: The Best of Aardman Animatio...  4.453071e+07\n",
              "275                         Wrong Trousers, The (1993)  3.339803e+07\n",
              "192                              Godfather, The (1972)  2.671843e+07\n",
              "200                                 Rear Window (1954)  2.226536e+07\n",
              "82                    Shawshank Redemption, The (1994)  1.908459e+07\n",
              "287                     Raiders of the Lost Ark (1981)  1.669902e+07\n",
              "22                          Usual Suspects, The (1995)  1.484357e+07\n",
              "737                            Sixth Sense, The (1999)  1.335921e+07\n",
              "69           Star Wars: Episode IV - A New Hope (1977)  1.214474e+07\n",
              "294                       To Kill a Mockingbird (1962)  1.113268e+07\n",
              "284             One Flew Over the Cuckoo's Nest (1975)  1.027632e+07\n",
              "134                            Schindler's List (1993)  9.542295e+06\n",
              "174                              Close Shave, A (1995)  8.906142e+06\n",
              "297                              Third Man, The (1949)  8.349508e+06\n",
              "205                                  Casablanca (1942)  7.858361e+06\n",
              "212      Sunset Blvd. (a.k.a. Sunset Boulevard) (1950)  7.421785e+06\n",
              "586                        Strangers on a Train (1951)  7.031165e+06\n",
              "304                     Godfather: Part II, The (1974)  6.679607e+06\n",
              "291                                12 Angry Men (1957)  6.361530e+06\n",
              "292                          Lawrence of Arabia (1962)  6.072370e+06\n",
              "541                         Saving Private Ryan (1998)  5.808353e+06\n",
              "213                                Citizen Kane (1941)  5.566339e+06\n",
              "206                         Maltese Falcon, The (1941)  5.343685e+06\n",
              "154                   Silence of the Lambs, The (1991)  5.138159e+06\n",
              "285  Star Wars: Episode V - The Empire Strikes Back...  4.947857e+06\n",
              "286                         Princess Bride, The (1987)  4.771148e+06\n",
              "326                                   Chinatown (1974)  4.606625e+06\n",
              "274             Monty Python and the Holy Grail (1974)  4.453071e+06"
            ],
            "text/html": [
              "\n",
              "  <div id=\"df-ca74384e-0170-4496-80e1-e936aaa9d63d\" class=\"colab-df-container\">\n",
              "    <div>\n",
              "<style scoped>\n",
              "    .dataframe tbody tr th:only-of-type {\n",
              "        vertical-align: middle;\n",
              "    }\n",
              "\n",
              "    .dataframe tbody tr th {\n",
              "        vertical-align: top;\n",
              "    }\n",
              "\n",
              "    .dataframe thead th {\n",
              "        text-align: right;\n",
              "    }\n",
              "</style>\n",
              "<table border=\"1\" class=\"dataframe\">\n",
              "  <thead>\n",
              "    <tr style=\"text-align: right;\">\n",
              "      <th></th>\n",
              "      <th>item_name</th>\n",
              "      <th>values</th>\n",
              "    </tr>\n",
              "  </thead>\n",
              "  <tbody>\n",
              "    <tr>\n",
              "      <th>306</th>\n",
              "      <td>Grand Day Out, A (1992)</td>\n",
              "      <td>1.335921e+08</td>\n",
              "    </tr>\n",
              "    <tr>\n",
              "      <th>537</th>\n",
              "      <td>Seven Samurai (The Magnificent Seven) (Shichin...</td>\n",
              "      <td>6.679607e+07</td>\n",
              "    </tr>\n",
              "    <tr>\n",
              "      <th>170</th>\n",
              "      <td>Wallace &amp; Gromit: The Best of Aardman Animatio...</td>\n",
              "      <td>4.453071e+07</td>\n",
              "    </tr>\n",
              "    <tr>\n",
              "      <th>275</th>\n",
              "      <td>Wrong Trousers, The (1993)</td>\n",
              "      <td>3.339803e+07</td>\n",
              "    </tr>\n",
              "    <tr>\n",
              "      <th>192</th>\n",
              "      <td>Godfather, The (1972)</td>\n",
              "      <td>2.671843e+07</td>\n",
              "    </tr>\n",
              "    <tr>\n",
              "      <th>200</th>\n",
              "      <td>Rear Window (1954)</td>\n",
              "      <td>2.226536e+07</td>\n",
              "    </tr>\n",
              "    <tr>\n",
              "      <th>82</th>\n",
              "      <td>Shawshank Redemption, The (1994)</td>\n",
              "      <td>1.908459e+07</td>\n",
              "    </tr>\n",
              "    <tr>\n",
              "      <th>287</th>\n",
              "      <td>Raiders of the Lost Ark (1981)</td>\n",
              "      <td>1.669902e+07</td>\n",
              "    </tr>\n",
              "    <tr>\n",
              "      <th>22</th>\n",
              "      <td>Usual Suspects, The (1995)</td>\n",
              "      <td>1.484357e+07</td>\n",
              "    </tr>\n",
              "    <tr>\n",
              "      <th>737</th>\n",
              "      <td>Sixth Sense, The (1999)</td>\n",
              "      <td>1.335921e+07</td>\n",
              "    </tr>\n",
              "    <tr>\n",
              "      <th>69</th>\n",
              "      <td>Star Wars: Episode IV - A New Hope (1977)</td>\n",
              "      <td>1.214474e+07</td>\n",
              "    </tr>\n",
              "    <tr>\n",
              "      <th>294</th>\n",
              "      <td>To Kill a Mockingbird (1962)</td>\n",
              "      <td>1.113268e+07</td>\n",
              "    </tr>\n",
              "    <tr>\n",
              "      <th>284</th>\n",
              "      <td>One Flew Over the Cuckoo's Nest (1975)</td>\n",
              "      <td>1.027632e+07</td>\n",
              "    </tr>\n",
              "    <tr>\n",
              "      <th>134</th>\n",
              "      <td>Schindler's List (1993)</td>\n",
              "      <td>9.542295e+06</td>\n",
              "    </tr>\n",
              "    <tr>\n",
              "      <th>174</th>\n",
              "      <td>Close Shave, A (1995)</td>\n",
              "      <td>8.906142e+06</td>\n",
              "    </tr>\n",
              "    <tr>\n",
              "      <th>297</th>\n",
              "      <td>Third Man, The (1949)</td>\n",
              "      <td>8.349508e+06</td>\n",
              "    </tr>\n",
              "    <tr>\n",
              "      <th>205</th>\n",
              "      <td>Casablanca (1942)</td>\n",
              "      <td>7.858361e+06</td>\n",
              "    </tr>\n",
              "    <tr>\n",
              "      <th>212</th>\n",
              "      <td>Sunset Blvd. (a.k.a. Sunset Boulevard) (1950)</td>\n",
              "      <td>7.421785e+06</td>\n",
              "    </tr>\n",
              "    <tr>\n",
              "      <th>586</th>\n",
              "      <td>Strangers on a Train (1951)</td>\n",
              "      <td>7.031165e+06</td>\n",
              "    </tr>\n",
              "    <tr>\n",
              "      <th>304</th>\n",
              "      <td>Godfather: Part II, The (1974)</td>\n",
              "      <td>6.679607e+06</td>\n",
              "    </tr>\n",
              "    <tr>\n",
              "      <th>291</th>\n",
              "      <td>12 Angry Men (1957)</td>\n",
              "      <td>6.361530e+06</td>\n",
              "    </tr>\n",
              "    <tr>\n",
              "      <th>292</th>\n",
              "      <td>Lawrence of Arabia (1962)</td>\n",
              "      <td>6.072370e+06</td>\n",
              "    </tr>\n",
              "    <tr>\n",
              "      <th>541</th>\n",
              "      <td>Saving Private Ryan (1998)</td>\n",
              "      <td>5.808353e+06</td>\n",
              "    </tr>\n",
              "    <tr>\n",
              "      <th>213</th>\n",
              "      <td>Citizen Kane (1941)</td>\n",
              "      <td>5.566339e+06</td>\n",
              "    </tr>\n",
              "    <tr>\n",
              "      <th>206</th>\n",
              "      <td>Maltese Falcon, The (1941)</td>\n",
              "      <td>5.343685e+06</td>\n",
              "    </tr>\n",
              "    <tr>\n",
              "      <th>154</th>\n",
              "      <td>Silence of the Lambs, The (1991)</td>\n",
              "      <td>5.138159e+06</td>\n",
              "    </tr>\n",
              "    <tr>\n",
              "      <th>285</th>\n",
              "      <td>Star Wars: Episode V - The Empire Strikes Back...</td>\n",
              "      <td>4.947857e+06</td>\n",
              "    </tr>\n",
              "    <tr>\n",
              "      <th>286</th>\n",
              "      <td>Princess Bride, The (1987)</td>\n",
              "      <td>4.771148e+06</td>\n",
              "    </tr>\n",
              "    <tr>\n",
              "      <th>326</th>\n",
              "      <td>Chinatown (1974)</td>\n",
              "      <td>4.606625e+06</td>\n",
              "    </tr>\n",
              "    <tr>\n",
              "      <th>274</th>\n",
              "      <td>Monty Python and the Holy Grail (1974)</td>\n",
              "      <td>4.453071e+06</td>\n",
              "    </tr>\n",
              "  </tbody>\n",
              "</table>\n",
              "</div>\n",
              "    <div class=\"colab-df-buttons\">\n",
              "\n",
              "  <div class=\"colab-df-container\">\n",
              "    <button class=\"colab-df-convert\" onclick=\"convertToInteractive('df-ca74384e-0170-4496-80e1-e936aaa9d63d')\"\n",
              "            title=\"Convert this dataframe to an interactive table.\"\n",
              "            style=\"display:none;\">\n",
              "\n",
              "  <svg xmlns=\"http://www.w3.org/2000/svg\" height=\"24px\" viewBox=\"0 -960 960 960\">\n",
              "    <path d=\"M120-120v-720h720v720H120Zm60-500h600v-160H180v160Zm220 220h160v-160H400v160Zm0 220h160v-160H400v160ZM180-400h160v-160H180v160Zm440 0h160v-160H620v160ZM180-180h160v-160H180v160Zm440 0h160v-160H620v160Z\"/>\n",
              "  </svg>\n",
              "    </button>\n",
              "\n",
              "  <style>\n",
              "    .colab-df-container {\n",
              "      display:flex;\n",
              "      gap: 12px;\n",
              "    }\n",
              "\n",
              "    .colab-df-convert {\n",
              "      background-color: #E8F0FE;\n",
              "      border: none;\n",
              "      border-radius: 50%;\n",
              "      cursor: pointer;\n",
              "      display: none;\n",
              "      fill: #1967D2;\n",
              "      height: 32px;\n",
              "      padding: 0 0 0 0;\n",
              "      width: 32px;\n",
              "    }\n",
              "\n",
              "    .colab-df-convert:hover {\n",
              "      background-color: #E2EBFA;\n",
              "      box-shadow: 0px 1px 2px rgba(60, 64, 67, 0.3), 0px 1px 3px 1px rgba(60, 64, 67, 0.15);\n",
              "      fill: #174EA6;\n",
              "    }\n",
              "\n",
              "    .colab-df-buttons div {\n",
              "      margin-bottom: 4px;\n",
              "    }\n",
              "\n",
              "    [theme=dark] .colab-df-convert {\n",
              "      background-color: #3B4455;\n",
              "      fill: #D2E3FC;\n",
              "    }\n",
              "\n",
              "    [theme=dark] .colab-df-convert:hover {\n",
              "      background-color: #434B5C;\n",
              "      box-shadow: 0px 1px 3px 1px rgba(0, 0, 0, 0.15);\n",
              "      filter: drop-shadow(0px 1px 2px rgba(0, 0, 0, 0.3));\n",
              "      fill: #FFFFFF;\n",
              "    }\n",
              "  </style>\n",
              "\n",
              "    <script>\n",
              "      const buttonEl =\n",
              "        document.querySelector('#df-ca74384e-0170-4496-80e1-e936aaa9d63d button.colab-df-convert');\n",
              "      buttonEl.style.display =\n",
              "        google.colab.kernel.accessAllowed ? 'block' : 'none';\n",
              "\n",
              "      async function convertToInteractive(key) {\n",
              "        const element = document.querySelector('#df-ca74384e-0170-4496-80e1-e936aaa9d63d');\n",
              "        const dataTable =\n",
              "          await google.colab.kernel.invokeFunction('convertToInteractive',\n",
              "                                                    [key], {});\n",
              "        if (!dataTable) return;\n",
              "\n",
              "        const docLinkHtml = 'Like what you see? Visit the ' +\n",
              "          '<a target=\"_blank\" href=https://colab.research.google.com/notebooks/data_table.ipynb>data table notebook</a>'\n",
              "          + ' to learn more about interactive tables.';\n",
              "        element.innerHTML = '';\n",
              "        dataTable['output_type'] = 'display_data';\n",
              "        await google.colab.output.renderOutput(dataTable, element);\n",
              "        const docLink = document.createElement('div');\n",
              "        docLink.innerHTML = docLinkHtml;\n",
              "        element.appendChild(docLink);\n",
              "      }\n",
              "    </script>\n",
              "  </div>\n",
              "\n",
              "\n",
              "<div id=\"df-56c92890-a292-495a-baf9-13053cfd1895\">\n",
              "  <button class=\"colab-df-quickchart\" onclick=\"quickchart('df-56c92890-a292-495a-baf9-13053cfd1895')\"\n",
              "            title=\"Suggest charts\"\n",
              "            style=\"display:none;\">\n",
              "\n",
              "<svg xmlns=\"http://www.w3.org/2000/svg\" height=\"24px\"viewBox=\"0 0 24 24\"\n",
              "     width=\"24px\">\n",
              "    <g>\n",
              "        <path d=\"M19 3H5c-1.1 0-2 .9-2 2v14c0 1.1.9 2 2 2h14c1.1 0 2-.9 2-2V5c0-1.1-.9-2-2-2zM9 17H7v-7h2v7zm4 0h-2V7h2v10zm4 0h-2v-4h2v4z\"/>\n",
              "    </g>\n",
              "</svg>\n",
              "  </button>\n",
              "\n",
              "<style>\n",
              "  .colab-df-quickchart {\n",
              "      --bg-color: #E8F0FE;\n",
              "      --fill-color: #1967D2;\n",
              "      --hover-bg-color: #E2EBFA;\n",
              "      --hover-fill-color: #174EA6;\n",
              "      --disabled-fill-color: #AAA;\n",
              "      --disabled-bg-color: #DDD;\n",
              "  }\n",
              "\n",
              "  [theme=dark] .colab-df-quickchart {\n",
              "      --bg-color: #3B4455;\n",
              "      --fill-color: #D2E3FC;\n",
              "      --hover-bg-color: #434B5C;\n",
              "      --hover-fill-color: #FFFFFF;\n",
              "      --disabled-bg-color: #3B4455;\n",
              "      --disabled-fill-color: #666;\n",
              "  }\n",
              "\n",
              "  .colab-df-quickchart {\n",
              "    background-color: var(--bg-color);\n",
              "    border: none;\n",
              "    border-radius: 50%;\n",
              "    cursor: pointer;\n",
              "    display: none;\n",
              "    fill: var(--fill-color);\n",
              "    height: 32px;\n",
              "    padding: 0;\n",
              "    width: 32px;\n",
              "  }\n",
              "\n",
              "  .colab-df-quickchart:hover {\n",
              "    background-color: var(--hover-bg-color);\n",
              "    box-shadow: 0 1px 2px rgba(60, 64, 67, 0.3), 0 1px 3px 1px rgba(60, 64, 67, 0.15);\n",
              "    fill: var(--button-hover-fill-color);\n",
              "  }\n",
              "\n",
              "  .colab-df-quickchart-complete:disabled,\n",
              "  .colab-df-quickchart-complete:disabled:hover {\n",
              "    background-color: var(--disabled-bg-color);\n",
              "    fill: var(--disabled-fill-color);\n",
              "    box-shadow: none;\n",
              "  }\n",
              "\n",
              "  .colab-df-spinner {\n",
              "    border: 2px solid var(--fill-color);\n",
              "    border-color: transparent;\n",
              "    border-bottom-color: var(--fill-color);\n",
              "    animation:\n",
              "      spin 1s steps(1) infinite;\n",
              "  }\n",
              "\n",
              "  @keyframes spin {\n",
              "    0% {\n",
              "      border-color: transparent;\n",
              "      border-bottom-color: var(--fill-color);\n",
              "      border-left-color: var(--fill-color);\n",
              "    }\n",
              "    20% {\n",
              "      border-color: transparent;\n",
              "      border-left-color: var(--fill-color);\n",
              "      border-top-color: var(--fill-color);\n",
              "    }\n",
              "    30% {\n",
              "      border-color: transparent;\n",
              "      border-left-color: var(--fill-color);\n",
              "      border-top-color: var(--fill-color);\n",
              "      border-right-color: var(--fill-color);\n",
              "    }\n",
              "    40% {\n",
              "      border-color: transparent;\n",
              "      border-right-color: var(--fill-color);\n",
              "      border-top-color: var(--fill-color);\n",
              "    }\n",
              "    60% {\n",
              "      border-color: transparent;\n",
              "      border-right-color: var(--fill-color);\n",
              "    }\n",
              "    80% {\n",
              "      border-color: transparent;\n",
              "      border-right-color: var(--fill-color);\n",
              "      border-bottom-color: var(--fill-color);\n",
              "    }\n",
              "    90% {\n",
              "      border-color: transparent;\n",
              "      border-bottom-color: var(--fill-color);\n",
              "    }\n",
              "  }\n",
              "</style>\n",
              "\n",
              "  <script>\n",
              "    async function quickchart(key) {\n",
              "      const quickchartButtonEl =\n",
              "        document.querySelector('#' + key + ' button');\n",
              "      quickchartButtonEl.disabled = true;  // To prevent multiple clicks.\n",
              "      quickchartButtonEl.classList.add('colab-df-spinner');\n",
              "      try {\n",
              "        const charts = await google.colab.kernel.invokeFunction(\n",
              "            'suggestCharts', [key], {});\n",
              "      } catch (error) {\n",
              "        console.error('Error during call to suggestCharts:', error);\n",
              "      }\n",
              "      quickchartButtonEl.classList.remove('colab-df-spinner');\n",
              "      quickchartButtonEl.classList.add('colab-df-quickchart-complete');\n",
              "    }\n",
              "    (() => {\n",
              "      let quickchartButtonEl =\n",
              "        document.querySelector('#df-56c92890-a292-495a-baf9-13053cfd1895 button');\n",
              "      quickchartButtonEl.style.display =\n",
              "        google.colab.kernel.accessAllowed ? 'block' : 'none';\n",
              "    })();\n",
              "  </script>\n",
              "</div>\n",
              "\n",
              "  <div id=\"id_5bff6300-f210-4d8c-b75f-5d9b9dcfcd7e\">\n",
              "    <style>\n",
              "      .colab-df-generate {\n",
              "        background-color: #E8F0FE;\n",
              "        border: none;\n",
              "        border-radius: 50%;\n",
              "        cursor: pointer;\n",
              "        display: none;\n",
              "        fill: #1967D2;\n",
              "        height: 32px;\n",
              "        padding: 0 0 0 0;\n",
              "        width: 32px;\n",
              "      }\n",
              "\n",
              "      .colab-df-generate:hover {\n",
              "        background-color: #E2EBFA;\n",
              "        box-shadow: 0px 1px 2px rgba(60, 64, 67, 0.3), 0px 1px 3px 1px rgba(60, 64, 67, 0.15);\n",
              "        fill: #174EA6;\n",
              "      }\n",
              "\n",
              "      [theme=dark] .colab-df-generate {\n",
              "        background-color: #3B4455;\n",
              "        fill: #D2E3FC;\n",
              "      }\n",
              "\n",
              "      [theme=dark] .colab-df-generate:hover {\n",
              "        background-color: #434B5C;\n",
              "        box-shadow: 0px 1px 3px 1px rgba(0, 0, 0, 0.15);\n",
              "        filter: drop-shadow(0px 1px 2px rgba(0, 0, 0, 0.3));\n",
              "        fill: #FFFFFF;\n",
              "      }\n",
              "    </style>\n",
              "    <button class=\"colab-df-generate\" onclick=\"generateWithVariable('top_30_valued_movies')\"\n",
              "            title=\"Generate code using this dataframe.\"\n",
              "            style=\"display:none;\">\n",
              "\n",
              "  <svg xmlns=\"http://www.w3.org/2000/svg\" height=\"24px\"viewBox=\"0 0 24 24\"\n",
              "       width=\"24px\">\n",
              "    <path d=\"M7,19H8.4L18.45,9,17,7.55,7,17.6ZM5,21V16.75L18.45,3.32a2,2,0,0,1,2.83,0l1.4,1.43a1.91,1.91,0,0,1,.58,1.4,1.91,1.91,0,0,1-.58,1.4L9.25,21ZM18.45,9,17,7.55Zm-12,3A5.31,5.31,0,0,0,4.9,8.1,5.31,5.31,0,0,0,1,6.5,5.31,5.31,0,0,0,4.9,4.9,5.31,5.31,0,0,0,6.5,1,5.31,5.31,0,0,0,8.1,4.9,5.31,5.31,0,0,0,12,6.5,5.46,5.46,0,0,0,6.5,12Z\"/>\n",
              "  </svg>\n",
              "    </button>\n",
              "    <script>\n",
              "      (() => {\n",
              "      const buttonEl =\n",
              "        document.querySelector('#id_5bff6300-f210-4d8c-b75f-5d9b9dcfcd7e button.colab-df-generate');\n",
              "      buttonEl.style.display =\n",
              "        google.colab.kernel.accessAllowed ? 'block' : 'none';\n",
              "\n",
              "      buttonEl.onclick = () => {\n",
              "        google.colab.notebook.generateWithVariable('top_30_valued_movies');\n",
              "      }\n",
              "      })();\n",
              "    </script>\n",
              "  </div>\n",
              "\n",
              "    </div>\n",
              "  </div>\n"
            ]
          },
          "metadata": {},
          "execution_count": 168
        }
      ]
    },
    {
      "cell_type": "code",
      "source": [],
      "metadata": {
        "id": "tkKE4_0AuFYd"
      },
      "execution_count": null,
      "outputs": []
    }
  ],
  "metadata": {
    "accelerator": "GPU",
    "colab": {
      "provenance": [],
      "gpuType": "T4"
    },
    "kernelspec": {
      "display_name": "Python 3",
      "name": "python3"
    },
    "language_info": {
      "name": "python"
    }
  },
  "nbformat": 4,
  "nbformat_minor": 0
}